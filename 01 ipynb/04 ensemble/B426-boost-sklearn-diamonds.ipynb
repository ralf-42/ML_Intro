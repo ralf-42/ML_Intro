{
 "cells": [
  {
   "cell_type": "markdown",
   "id": "fd913b05",
   "metadata": {
    "id": "fd913b05"
   },
   "source": [
    "<p><font size=\"6\" color='grey'> <b>\n",
    "Machine Learning\n",
    "</b></font> </br></p>\n",
    "<p><font size=\"5\" color='grey'> <b>\n",
    "Ensemble Learning - Sklearn Boosting - Diamonds\n",
    "</b></font> </br></p>\n",
    "\n",
    "---\n"
   ]
  },
  {
   "cell_type": "code",
   "execution_count": null,
   "id": "mXXj7nOBen6a",
   "metadata": {
    "id": "mXXj7nOBen6a"
   },
   "outputs": [],
   "source": [
    "#@title 🔧 Colab-Umgebung { display-mode: \"form\" }\n",
    "!uv pip install --system -q git+https://github.com/ralf-42/Python_Modules\n",
    "from ml_lib.utilities import get_ipinfo\n",
    "import sys\n",
    "print()\n",
    "print(f\"Python Version: {sys.version}\")\n",
    "print()\n",
    "get_ipinfo()"
   ]
  },
  {
   "cell_type": "markdown",
   "id": "_7yJp7s3suan",
   "metadata": {
    "id": "_7yJp7s3suan"
   },
   "source": [
    "# 0  | Install & Import\n",
    "***"
   ]
  },
  {
   "cell_type": "code",
   "execution_count": null,
   "id": "u8MCvc99s6rp",
   "metadata": {
    "id": "u8MCvc99s6rp"
   },
   "outputs": [],
   "source": [
    "# Install\n",
    "!uv pip install --system -q dtreeviz"
   ]
  },
  {
   "cell_type": "code",
   "execution_count": null,
   "id": "pBQua1zVs6i0",
   "metadata": {
    "id": "pBQua1zVs6i0"
   },
   "outputs": [],
   "source": [
    "# Import\n",
    "from pandas import read_csv, DataFrame\n",
    "import numpy as np\n",
    "\n",
    "from sklearn.preprocessing import OrdinalEncoder\n",
    "from sklearn.model_selection import train_test_split\n",
    "from sklearn.ensemble import AdaBoostRegressor, GradientBoostingRegressor\n",
    "from sklearn.tree import DecisionTreeRegressor\n",
    "from sklearn.metrics import r2_score, mean_absolute_error, mean_squared_error\n",
    "\n",
    "import plotly.express as px\n",
    "import plotly.subplots as sp\n",
    "\n",
    "from yellowbrick.regressor import residuals_plot\n",
    "from yellowbrick.regressor import prediction_error"
   ]
  },
  {
   "cell_type": "code",
   "execution_count": null,
   "id": "zTlLLUOTMLLR",
   "metadata": {
    "id": "zTlLLUOTMLLR"
   },
   "outputs": [],
   "source": [
    "# Warnung ausstellen\n",
    "import warnings\n",
    "warnings.filterwarnings(\"ignore\")"
   ]
  },
  {
   "cell_type": "markdown",
   "id": "56f799cf",
   "metadata": {
    "id": "56f799cf"
   },
   "source": [
    "# 1 | Understand\n",
    "---\n"
   ]
  },
  {
   "cell_type": "markdown",
   "id": "wuXBrsUx8MZE",
   "metadata": {
    "id": "wuXBrsUx8MZE"
   },
   "source": [
    "<p><font color='black' size=\"5\">📋 Checkliste</font></p>\n",
    "\n",
    "✅ Aufgabe verstehen</br>\n",
    "✅ Daten sammeln</br>\n",
    "✅ Statistische Analyse (Min, Max, Mean, Korrelation, ...)</br>\n",
    "✅ Datenvisualisierung (Streudiagramm, Box-Plot, ...)</br>\n",
    "✅ Prepare Schritte festlegen</br>"
   ]
  },
  {
   "cell_type": "markdown",
   "id": "238kOxGB7F1J",
   "metadata": {
    "id": "238kOxGB7F1J"
   },
   "source": [
    "<p><font color='black' size=\"5\">\n",
    "Anwendungsfall\n",
    "</font></p>\n",
    "\n",
    "---\n",
    "\n",
    "Dieser klassische Datensatz enthält die Preise und andere Attribute von fast 54.000 Diamanten.\n",
    "\n",
    "In diesem Notebook verwenden wir Boosting-Algorithmen aus Scikit-learn (AdaBoost und Gradient Boosting) für Regression.\n",
    "\n",
    "[DataSet](https://www.openml.org/search?type=data&status=active&id=42225)\n",
    "\n",
    "[Info](https://www.kaggle.com/datasets/shivam2503/diamonds)\n"
   ]
  },
  {
   "cell_type": "code",
   "execution_count": null,
   "id": "iVtMKF3YaBCS",
   "metadata": {
    "id": "iVtMKF3YaBCS"
   },
   "outputs": [],
   "source": [
    "df = read_csv(\n",
    "    \"https://raw.githubusercontent.com/ralf-42/ML_Intro/main/02%20data/diamonds.csv\",\n",
    "    usecols=[\n",
    "        \"carat\",\n",
    "        \"cut\",\n",
    "        \"color\",\n",
    "        \"clarity\",\n",
    "        \"depth\",\n",
    "        \"table\",\n",
    "        \"price\",\n",
    "    ],\n",
    ")"
   ]
  },
  {
   "cell_type": "code",
   "execution_count": null,
   "id": "TzV9bOwzaVfA",
   "metadata": {
    "id": "TzV9bOwzaVfA"
   },
   "outputs": [],
   "source": [
    "data = df.copy()\n",
    "target = data.pop(\"price\")"
   ]
  },
  {
   "cell_type": "markdown",
   "id": "cI6DokIxYrqn",
   "metadata": {
    "id": "cI6DokIxYrqn"
   },
   "source": [
    "<p><font color='black' size=\"5\">\n",
    "EDA (Exploratory Data Analysis) mit Pandas\n",
    "</font></p>"
   ]
  },
  {
   "cell_type": "code",
   "execution_count": null,
   "id": "8xekUEAEQB2w",
   "metadata": {
    "id": "8xekUEAEQB2w"
   },
   "outputs": [],
   "source": [
    "data.info()"
   ]
  },
  {
   "cell_type": "code",
   "execution_count": null,
   "id": "VN_xsuq6QEfh",
   "metadata": {
    "id": "VN_xsuq6QEfh"
   },
   "outputs": [],
   "source": [
    "data.describe().T"
   ]
  },
  {
   "cell_type": "code",
   "execution_count": null,
   "id": "VSbN8jwVbyi-",
   "metadata": {
    "id": "VSbN8jwVbyi-"
   },
   "outputs": [],
   "source": [
    "data.groupby(\"cut\").count()"
   ]
  },
  {
   "cell_type": "code",
   "execution_count": null,
   "id": "Km9G72rPb9-7",
   "metadata": {
    "id": "Km9G72rPb9-7"
   },
   "outputs": [],
   "source": [
    "data.groupby(\"color\").count()"
   ]
  },
  {
   "cell_type": "markdown",
   "id": "P7Rq1NeuiSOw",
   "metadata": {
    "id": "P7Rq1NeuiSOw"
   },
   "source": [
    "<p><font color='black' size=\"5\">\n",
    "EDA (Exploratory Data Analysis) mit Plotly\n",
    "</font></p>"
   ]
  },
  {
   "cell_type": "code",
   "execution_count": null,
   "id": "lfaml3jAhWh3",
   "metadata": {
    "id": "lfaml3jAhWh3"
   },
   "outputs": [],
   "source": [
    "title_ = \"Depth\"\n",
    "b1 = px.box(data[\"depth\"], title=title_, width=600, height=600)\n",
    "\n",
    "title_ = \"Carat\"\n",
    "b2 = px.box(data[\"carat\"], title=title_, width=600, height=600)\n",
    "\n",
    "title_ = \"Table\"\n",
    "b3 = px.box(data[\"table\"], title=title_, width=600, height=600)\n",
    "\n",
    "fig = sp.make_subplots(rows=1, cols=3, subplot_titles=(\"Depth\", \"Carat\", \"Table\"))\n",
    "\n",
    "for trace in b1.data:\n",
    "    fig.add_trace(trace, row=1, col=1)\n",
    "\n",
    "for trace in b2.data:\n",
    "    fig.add_trace(trace, row=1, col=2)\n",
    "\n",
    "for trace in b3.data:\n",
    "    fig.add_trace(trace, row=1, col=3)\n",
    "\n",
    "# Layout anpassen\n",
    "fig.update_layout(width=1000, height=500, title_text=\"Box-Plots\")\n",
    "\n",
    "# Plot anzeigen\n",
    "fig.show()"
   ]
  },
  {
   "cell_type": "markdown",
   "id": "FJO386kuM3vO",
   "metadata": {
    "id": "FJO386kuM3vO"
   },
   "source": [
    "# 2 |  Prepare\n",
    "\n",
    "---"
   ]
  },
  {
   "cell_type": "markdown",
   "id": "79WaarJ-5YXh",
   "metadata": {
    "id": "79WaarJ-5YXh"
   },
   "source": [
    "<p><font color='black' size=\"5\">📋 Checkliste</font></p>\n",
    "\n",
    "✅ Nicht benötigte Features löschen</br>\n",
    "✅ Datentyp ermitteln/ändern</br>\n",
    "✅ Duplikate ermitteln/löschen</br>\n",
    "✅ Missing Values behandeln</br>\n",
    "✅ Ausreißer behandeln</br>\n",
    "✅ Kategorischer Features Kodieren</br>\n",
    "✅ Numerischer Features skalieren</br>\n",
    "✅ Feature-Engineering (neue Features schaffen)</br>\n",
    "✅ Dimensionalität reduzieren</br>\n",
    "✅ Resampling (Over-/Undersampling)</br>\n",
    "✅ Pipeline erstellen/konfigurieren</br>\n",
    "✅ Train-Test-Split durchführen</br>"
   ]
  },
  {
   "cell_type": "markdown",
   "id": "posj4D1EFB1M",
   "metadata": {
    "id": "posj4D1EFB1M"
   },
   "source": [
    "<p><font color='black' size=\"5\">\n",
    "Datentyp ermitteln\n",
    "</font></p>"
   ]
  },
  {
   "cell_type": "code",
   "execution_count": null,
   "id": "M-55jh37FIae",
   "metadata": {
    "id": "M-55jh37FIae"
   },
   "outputs": [],
   "source": [
    "all_col = data.columns\n",
    "num_col = data.select_dtypes(include=\"number\").columns\n",
    "cat_col = data.select_dtypes(exclude=\"number\").columns"
   ]
  },
  {
   "cell_type": "markdown",
   "id": "ekl_GM7Vp14V",
   "metadata": {
    "id": "ekl_GM7Vp14V"
   },
   "source": [
    "<p><font color='black' size=\"5\">\n",
    "Kodierung\n",
    "</font></p>"
   ]
  },
  {
   "cell_type": "code",
   "execution_count": null,
   "id": "8m_5iny_cTWA",
   "metadata": {
    "id": "8m_5iny_cTWA"
   },
   "outputs": [],
   "source": [
    "cat_seq = [\n",
    "    [\"Fair\", \"Good\", \"Very Good\", \"Premium\", \"Ideal\"],\n",
    "    [\"J\", \"I\", \"H\", \"G\", \"F\", \"E\", \"D\"],\n",
    "    [\"I1\", \"SI2\", \"SI1\", \"VS2\", \"VS1\", \"VVS2\", \"VVS1\", \"IF\"],\n",
    "]\n",
    "coder = OrdinalEncoder(categories=cat_seq)\n",
    "data[cat_col] = coder.fit_transform(data[cat_col])"
   ]
  },
  {
   "cell_type": "markdown",
   "id": "5HZ5KQtWoJOq",
   "metadata": {
    "id": "5HZ5KQtWoJOq"
   },
   "source": [
    "<p><font color='black' size=\"5\">\n",
    "Train-Test-Set\n",
    "</font></p>\n"
   ]
  },
  {
   "cell_type": "code",
   "execution_count": null,
   "id": "PmDLLeh8oJOq",
   "metadata": {
    "id": "PmDLLeh8oJOq"
   },
   "outputs": [],
   "source": [
    "data_train, data_test, target_train, target_test = train_test_split(\n",
    "    data, target, test_size=0.30, random_state=42\n",
    ")\n",
    "data_train.shape, data_test.shape, target_train.shape, target_test.shape"
   ]
  },
  {
   "cell_type": "markdown",
   "id": "LTT1K4p0O2RX",
   "metadata": {
    "id": "LTT1K4p0O2RX"
   },
   "source": [
    "# 3 |  Modeling\n",
    "---"
   ]
  },
  {
   "cell_type": "markdown",
   "id": "Xd_3afpcyGM0",
   "metadata": {
    "id": "Xd_3afpcyGM0"
   },
   "source": [
    " <p><font color='black' size=\"5\">\n",
    "Modellauswahl & Training - AdaBoost Regressor\n",
    "</font></p>\n",
    "\n",
    "[AdaBoost Regressor Doku](https://scikit-learn.org/stable/modules/generated/sklearn.ensemble.AdaBoostRegressor.html)    "
   ]
  },
  {
   "cell_type": "markdown",
   "id": "qwRbbaLb5hph",
   "metadata": {
    "id": "qwRbbaLb5hph"
   },
   "source": [
    "<p><font color='black' size=\"5\">📋 Checkliste</font></p>\n",
    "\n",
    "✅ Modellauswahl treffen</br>\n",
    "✅ Pipeline erweitern/konfigurieren</br>\n",
    "✅ Training durchführen</br>\n",
    "✅ Hyperparameter Tuning</br>\n",
    "✅ Cross-Valdiation</br>\n",
    "✅ Bootstrapping</br>\n",
    "✅ Regularization</br>"
   ]
  },
  {
   "cell_type": "code",
   "execution_count": null,
   "id": "1c20517e",
   "metadata": {
    "id": "1c20517e"
   },
   "outputs": [],
   "source": [
    "# AdaBoost Regressor mit Decision Tree als Base Estimator\n",
    "ada_model = AdaBoostRegressor(\n",
    "    estimator=DecisionTreeRegressor(max_depth=4),\n",
    "    n_estimators=50,\n",
    "    learning_rate=1.0,\n",
    "    random_state=42\n",
    ")"
   ]
  },
  {
   "cell_type": "code",
   "execution_count": null,
   "id": "UA1Z2UDXKr38",
   "metadata": {
    "id": "UA1Z2UDXKr38"
   },
   "outputs": [],
   "source": [
    "ada_model.fit(data_train, target_train)"
   ]
  },
  {
   "cell_type": "markdown",
   "id": "Xd_3afpcyGM02",
   "metadata": {
    "id": "Xd_3afpcyGM02"
   },
   "source": [
    " <p><font color='black' size=\"5\">\n",
    "Modellauswahl & Training - Gradient Boosting Regressor\n",
    "</font></p>\n",
    "\n",
    "[Gradient Boosting Regressor Doku](https://scikit-learn.org/stable/modules/generated/sklearn.ensemble.GradientBoostingRegressor.html)    "
   ]
  },
  {
   "cell_type": "code",
   "execution_count": null,
   "id": "gb_reg_model",
   "metadata": {
    "id": "gb_reg_model"
   },
   "outputs": [],
   "source": [
    "# Gradient Boosting Regressor\n",
    "gb_model = GradientBoostingRegressor(\n",
    "    n_estimators=100,\n",
    "    learning_rate=0.1,\n",
    "    max_depth=3,\n",
    "    random_state=42\n",
    ")"
   ]
  },
  {
   "cell_type": "code",
   "execution_count": null,
   "id": "gb_reg_fit",
   "metadata": {
    "id": "gb_reg_fit"
   },
   "outputs": [],
   "source": [
    "gb_model.fit(data_train, target_train)"
   ]
  },
  {
   "cell_type": "markdown",
   "id": "RWsTyHsNbnuR",
   "metadata": {
    "id": "RWsTyHsNbnuR"
   },
   "source": [
    "# 4 | Evaluate\n",
    "---\n"
   ]
  },
  {
   "cell_type": "markdown",
   "id": "tryTlGkL_Jhl",
   "metadata": {
    "id": "tryTlGkL_Jhl"
   },
   "source": [
    "<p><font color='black' size=\"5\">📋 Checkliste</font></p>\n",
    "\n",
    "✅ Prognose (Train, Test) erstellen</br>\n",
    "✅ Modellgüte prüfen</br>\n",
    "✅ Residuenanalyse erstellen</br>\n",
    "✅ Feature Importance/Selektion prüfen</br>\n",
    "✅ Robustheitstest erstellen</br>\n",
    "✅ Modellinterpretation erstellen</br>\n",
    "✅ Sensitivitätsanalyse erstellen</br>\n",
    "✅ Kommunikation (Key Takeaways)</br>"
   ]
  },
  {
   "cell_type": "markdown",
   "id": "b-BH4JP1DhYZ",
   "metadata": {
    "id": "b-BH4JP1DhYZ"
   },
   "source": [
    "\n",
    "<p><font color='black' size=\"5\">\n",
    "Prediction - AdaBoost\n",
    "</font></p>\n"
   ]
  },
  {
   "cell_type": "code",
   "execution_count": null,
   "id": "kz4jorjJ9mBx",
   "metadata": {
    "id": "kz4jorjJ9mBx"
   },
   "outputs": [],
   "source": [
    "ada_train_pred = ada_model.predict(data_train)\n",
    "ada_test_pred = ada_model.predict(data_test)"
   ]
  },
  {
   "cell_type": "markdown",
   "id": "b-BH4JP1DhYZ2",
   "metadata": {
    "id": "b-BH4JP1DhYZ2"
   },
   "source": [
    "\n",
    "<p><font color='black' size=\"5\">\n",
    "Prediction - Gradient Boosting\n",
    "</font></p>\n"
   ]
  },
  {
   "cell_type": "code",
   "execution_count": null,
   "id": "gb_pred_reg",
   "metadata": {
    "id": \"gb_pred_reg\""
   },
   "outputs": [],
   "source": [
    "gb_train_pred = gb_model.predict(data_train)\n",
    "gb_test_pred = gb_model.predict(data_test)"
   ]
  },
  {
   "cell_type": "markdown",
   "id": "ZPmsH7sjDmwT",
   "metadata": {
    "id": "ZPmsH7sjDmwT"
   },
   "source": [
    "<p><font color='black' size=\"5\">\n",
    "Bestimmtheitsmass (R²) Vergleich\n",
    "</font></p>"
   ]
  },
  {
   "cell_type": "code",
   "execution_count": null,
   "id": "r2_comparison",
   "metadata": {
    "id": "r2_comparison"
   },
   "outputs": [],
   "source": [
    "# AdaBoost R²\n",
    "ada_r2_train = r2_score(target_train, ada_train_pred)\n",
    "ada_r2_test = r2_score(target_test, ada_test_pred)\n",
    "\n",
    "print(f\"AdaBoost -- Train -- R²: {ada_r2_train:5.3f}\")\n",
    "print(f\"AdaBoost -- Test  -- R²: {ada_r2_test:5.3f}\")\n",
    "print()\n",
    "\n",
    "# Gradient Boosting R²\n",
    "gb_r2_train = r2_score(target_train, gb_train_pred)\n",
    "gb_r2_test = r2_score(target_test, gb_test_pred)\n",
    "\n",
    "print(f\"Gradient Boosting -- Train -- R²: {gb_r2_train:5.3f}\")\n",
    "print(f\"Gradient Boosting -- Test  -- R²: {gb_r2_test:5.3f}\")"
   ]
  },
  {
   "cell_type": "markdown",
   "id": "tKtJ1BdN57tT",
   "metadata": {
    "id": "tKtJ1BdN57tT"
   },
   "source": [
    "<p><font color='black' size=\"5\">\n",
    "Mean Absolute Error (MAE) Vergleich\n",
    "</font></p>"
   ]
  },
  {
   "cell_type": "code",
   "execution_count": null,
   "id": "mae_comparison",
   "metadata": {
    "id": "mae_comparison"
   },
   "outputs": [],
   "source": [
    "# AdaBoost MAE\n",
    "ada_mae_test = mean_absolute_error(target_test, ada_test_pred)\n",
    "print(f\"AdaBoost -- Test -- MAE: {ada_mae_test:5.2f}\")\n",
    "\n",
    "# Gradient Boosting MAE\n",
    "gb_mae_test = mean_absolute_error(target_test, gb_test_pred)\n",
    "print(f\"Gradient Boosting -- Test -- MAE: {gb_mae_test:5.2f}\")"
   ]
  },
  {
   "cell_type": "markdown",
   "id": "rmse_comparison",
   "metadata": {
    "id": "rmse_comparison"
   },
   "source": [
    "<p><font color='black' size=\"5\">\n",
    "Root Mean Squared Error (RMSE) Vergleich\n",
    "</font></p>"
   ]
  },
  {
   "cell_type": "code",
   "execution_count": null,
   "id": "rmse_comparison_code",
   "metadata": {
    "id": "rmse_comparison_code"
   },
   "outputs": [],
   "source": [
    "# AdaBoost RMSE\n",
    "ada_rmse_test = np.sqrt(mean_squared_error(target_test, ada_test_pred))\n",
    "print(f\"AdaBoost -- Test -- RMSE: {ada_rmse_test:5.2f}\")\n",
    "\n",
    "# Gradient Boosting RMSE\n",
    "gb_rmse_test = np.sqrt(mean_squared_error(target_test, gb_test_pred))\n",
    "print(f\"Gradient Boosting -- Test -- RMSE: {gb_rmse_test:5.2f}\")"
   ]
  },
  {
   "cell_type": "markdown",
   "id": "ih-OujKLfT9j",
   "metadata": {
    "id": "ih-OujKLfT9j"
   },
   "source": [
    "<p><font color='black' size=\"5\">\n",
    "Aufbau Analysewürfel\n",
    "</font></p>"
   ]
  },
  {
   "cell_type": "code",
   "execution_count": null,
   "id": "nfeuubs-fNgh",
   "metadata": {
    "id": "nfeuubs-fNgh"
   },
   "outputs": [],
   "source": [
    "# Übernahme der Testdaten\n",
    "cube = data_test.copy()\n",
    "cube.reset_index(inplace=True)\n",
    "\n",
    "# Übernahme Target real & predict\n",
    "cube[\"real\"] = DataFrame(target_test.values, columns=[\"real\"])\n",
    "cube[\"ada_predict\"] = DataFrame(ada_test_pred, columns=[\"ada_predict\"])\n",
    "cube[\"gb_predict\"] = DataFrame(gb_test_pred, columns=[\"gb_predict\"])"
   ]
  },
  {
   "cell_type": "markdown",
   "id": "jYMSNLZIfcqf",
   "metadata": {
    "id": "jYMSNLZIfcqf"
   },
   "source": [
    "<p><font color='black' size=\"5\">\n",
    "Visualisierung real vs predict\n",
    "</font></p>"
   ]
  },
  {
   "cell_type": "code",
   "execution_count": null,
   "id": "u2kNPGjnfbRV",
   "metadata": {
    "id": "u2kNPGjnfbRV"
   },
   "outputs": [],
   "source": [
    "# Boxplot Vergleich\n",
    "title_ = \"Boxplot real vs predictions\"\n",
    "px.box(cube[[\"real\", \"ada_predict\", \"gb_predict\"]], title=title_, width=800, height=600)"
   ]
  },
  {
   "cell_type": "code",
   "execution_count": null,
   "id": "BXdPfS1UfbRW",
   "metadata": {
    "id": "BXdPfS1UfbRW"
   },
   "outputs": [],
   "source": [
    "# Histogramm Vergleich\n",
    "title_ = \"Histogramm Prices real vs predictions\"\n",
    "fig = px.histogram(\n",
    "    cube, \n",
    "    x=[\"real\", \"ada_predict\", \"gb_predict\"], \n",
    "    nbins=15, \n",
    "    text_auto=\".0f\", \n",
    "    title=title_\n",
    ")\n",
    "fig.update_layout(barmode=\"overlay\", bargap=0.2, width=1000, height=600)\n",
    "fig.update_traces(opacity=0.6)\n",
    "fig.show()"
   ]
  },
  {
   "cell_type": "markdown",
   "id": "qW1ye_E3f6RV",
   "metadata": {
    "id": "qW1ye_E3f6RV"
   },
   "source": [
    "<p><font color='black' size=\"5\">\n",
    "Abweichungsanalyse\n",
    "</font></p>"
   ]
  },
  {
   "cell_type": "code",
   "execution_count": null,
   "id": "yYw093FPqk_d",
   "metadata": {
    "id": "yYw093FPqk_d"
   },
   "outputs": [],
   "source": [
    "cube[\"ada_abs_error\"] = abs(cube[\"real\"] - cube[\"ada_predict\"])\n",
    "cube[\"gb_abs_error\"] = abs(cube[\"real\"] - cube[\"gb_predict\"])\n",
    "cube[\"ada_rel_error%\"] = abs((cube[\"real\"] - cube[\"ada_predict\"]) / cube[\"real\"] * 100)\n",
    "cube[\"gb_rel_error%\"] = abs((cube[\"real\"] - cube[\"gb_predict\"]) / cube[\"real\"] * 100)\n",
    "\n",
    "print(\"Fehlerstatistiken:\")\n",
    "print(f\"AdaBoost - Durchschnittlicher absoluter Fehler: {cube['ada_abs_error'].mean():.2f}\")\n",
    "print(f\"AdaBoost - Durchschnittlicher relativer Fehler: {cube['ada_rel_error%'].mean():.2f}%\")\n",
    "print(f\"Gradient Boosting - Durchschnittlicher absoluter Fehler: {cube['gb_abs_error'].mean():.2f}\")\n",
    "print(f\"Gradient Boosting - Durchschnittlicher relativer Fehler: {cube['gb_rel_error%'].mean():.2f}%\")"
   ]
  },
  {
   "cell_type": "markdown",
   "id": "OQL8PxN8l-Od",
   "metadata": {
    "id": "OQL8PxN8l-Od"
   },
   "source": [
    "<p><font color='black' size=\"5\">\n",
    "Feature Importance Vergleich\n",
    "</font></p>"
   ]
  },
  {
   "cell_type": "code",
   "execution_count": null,
   "id": "X-0UcfttlYdB",
   "metadata": {
    "id": "X-0UcfttlYdB"
   },
   "outputs": [],
   "source": [
    "# AdaBoost Feature Importance\n",
    "fig1 = px.bar(\n",
    "    x=ada_model.feature_importances_,\n",
    "    y=data.columns,\n",
    "    title=\"AdaBoost Feature Importance\",\n",
    "    text_auto=\".3f\",\n",
    "    width=500,\n",
    "    height=400,\n",
    ").update_yaxes(categoryorder=\"total ascending\")\n",
    "\n",
    "# Gradient Boosting Feature Importance\n",
    "fig2 = px.bar(\n",
    "    x=gb_model.feature_importances_,\n",
    "    y=data.columns,\n",
    "    title=\"Gradient Boosting Feature Importance\",\n",
    "    text_auto=\".3f\",\n",
    "    width=500,\n",
    "    height=400,\n",
    ").update_yaxes(categoryorder=\"total ascending\")\n",
    "\n",
    "# Subplots erstellen\n",
    "fig = sp.make_subplots(\n",
    "    rows=1, cols=2, subplot_titles=(\"AdaBoost\", \"Gradient Boosting\")\n",
    ")\n",
    "\n",
    "for trace in fig1.data:\n",
    "    fig.add_trace(trace, row=1, col=1)\n",
    "for trace in fig2.data:\n",
    "    fig.add_trace(trace, row=1, col=2)\n",
    "\n",
    "fig.update_layout(width=1000, height=500, title_text=\"Feature Importance Vergleich\")\n",
    "fig.show()"
   ]
  },
  {
   "cell_type": "markdown",
   "id": "PD5IftKdcfbU",
   "metadata": {
    "id": "PD5IftKdcfbU"
   },
   "source": [
    "<p><font color='black' size=\"5\">\n",
    "Residuals Plot - AdaBoost\n",
    "</font></p>"
   ]
  },
  {
   "cell_type": "code",
   "execution_count": null,
   "id": "gSz2AyglcWMC",
   "metadata": {
    "id": "gSz2AyglcWMC"
   },
   "outputs": [],
   "source": [
    "_ = residuals_plot(ada_model, data_train, target_train, data_test, target_test)"
   ]
  },
  {
   "cell_type": "markdown",
   "id": "PD5IftKdcfbU2",
   "metadata": {
    "id": "PD5IftKdcfbU2"
   },
   "source": [
    "<p><font color='black' size=\"5\">\n",
    "Residuals Plot - Gradient Boosting\n",
    "</font></p>"
   ]
  },
  {
   "cell_type": "code",
   "execution_count": null,
   "id": "gSz2AyglcWMC2",
   "metadata": {
    "id": "gSz2AyglcWMC2"
   },
   "outputs": [],
   "source": [
    "_ = residuals_plot(gb_model, data_train, target_train, data_test, target_test)"
   ]
  },
  {
   "cell_type": "markdown",
   "id": "model_summary",
   "metadata": {
    "id": "model_summary"
   },
   "source": [
    "<p><font color='black' size=\"5\">\n",
    "Modellvergleich - Zusammenfassung\n",
    "</font></p>"
   ]
  },
  {
   "cell_type": "code",
   "execution_count": null,
   "id": "model_comparison_summary",
   "metadata": {
    "id": "model_comparison_summary"
   },
   "outputs": [],
   "source": [
    "# Zusammenfassung der Ergebnisse\n",
    "results = DataFrame({\n",
    "    'Model': ['AdaBoost', 'Gradient Boosting'],\n",
    "    'Train_R2': [ada_r2_train, gb_r2_train],\n",
    "    'Test_R2': [ada_r2_test, gb_r2_test],\n",
    "    'Test_MAE': [ada_mae_test, gb_mae_test],\n",
    "    'Test_RMSE': [ada_rmse_test, gb_rmse_test],\n",
    "    'Overfitting': [ada_r2_train - ada_r2_test, gb_r2_train - gb_r2_test]\n",
    "})\n",
    "\n",
    "results.round(3)"
   ]
  },
  {
   "cell_type": "markdown",
   "id": "GBZupCVgGybW",
   "metadata": {
    "id": "GBZupCVgGybW"
   },
   "source": [
    "# 5 | Deploy\n",
    "---"
   ]
  },
  {
   "cell_type": "markdown",
   "id": "bVVOswS6rHVF",
   "metadata": {
    "id": "bVVOswS6rHVF"
   },
   "source": [
    "<p><font color='black' size=\"5\">📋 Checkliste</font></p>\n",
    "\n",
    "✅ Modellexport und -speicherung</br>\n",
    "✅ Abhängigkeiten und Umgebung</br>\n",
    "✅ Sicherheit und Datenschutz</br>\n",
    "✅ In die Produktion integrieren</br>\n",
    "✅ Tests und Validierung</br>\n",
    "✅ Dokumentation & Wartung</br>"
   ]
  }
 ],
 "metadata": {
  "colab": {
   "collapsed_sections": [
    "_7yJp7s3suan",
    "56f799cf",
    "FJO386kuM3vO",
    "LTT1K4p0O2RX",
    "RWsTyHsNbnuR",
    "GBZupCVgGybW"
   ],
   "provenance": [],
   "toc_visible": true
  },
  "interpreter": {
   "hash": "5cea19e863d99f842bb8da0fbb59db822ac0a240937e83b89870ca5922c44ffe"
  },
  "kernelspec": {
   "display_name": "Python 3",
   "name": "python3"
  },
  "language_info": {
   "codemirror_mode": {
    "name": "ipython",
    "version": 3
   },
   "file_extension": ".py",
   "mimetype": "text/x-python",
   "name": "python",
   "nbconvert_exporter": "python",
   "pygments_lexer": "ipython3",
   "version": "3.9.6"
  }
 },
 "nbformat": 4,
 "nbformat_minor": 5
}