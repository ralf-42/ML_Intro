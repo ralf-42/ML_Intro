{
 "cells": [
  {
   "cell_type": "markdown",
   "metadata": {
    "id": "fd913b05"
   },
   "source": [
    "<p><font size=\"6\" color='grey'> <b>\n",
    "Machine Learning\n",
    "</b></font> </br></p>\n",
    "<p><font size=\"5\" color='grey'> <b>\n",
    "Cross Validation - Decision Tree - Titanic\n",
    "</b></font> </br></p>\n",
    "\n",
    "---\n"
   ]
  },
  {
   "cell_type": "code",
   "source": [
    "#@title 🔧 Colab-Umgebung { display-mode: \"form\" }\n",
    "!uv pip install --system -q git+https://github.com/ralf-42/Python_Modules\n",
    "from ml_lib.utilities import get_ipinfo\n",
    "import sys\n",
    "print()\n",
    "print(f\"Python Version: {sys.version}\")\n",
    "print()\n",
    "get_ipinfo()"
   ],
   "metadata": {
    "id": "fG2Fvk32DDXS"
   },
   "execution_count": null,
   "outputs": []
  },
  {
   "cell_type": "markdown",
   "source": "# 0  | Install & Import\n***",
   "metadata": {
    "id": "_7yJp7s3suan"
   }
  },
  {
   "cell_type": "code",
   "source": [
    "# Install"
   ],
   "metadata": {
    "id": "u8MCvc99s6rp"
   },
   "execution_count": null,
   "outputs": []
  },
  {
   "cell_type": "code",
   "source": [
    "# Import\n",
    "from pandas import read_csv, DataFrame\n",
    "import numpy as np\n",
    "\n",
    "from sklearn.impute import SimpleImputer\n",
    "from sklearn.preprocessing import OrdinalEncoder, MinMaxScaler\n",
    "from sklearn.model_selection import train_test_split\n",
    "from sklearn.tree import DecisionTreeClassifier\n",
    "from sklearn.model_selection import (\n",
    "    StratifiedKFold,\n",
    "    KFold,\n",
    "    LeaveOneOut,\n",
    "    cross_validate\n",
    ")\n",
    "from sklearn.metrics import (\n",
    "    accuracy_score,\n",
    "    confusion_matrix,\n",
    "    ConfusionMatrixDisplay,\n",
    "    classification_report,\n",
    ")\n",
    "\n",
    "import plotly.express as px\n",
    "import plotly.subplots as sp"
   ],
   "metadata": {
    "id": "pBQua1zVs6i0"
   },
   "execution_count": null,
   "outputs": []
  },
  {
   "cell_type": "code",
   "execution_count": null,
   "metadata": {
    "id": "cp3VnhOPFov8"
   },
   "outputs": [],
   "source": [
    "# Warnung ausstellen\n",
    "import warnings\n",
    "warnings.filterwarnings(\"ignore\")"
   ]
  },
  {
   "cell_type": "markdown",
   "metadata": {
    "id": "56f799cf"
   },
   "source": "# 1  | Understand\n***"
  },
  {
   "cell_type": "markdown",
   "metadata": {
    "id": "eOaj2_dy_Jgc"
   },
   "source": [
    "<p><font color='black' size=\"5\">📋 Checkliste</font></p>\n",
    "\n",
    "✅ Aufgabe verstehen</br>\n",
    "✅ Daten sammeln</br>\n",
    "✅ Statistische Analyse (Min, Max, Mean, Korrelation, ...)</br>\n",
    "✅ Datenvisualisierung (Streudiagramm, Box-Plot, ...)</br>\n",
    "✅ Prepare Schritte festlegen</br>"
   ]
  },
  {
   "cell_type": "markdown",
   "metadata": {
    "id": "dd8ea577"
   },
   "source": [
    "<p><font color='black' size=\"5\">\n",
    "📒 Anwendungsfall\n",
    "</font></p>\n",
    "\n",
    "Dies ist der legendäre Titanic ML-Wettbewerb – die beste erste Herausforderung, um in ML-Modellierung einzutauchen.\n",
    "\n",
    "Die Aufgabe ist einfach: Verwenden Sie maschinelles Lernen, um ein Modell zu erstellen, das vorhersagt, welche Passagiere den Schiffbruch der Titanic überlebt haben.\n",
    "\n",
    "[Titanic Org](https://www.encyclopedia-titanica.org/)\n",
    "\n",
    "[DataSet](https://www.openml.org/search?type=data&status=active&id=41265)\n",
    "\n",
    "[Info](https://www.kaggle.com/competitions/titanic/data)\n",
    "\n"
   ]
  },
  {
   "cell_type": "markdown",
   "source": [
    "**Datenfelder:**   \n",
    "+ Age: Alter\n",
    "+ Fare: Ticketpreis\n",
    "+ Sex: Geschlecht (0 = männlich, 1 = weiblich)\n",
    "+ sibsp: Der Datensatz definiert Familienbeziehungen auf diese Weise ... Geschwister = Bruder, Schwester, Stiefbruder, Stiefschwester Ehepartner = Ehemann, Ehefrau (Geliebte und Verlobte wurden ignoriert)\n",
    "+ parch: Der Datensatz definiert Familienbeziehungen auf diese Weise ... Elternteil = Mutter, Vater Kind = Tochter, Sohn, Stieftochter, Stiefsohn. Einige Kinder reisten nur mit einem Kindermädchen, daher ist für sie Parch=0\n",
    "+ Pclass: Passagierklasse, 1.- 3. Klasse\n",
    "+ Embarked: Hafen der Einschiffung"
   ],
   "metadata": {
    "id": "4qdgVQ1i-5nA"
   }
  },
  {
   "cell_type": "code",
   "execution_count": null,
   "metadata": {
    "id": "GWpd05LjmiUX"
   },
   "outputs": [],
   "source": [
    "df = read_csv(\n",
    "    \"https://raw.githubusercontent.com/ralf-42/ML_Intro/main/02%20data/Titanic.csv\",\n",
    "    usecols=[\"pclass\", \"survived\", \"sex\", \"age\", \"sibsp\", \"parch\"],\n",
    ")"
   ]
  },
  {
   "cell_type": "code",
   "source": [
    "data = df.copy()\n",
    "target = data.pop(\"survived\")"
   ],
   "metadata": {
    "id": "TWoyGE-91TMl"
   },
   "execution_count": null,
   "outputs": []
  },
  {
   "cell_type": "markdown",
   "metadata": {
    "id": "cI6DokIxYrqn"
   },
   "source": [
    "<p><font color='black' size=\"5\">\n",
    "🔎 EDA (Exploratory Data Analysis) mit Pandas\n",
    "</font></p>"
   ]
  },
  {
   "cell_type": "code",
   "execution_count": null,
   "metadata": {
    "id": "8xekUEAEQB2w"
   },
   "outputs": [],
   "source": [
    "data.info()"
   ]
  },
  {
   "cell_type": "code",
   "execution_count": null,
   "metadata": {
    "id": "VN_xsuq6QEfh"
   },
   "outputs": [],
   "source": [
    "data.describe().T"
   ]
  },
  {
   "cell_type": "code",
   "execution_count": null,
   "metadata": {
    "id": "DtKytBBpZf8R"
   },
   "outputs": [],
   "source": [
    "data.groupby(\"sex\").count()"
   ]
  },
  {
   "cell_type": "code",
   "execution_count": null,
   "metadata": {
    "id": "PiWQ734VWtrF"
   },
   "outputs": [],
   "source": [
    "target.value_counts()"
   ]
  },
  {
   "cell_type": "markdown",
   "metadata": {
    "id": "FJO386kuM3vO"
   },
   "source": "# 2 | Prepare\n\n---"
  },
  {
   "cell_type": "markdown",
   "source": [
    "<p><font color='black' size=\"5\">📋 Checkliste</font></p>\n",
    "\n",
    "✅ Nicht benötigte Features löschen</br>\n",
    "✅ Datentyp ermitteln/ändern</br>\n",
    "✅ Duplikate ermitteln/löschen</br>\n",
    "✅ Missing Values behandeln</br>\n",
    "✅ Ausreißer behandeln</br>\n",
    "✅ Kategorischer Features Kodieren</br>\n",
    "✅ Numerischer Features skalieren</br>\n",
    "✅ Feature-Engineering (neue Features schaffen)</br>\n",
    "✅ Dimensionalität reduzieren</br>\n",
    "✅ Resampling (Over-/Undersampling)</br>\n",
    "✅ Pipeline erstellen/konfigurieren</br>\n",
    "✅ Train-Test-Split durchführen</br>"
   ],
   "metadata": {
    "id": "XvEg6XM0Fzfa"
   }
  },
  {
   "cell_type": "markdown",
   "source": [
    "<p><font color='black' size=\"5\">\n",
    "Datentyp ermitteln\n",
    "</font></p>"
   ],
   "metadata": {
    "id": "m15k_T9KvqLh"
   }
  },
  {
   "cell_type": "code",
   "source": [
    "all_col = data.columns\n",
    "num_col = data.select_dtypes(include=\"number\").columns\n",
    "cat_col = data.select_dtypes(exclude=\"number\").columns"
   ],
   "metadata": {
    "id": "ZDXY6gWoks7m"
   },
   "execution_count": null,
   "outputs": []
  },
  {
   "cell_type": "markdown",
   "metadata": {
    "id": "QZ_ww-OmUYRY"
   },
   "source": [
    "<p><font color='black' size=\"5\">\n",
    "Missing Values\n",
    "</font></p>"
   ]
  },
  {
   "cell_type": "code",
   "execution_count": null,
   "metadata": {
    "id": "_TqtBKRRDnP7"
   },
   "outputs": [],
   "source": [
    "mv = data.isnull().sum()\n",
    "mv_col = list(mv[mv > 0].index)"
   ]
  },
  {
   "cell_type": "code",
   "source": [
    "imputer = SimpleImputer(missing_values=np.nan, strategy=\"most_frequent\")\n",
    "data[mv_col] = DataFrame(imputer.fit_transform(data[mv_col]))"
   ],
   "metadata": {
    "id": "YOWuvLoZzerw"
   },
   "execution_count": null,
   "outputs": []
  },
  {
   "cell_type": "markdown",
   "source": [
    "<p><font color='black' size=\"5\">\n",
    "Kodierung\n",
    "</font></p>"
   ],
   "metadata": {
    "id": "eAuijwE4vYxU"
   }
  },
  {
   "cell_type": "code",
   "source": [
    "coder = OrdinalEncoder()\n",
    "data[cat_col] = coder.fit_transform(data[cat_col])"
   ],
   "metadata": {
    "id": "11hrAmwPE97_"
   },
   "execution_count": null,
   "outputs": []
  },
  {
   "cell_type": "markdown",
   "source": [
    "<p><font color='black' size=\"5\">\n",
    "Skalierung\n",
    "</font></p>"
   ],
   "metadata": {
    "id": "HKYIsqILfiE0"
   }
  },
  {
   "cell_type": "code",
   "source": [
    "scaler = MinMaxScaler()\n",
    "data[num_col] = scaler.fit_transform(data[num_col])"
   ],
   "metadata": {
    "id": "QHEt5D88fWg5"
   },
   "execution_count": null,
   "outputs": []
  },
  {
   "cell_type": "markdown",
   "metadata": {
    "id": "gG7V7QTLavMB"
   },
   "source": [
    "<p><font color='black' size=\"5\">\n",
    "Train-Test-Split\n",
    "</font></p>\n"
   ]
  },
  {
   "cell_type": "code",
   "execution_count": null,
   "metadata": {
    "id": "1l0iLCdDVREQ"
   },
   "outputs": [],
   "source": [
    "data_train, data_test, target_train, target_test = train_test_split(\n",
    "    data, target, test_size=0.20, random_state=42, stratify=target\n",
    ")\n",
    "data_train.shape, data_test.shape, target_train.shape, target_test.shape"
   ]
  },
  {
   "cell_type": "markdown",
   "metadata": {
    "id": "LTT1K4p0O2RX"
   },
   "source": "# 3 | Modeling\n---"
  },
  {
   "cell_type": "markdown",
   "source": [
    "<p><font color='black' size=\"5\">📋 Checkliste</font></p>\n",
    "\n",
    "✅ Modellauswahl treffen</br>\n",
    "✅ Pipeline erweitern/konfigurieren</br>\n",
    "✅ Training durchführen</br>\n",
    "✅ Hyperparameter Tuning</br>\n",
    "✅ Cross-Valdiation</br>\n",
    "✅ Bootstrapping</br>\n",
    "✅ Regularization</br>"
   ],
   "metadata": {
    "id": "ia7DB920F3TZ"
   }
  },
  {
   "cell_type": "markdown",
   "metadata": {
    "id": "3e8e0437"
   },
   "source": [
    "<p><font color='black' size=\"5\">\n",
    "Modellauswahl & Training\n",
    "</font></p>"
   ]
  },
  {
   "cell_type": "code",
   "execution_count": null,
   "metadata": {
    "id": "1c20517e"
   },
   "outputs": [],
   "source": [
    "model = DecisionTreeClassifier(max_depth=3)"
   ]
  },
  {
   "cell_type": "code",
   "source": [
    "model.fit(data_train, target_train)"
   ],
   "metadata": {
    "id": "1-Ya2ONxNAWO"
   },
   "execution_count": null,
   "outputs": []
  },
  {
   "cell_type": "markdown",
   "metadata": {
    "id": "v4liWba85_G8"
   },
   "source": "# 4 | Evaluate\n---"
  },
  {
   "cell_type": "markdown",
   "metadata": {
    "id": "qfx24IH__bvL"
   },
   "source": [
    "<p><font color='black' size=\"5\">📋 Checkliste</font></p>\n",
    "\n",
    "✅ Prognose (Train, Test) erstellen</br>\n",
    "✅ Modellgüte prüfen</br>\n",
    "✅ Residuenanalyse erstellen</br>\n",
    "✅ Feature Importance/Selektion prüfen</br>\n",
    "✅ Robustheitstest erstellen</br>\n",
    "✅ Modellinterpretation erstellen</br>\n",
    "✅ Sensitivitätsanalyse erstellen</br>\n",
    "✅ Kommunikation (Key Takeaways)</br>"
   ]
  },
  {
   "cell_type": "markdown",
   "metadata": {
    "id": "5p_quaTJb69W"
   },
   "source": [
    "<p><font color='black' size=\"5\">\n",
    "Prognose\n",
    "</font></p>"
   ]
  },
  {
   "cell_type": "code",
   "execution_count": null,
   "metadata": {
    "id": "P5PDxoiyxPWs"
   },
   "outputs": [],
   "source": [
    "target_train_pred = model.predict(data_train)\n",
    "target_test_pred = model.predict(data_test)"
   ]
  },
  {
   "cell_type": "markdown",
   "metadata": {
    "id": "DzuFascvb_Vq"
   },
   "source": [
    "<p><font color='black' size=\"5\">\n",
    "Confusion Matrix\n",
    "</font></p>"
   ]
  },
  {
   "cell_type": "code",
   "execution_count": null,
   "metadata": {
    "id": "8iqU51SkJgdH"
   },
   "outputs": [],
   "source": [
    "conf_matrix = confusion_matrix(target_test, target_test_pred)\n",
    "display_labels_ = [\"Not Survived\", \"Survived\"]\n",
    "disp = ConfusionMatrixDisplay(conf_matrix, display_labels=display_labels_)\n",
    "disp.plot(cmap=\"Blues\")"
   ]
  },
  {
   "cell_type": "code",
   "execution_count": null,
   "metadata": {
    "id": "PHtlhn2hog9t"
   },
   "outputs": [],
   "source": [
    "print(\n",
    "    classification_report(target_test, target_test_pred, target_names=display_labels_)\n",
    ")"
   ]
  },
  {
   "cell_type": "markdown",
   "metadata": {
    "id": "H-IAtpdZb9Kr"
   },
   "source": [
    "<p><font color='black' size=\"5\">\n",
    "Accuracy\n",
    "</font></p>"
   ]
  },
  {
   "cell_type": "code",
   "execution_count": null,
   "metadata": {
    "id": "7otKVJUqt3Qu"
   },
   "outputs": [],
   "source": [
    "acc_train = accuracy_score(target_train, target_train_pred) * 100\n",
    "print(f\"Modell: {model} -- Train -- Accuracy: {acc_train:5.2f}\")"
   ]
  },
  {
   "cell_type": "code",
   "execution_count": null,
   "metadata": {
    "collapsed": true,
    "id": "008448f3",
    "jupyter": {
     "outputs_hidden": true
    }
   },
   "outputs": [],
   "source": [
    "acc_test = accuracy_score(target_test, target_test_pred) * 100\n",
    "print(f\"Modell: {model} -- Test -- Accuracy: {acc_test:5.2f}%\")"
   ]
  },
  {
   "cell_type": "markdown",
   "source": [
    "<p><font size=\"5\">\n",
    "Feature Importance\n",
    "</p>"
   ],
   "metadata": {
    "id": "nAjxjrZ8vLhW"
   }
  },
  {
   "cell_type": "code",
   "execution_count": null,
   "metadata": {
    "id": "wFcpHx7FQV9W"
   },
   "outputs": [],
   "source": [
    "title_ = \"Feature Importance Titanic\"\n",
    "px.bar(\n",
    "    x=model.feature_importances_, y=data.columns, title=title_, width=800, height=600\n",
    ").update_yaxes(categoryorder=\"total ascending\")"
   ]
  },
  {
   "cell_type": "markdown",
   "metadata": {
    "id": "V9Mtml5P7Xqm"
   },
   "source": [
    "<p><font size=\"5\">\n",
    "Cross-Validation - K-Fold\n",
    "</p>\n",
    "\n"
   ]
  },
  {
   "cell_type": "code",
   "source": [
    "cv = StratifiedKFold(n_splits=5, shuffle=True, random_state=42)"
   ],
   "metadata": {
    "id": "tsfE1Acx_USp"
   },
   "execution_count": null,
   "outputs": []
  },
  {
   "cell_type": "code",
   "source": [
    "cv_results = cross_validate(\n",
    "    model,\n",
    "    data_train,\n",
    "    target_train,\n",
    "    scoring=\"accuracy\",\n",
    "    cv=cv,\n",
    "    return_train_score=True,\n",
    "    return_estimator=True,\n",
    ")"
   ],
   "metadata": {
    "id": "NR0axyeN02El"
   },
   "execution_count": null,
   "outputs": []
  },
  {
   "cell_type": "code",
   "source": [
    "cv_results"
   ],
   "metadata": {
    "id": "_bvZR5Ss5PQd"
   },
   "execution_count": null,
   "outputs": []
  },
  {
   "cell_type": "code",
   "source": [
    "train_result = cv_results[\"train_score\"].mean()\n",
    "val_result = cv_results[\"test_score\"].mean()\n",
    "print(f\"Train {train_result:.2f} -- Validation {val_result:.2f}\")"
   ],
   "metadata": {
    "id": "Adev45SG1yY1"
   },
   "execution_count": null,
   "outputs": []
  },
  {
   "cell_type": "markdown",
   "source": [
    "<p><font size=\"5\">\n",
    "Datensätze der einzelnen Kreuzvalidierungen\n",
    "</p>"
   ],
   "metadata": {
    "id": "ANT22IgTvUza"
   }
  },
  {
   "cell_type": "code",
   "source": [
    "cv.get_n_splits(data_train)\n",
    "print(cv)\n",
    "\n",
    "for i, (train_index, val_index) in enumerate(cv.split(data_train, target_train)):\n",
    "    print(f\"Fold {i}:\")\n",
    "    print(f\"  Train: index={train_index[:10]}, count: {len(train_index):,.0f}\")\n",
    "    print(f\"  Test:  index={val_index[:10]}, count: {len(val_index):,.0f}\")"
   ],
   "metadata": {
    "id": "d-sheL9Wvy61"
   },
   "execution_count": null,
   "outputs": []
  },
  {
   "cell_type": "markdown",
   "source": "# 5 | Deploy\n---",
   "metadata": {
    "id": "0bT45ET2eYSY"
   }
  },
  {
   "cell_type": "markdown",
   "source": [
    "<p><font color='black' size=\"5\">📋 Checkliste</font></p>\n",
    "\n",
    "✅ Modellexport und -speicherung</br>\n",
    "✅ Abhängigkeiten und Umgebung</br>\n",
    "✅ Sicherheit und Datenschutz</br>\n",
    "✅ In die Produktion integrieren</br>\n",
    "✅ Tests und Validierung</br>\n",
    "✅ Dokumentation & Wartung</br>"
   ],
   "metadata": {
    "id": "bVVOswS6rHVF"
   }
  }
 ],
 "metadata": {
  "colab": {
   "provenance": [],
   "collapsed_sections": [
    "_7yJp7s3suan",
    "56f799cf",
    "FJO386kuM3vO",
    "LTT1K4p0O2RX",
    "v4liWba85_G8",
    "0bT45ET2eYSY"
   ],
   "toc_visible": true
  },
  "interpreter": {
   "hash": "5cea19e863d99f842bb8da0fbb59db822ac0a240937e83b89870ca5922c44ffe"
  },
  "kernelspec": {
   "display_name": "Python 3.9.6 64-bit",
   "name": "python3"
  },
  "language_info": {
   "codemirror_mode": {
    "name": "ipython",
    "version": 3
   },
   "file_extension": ".py",
   "mimetype": "text/x-python",
   "name": "python",
   "nbconvert_exporter": "python",
   "pygments_lexer": "ipython3",
   "version": "3.9.6"
  }
 },
 "nbformat": 4,
 "nbformat_minor": 0
}