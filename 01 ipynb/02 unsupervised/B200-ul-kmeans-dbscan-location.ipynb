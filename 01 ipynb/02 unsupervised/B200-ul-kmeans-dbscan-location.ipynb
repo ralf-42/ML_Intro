{
 "cells": [
  {
   "cell_type": "markdown",
   "metadata": {
    "id": "KZiNc7yaAqVd"
   },
   "source": [
    "<p><font size=\"6\" color='grey'> <b>\n",
    "Machine Learning\n",
    "</b></font> </br></p>\n",
    "<p><font size=\"5\" color='grey'> <b>\n",
    "Unsupervised Learning - KMeans & DBSCAN - Location\n",
    "</b></font> </br></p>\n",
    "\n",
    "---\n"
   ],
   "id": "KZiNc7yaAqVd"
  },
  {
   "cell_type": "code",
   "source": [
    "#@title 🔧 Colab-Umgebung { display-mode: \"form\" }\n",
    "!uv pip install --system -q git+https://github.com/ralf-42/Python_Modules\n",
    "from ml_lib.utilities import get_ipinfo\n",
    "import sys\n",
    "print()\n",
    "print(f\"Python Version: {sys.version}\")\n",
    "print()\n",
    "get_ipinfo()"
   ],
   "metadata": {
    "id": "lbQeYRnYdtY6"
   },
   "id": "lbQeYRnYdtY6",
   "execution_count": null,
   "outputs": []
  },
  {
   "cell_type": "markdown",
   "source": "# 0  | Install & Import\n***",
   "metadata": {
    "id": "_7yJp7s3suan"
   },
   "id": "_7yJp7s3suan"
  },
  {
   "cell_type": "code",
   "source": [
    "# Install"
   ],
   "metadata": {
    "id": "u8MCvc99s6rp"
   },
   "execution_count": null,
   "outputs": [],
   "id": "u8MCvc99s6rp"
  },
  {
   "cell_type": "code",
   "source": [
    "# Import\n",
    "from pandas import read_csv, DataFrame, concat\n",
    "import numpy as np\n",
    "\n",
    "from sklearn.cluster import KMeans, DBSCAN\n",
    "from sklearn.metrics import silhouette_score, silhouette_samples\n",
    "\n",
    "import plotly.express as px\n",
    "\n",
    "from yellowbrick.cluster import SilhouetteVisualizer, intercluster_distance"
   ],
   "metadata": {
    "id": "pBQua1zVs6i0"
   },
   "execution_count": null,
   "outputs": [],
   "id": "pBQua1zVs6i0"
  },
  {
   "cell_type": "code",
   "execution_count": null,
   "metadata": {
    "id": "tzTLs1vuBFMH"
   },
   "outputs": [],
   "source": [
    "# Warnung ausstellen\n",
    "import warnings\n",
    "warnings.filterwarnings(\"ignore\")\n",
    "warnings.filterwarnings(\"ignore\", category=UserWarning)\n",
    "warnings.filterwarnings(\"ignore\", category=DeprecationWarning)\n",
    "warnings.filterwarnings(\"ignore\", category=FutureWarning)"
   ],
   "id": "tzTLs1vuBFMH"
  },
  {
   "cell_type": "markdown",
   "id": "56f799cf",
   "metadata": {
    "id": "56f799cf"
   },
   "source": "# 1 |  Understand\n\n---"
  },
  {
   "cell_type": "markdown",
   "source": [
    "<p><font color='black' size=\"5\">📋 Checkliste</font></p>\n",
    "\n",
    "✅ Aufgabe verstehen</br>\n",
    "✅ Daten sammeln</br>\n",
    "✅ Statistische Analyse (Min, Max, Mean, Korrelation, ...)</br>\n",
    "✅ Datenvisualisierung (Streudiagramm, Box-Plot, ...)</br>\n",
    "✅ Prepare Schritte festlegen</br>"
   ],
   "metadata": {
    "id": "1JQ0MdI1LEBd"
   },
   "id": "1JQ0MdI1LEBd"
  },
  {
   "cell_type": "markdown",
   "metadata": {
    "id": "ujwgd0lAGtRC"
   },
   "source": [
    "<p><font color='black' size=\"5\">\n",
    "Anwendungsfall\n",
    "</font></p>\n",
    "\n",
    "Auf Basis von Geodaten kann ein Clustering erfolgen.\n",
    "\n"
   ],
   "id": "ujwgd0lAGtRC"
  },
  {
   "cell_type": "markdown",
   "id": "dd8ea577",
   "metadata": {
    "id": "dd8ea577"
   },
   "source": [
    "\n",
    "<p><font color='black' size=\"5\">\n",
    "Daten laden\n",
    "</font></p>\n",
    "\n"
   ]
  },
  {
   "cell_type": "code",
   "source": [
    "filename = \"https://raw.githubusercontent.com/ralf-42/ML_Intro/main/02%20data/location_data.csv\"\n",
    "df = read_csv(filename, encoding=\"ISO-8859-1\")"
   ],
   "metadata": {
    "id": "Bmpp7Oqur2Oi"
   },
   "id": "Bmpp7Oqur2Oi",
   "execution_count": null,
   "outputs": []
  },
  {
   "cell_type": "code",
   "source": [
    "data = df[df.region == \"California\"]\n",
    "data.reset_index(inplace=True)"
   ],
   "metadata": {
    "id": "a8ws1BlI89y4"
   },
   "id": "a8ws1BlI89y4",
   "execution_count": null,
   "outputs": []
  },
  {
   "cell_type": "code",
   "source": [
    "data = data[[\"Lat\", \"Long\"]]"
   ],
   "metadata": {
    "id": "vQrlyQ6Hk-YN"
   },
   "id": "vQrlyQ6Hk-YN",
   "execution_count": null,
   "outputs": []
  },
  {
   "cell_type": "markdown",
   "source": [
    "<p><font color='black' size=\"5\">\n",
    "EDA (Exploratory Data Analysis) mit Pandas\n",
    "</font></p>"
   ],
   "metadata": {
    "id": "wJ5haivTxziJ"
   },
   "id": "wJ5haivTxziJ"
  },
  {
   "cell_type": "code",
   "source": [
    "data.info()"
   ],
   "metadata": {
    "id": "RoHC1E53x27J"
   },
   "execution_count": null,
   "outputs": [],
   "id": "RoHC1E53x27J"
  },
  {
   "cell_type": "code",
   "source": [
    "data.describe().T"
   ],
   "metadata": {
    "id": "WEjMnG4wxxjH"
   },
   "execution_count": null,
   "outputs": [],
   "id": "WEjMnG4wxxjH"
  },
  {
   "cell_type": "markdown",
   "source": "# 2 | Prepare\n\n---",
   "metadata": {
    "id": "FJO386kuM3vO"
   },
   "id": "FJO386kuM3vO"
  },
  {
   "cell_type": "markdown",
   "source": [
    "<p><font color='black' size=\"5\">📋 Checkliste</font></p>\n",
    "\n",
    "✅ Nicht benötigte Features löschen</br>\n",
    "✅ Datentyp ermitteln/ändern</br>\n",
    "✅ Duplikate ermitteln/löschen</br>\n",
    "✅ Missing Values behandeln</br>\n",
    "✅ Ausreißer behandeln</br>\n",
    "✅ Kategorischer Features Kodieren</br>\n",
    "✅ Numerischer Features skalieren</br>\n",
    "✅ Feature-Engineering (neue Features schaffen)</br>\n",
    "✅ Dimensionalität reduzieren</br>\n",
    "✅ Resampling (Over-/Undersampling)</br>\n",
    "✅ Pipeline erstellen/konfigurieren</br>\n",
    "✅ Train-Test-Split durchführen</br>"
   ],
   "metadata": {
    "id": "Yy7AaRf_XGrn"
   },
   "id": "Yy7AaRf_XGrn"
  },
  {
   "cell_type": "markdown",
   "source": "# 3 | Modeling\n---",
   "metadata": {
    "id": "LTT1K4p0O2RX"
   },
   "id": "LTT1K4p0O2RX"
  },
  {
   "cell_type": "markdown",
   "source": [
    "<p><font color='black' size=\"5\">📋 Checkliste</font></p>\n",
    "\n",
    "✅ Modellauswahl treffen</br>\n",
    "✅ Pipeline erweitern/konfigurieren</br>\n",
    "✅ Training durchführen</br>\n",
    "✅ Hyperparameter Tuning</br>\n",
    "✅ Cross-Valdiation</br>\n",
    "✅ Bootstrapping</br>\n",
    "✅ Regularization</br>"
   ],
   "metadata": {
    "id": "_jG3PUJRXLMG"
   },
   "id": "_jG3PUJRXLMG"
  },
  {
   "cell_type": "markdown",
   "metadata": {
    "id": "3e8e0437"
   },
   "source": [
    "\n",
    "<p><font color='black' size=\"5\">\n",
    "Modellauswahl & Training\n",
    "</font></p>"
   ],
   "id": "3e8e0437"
  },
  {
   "cell_type": "code",
   "execution_count": null,
   "metadata": {
    "id": "1c20517e"
   },
   "outputs": [],
   "source": [
    "model_kmeans = KMeans(n_clusters=3)\n",
    "model_kmeans.fit(data)"
   ],
   "id": "1c20517e"
  },
  {
   "cell_type": "code",
   "source": [
    "eps = 0.5\n",
    "min_samples = 5\n",
    "model_dbscan = DBSCAN(eps=eps, min_samples=min_samples)\n",
    "model_dbscan.fit(data)"
   ],
   "metadata": {
    "id": "gief8k2S-zcp"
   },
   "id": "gief8k2S-zcp",
   "execution_count": null,
   "outputs": []
  },
  {
   "cell_type": "markdown",
   "source": "# 4 | Evaluate\n---",
   "metadata": {
    "id": "RWsTyHsNbnuR"
   },
   "id": "RWsTyHsNbnuR"
  },
  {
   "cell_type": "markdown",
   "source": [
    "<p><font color='black' size=\"5\">📋 Checkliste</font></p>\n",
    "\n",
    "✅ Prognose (Train, Test) erstellen</br>\n",
    "✅ Modellgüte prüfen</br>\n",
    "✅ Residuenanalyse erstellen</br>\n",
    "✅ Feature Importance/Selektion prüfen</br>\n",
    "✅ Robustheitstest erstellen</br>\n",
    "✅ Modellinterpretation erstellen</br>\n",
    "✅ Sensitivitätsanalyse erstellen</br>\n",
    "✅ Kommunikation (Key Takeaways)</br>"
   ],
   "metadata": {
    "id": "ZP7pN8gAah-r"
   },
   "id": "ZP7pN8gAah-r"
  },
  {
   "cell_type": "markdown",
   "source": [
    "## 4.1 | KMeans\n",
    "---"
   ],
   "metadata": {
    "id": "2wfHPz9Tiqz0"
   },
   "id": "2wfHPz9Tiqz0"
  },
  {
   "cell_type": "markdown",
   "source": [
    "<p><font color='black' size=\"5\">\n",
    "Silhouette Coefficient KMeans\n",
    "</font></p>"
   ],
   "metadata": {
    "id": "Nt8JioDlXHrO"
   },
   "id": "Nt8JioDlXHrO"
  },
  {
   "cell_type": "code",
   "source": [
    "s_score_kmeans = silhouette_score(\n",
    "    data[[\"Lat\", \"Long\"]], model_kmeans.labels_, metric=\"euclidean\"\n",
    ")\n",
    "print(f\"Silhouettenkoeffizient KMeans: {s_score_kmeans:0.2f}\")"
   ],
   "metadata": {
    "id": "gznIw9-lawcV"
   },
   "execution_count": null,
   "outputs": [],
   "id": "gznIw9-lawcV"
  },
  {
   "cell_type": "code",
   "source": [
    "silhouette_vals = silhouette_samples(data, model_kmeans.labels_)\n",
    "silhouette_vals[:10]"
   ],
   "metadata": {
    "id": "ut6PMVS8yyD8",
    "collapsed": true
   },
   "execution_count": null,
   "outputs": [],
   "id": "ut6PMVS8yyD8"
  },
  {
   "cell_type": "code",
   "source": [
    "unique_clusters = np.unique(model_dbscan.labels_)\n",
    "for cluster in unique_clusters:\n",
    "    if cluster != -1:  # Ausreißer ignorieren\n",
    "        cluster_avg_silhouette = np.mean(\n",
    "            silhouette_vals[model_kmeans.labels_ == cluster]\n",
    "        )\n",
    "        print(\n",
    "            f\"Cluster {cluster}: ∅ Silhouettenkoeffizient = {cluster_avg_silhouette:.3f}\"\n",
    "        )"
   ],
   "metadata": {
    "id": "IZGIf4MPyyD8"
   },
   "execution_count": null,
   "outputs": [],
   "id": "IZGIf4MPyyD8"
  },
  {
   "cell_type": "code",
   "source": [
    "visualizer = SilhouetteVisualizer(model_kmeans, colors=\"yellowbrick\")\n",
    "visualizer.fit(data)\n",
    "visualizer.show()"
   ],
   "metadata": {
    "id": "1hPQSCmtUOVh"
   },
   "id": "1hPQSCmtUOVh",
   "execution_count": null,
   "outputs": []
  },
  {
   "cell_type": "code",
   "source": [
    "visualizer = intercluster_distance(model_kmeans, data, random_state=42)"
   ],
   "metadata": {
    "id": "ad7YRohQU0NH"
   },
   "id": "ad7YRohQU0NH",
   "execution_count": null,
   "outputs": []
  },
  {
   "cell_type": "markdown",
   "source": [
    "<p><font color='black' size=\"5\">\n",
    "Centroide\n",
    "</font></p>"
   ],
   "metadata": {
    "id": "jSxAQyoVh6uG"
   },
   "id": "jSxAQyoVh6uG"
  },
  {
   "cell_type": "code",
   "source": [
    "print(\"Centroide:\")\n",
    "DataFrame(model_kmeans.cluster_centers_, columns=data.columns)"
   ],
   "metadata": {
    "id": "B2HU2u4ahoaZ"
   },
   "execution_count": null,
   "outputs": [],
   "id": "B2HU2u4ahoaZ"
  },
  {
   "cell_type": "markdown",
   "source": [
    "## 4.2 | DBSCAN\n",
    "---"
   ],
   "metadata": {
    "id": "TILJVO6Fi14O"
   },
   "id": "TILJVO6Fi14O"
  },
  {
   "cell_type": "markdown",
   "source": [
    "<p><font color='black' size=\"5\">\n",
    "Silhouette Coefficent DBSCAN\n",
    "</font></p>"
   ],
   "metadata": {
    "id": "VF38_MxQgveo"
   },
   "id": "VF38_MxQgveo"
  },
  {
   "cell_type": "code",
   "source": [
    "s_score_dbscan = silhouette_score(\n",
    "    data[[\"Lat\", \"Long\"]], model_dbscan.labels_, metric=\"euclidean\"\n",
    ")\n",
    "print(f\"Silhouettenkoeffizient DBScan: {s_score_dbscan:0.2f}\")"
   ],
   "metadata": {
    "id": "BWEBYnbvTdyS"
   },
   "id": "BWEBYnbvTdyS",
   "execution_count": null,
   "outputs": []
  },
  {
   "cell_type": "code",
   "source": [
    "silhouette_vals = silhouette_samples(data, model_dbscan.labels_)\n",
    "silhouette_vals[:10]"
   ],
   "metadata": {
    "id": "7ZtcQ_2cy9w8"
   },
   "execution_count": null,
   "outputs": [],
   "id": "7ZtcQ_2cy9w8"
  },
  {
   "cell_type": "code",
   "source": [
    "unique_clusters = np.unique(model_dbscan.labels_)\n",
    "for cluster in unique_clusters:\n",
    "    if cluster != -1:  # Ausreißer ignorieren\n",
    "        cluster_avg_silhouette = np.mean(\n",
    "            silhouette_vals[model_dbscan.labels_ == cluster]\n",
    "        )\n",
    "        print(\n",
    "            f\"Cluster {cluster}: ∅ Silhouettenkoeffizient = {cluster_avg_silhouette:.3f}\"\n",
    "        )"
   ],
   "metadata": {
    "id": "IABvaucry9w9"
   },
   "execution_count": null,
   "outputs": [],
   "id": "IABvaucry9w9"
  },
  {
   "cell_type": "markdown",
   "source": [
    "## 4.3 | Visualiserung\n",
    "---"
   ],
   "metadata": {
    "id": "7mV3N7N8i7zq"
   },
   "id": "7mV3N7N8i7zq"
  },
  {
   "cell_type": "markdown",
   "source": [
    "<p><font color='black' size=\"5\">\n",
    "Aufbau Datenwürfel für Visualisierung\n",
    "</font></p>"
   ],
   "metadata": {
    "id": "umx0NEsBjPC0"
   },
   "id": "umx0NEsBjPC0"
  },
  {
   "cell_type": "code",
   "source": [
    "data[\"KMeans\"] = DataFrame(model_kmeans.labels_).astype(\"string\")\n",
    "data[\"DBSCAN\"] = DataFrame(model_dbscan.labels_).astype(\"string\")"
   ],
   "metadata": {
    "id": "12edTvKVif3v"
   },
   "id": "12edTvKVif3v",
   "execution_count": null,
   "outputs": []
  },
  {
   "cell_type": "markdown",
   "source": [
    "<p><font color='black' size=\"5\">\n",
    "Visualisierung KMeans\n",
    "</font></p>"
   ],
   "metadata": {
    "id": "jaV21ylmjWQD"
   },
   "id": "jaV21ylmjWQD"
  },
  {
   "cell_type": "code",
   "source": [
    "fig = px.scatter_mapbox(\n",
    "    data, lat=\"Lat\", lon=\"Long\", color=\"KMeans\", zoom=5, width=1200, height=600\n",
    ")\n",
    "\n",
    "fig.update_layout(mapbox_style=\"open-street-map\")\n",
    "fig.update_layout(title=f\"KMean Clustering\")\n",
    "fig.show()"
   ],
   "metadata": {
    "id": "Dn8UJGBIixt5"
   },
   "id": "Dn8UJGBIixt5",
   "execution_count": null,
   "outputs": []
  },
  {
   "cell_type": "markdown",
   "source": [
    "<p><font color='black' size=\"5\">\n",
    "Visualisierung DBScan\n",
    "</font></p>"
   ],
   "metadata": {
    "id": "NVIaOHHnjedD"
   },
   "id": "NVIaOHHnjedD"
  },
  {
   "cell_type": "code",
   "source": [
    "fig = px.scatter_mapbox(\n",
    "    data, lat=\"Lat\", lon=\"Long\", color=\"DBSCAN\", zoom=5, width=1200, height=600\n",
    ")\n",
    "\n",
    "fig.update_layout(mapbox_style=\"open-street-map\")\n",
    "fig.update_layout(title=f\"DBSCAN Clustering\")\n",
    "fig.show()"
   ],
   "metadata": {
    "id": "2GxK2VOHeiLs"
   },
   "id": "2GxK2VOHeiLs",
   "execution_count": null,
   "outputs": []
  },
  {
   "cell_type": "markdown",
   "source": "# 5 | Deploy\n---",
   "metadata": {
    "id": "HXkGDE4Ii7R9"
   },
   "id": "HXkGDE4Ii7R9"
  },
  {
   "cell_type": "markdown",
   "source": [
    "<p><font color='black' size=\"5\">📋 Checkliste</font></p>\n",
    "\n",
    "✅ Modellexport und -speicherung</br>\n",
    "✅ Abhängigkeiten und Umgebung</br>\n",
    "✅ Sicherheit und Datenschutz</br>\n",
    "✅ In die Produktion integrieren</br>\n",
    "✅ Tests und Validierung</br>\n",
    "✅ Dokumentation & Wartung</br>"
   ],
   "metadata": {
    "id": "bVVOswS6rHVF"
   },
   "id": "bVVOswS6rHVF"
  }
 ],
 "metadata": {
  "interpreter": {
   "hash": "5cea19e863d99f842bb8da0fbb59db822ac0a240937e83b89870ca5922c44ffe"
  },
  "kernelspec": {
   "display_name": "Python 3.9.6 64-bit",
   "name": "python3"
  },
  "language_info": {
   "codemirror_mode": {
    "name": "ipython",
    "version": 3
   },
   "file_extension": ".py",
   "mimetype": "text/x-python",
   "name": "python",
   "nbconvert_exporter": "python",
   "pygments_lexer": "ipython3",
   "version": "3.9.6"
  },
  "toc": {
   "base_numbering": 1,
   "nav_menu": {},
   "number_sections": false,
   "sideBar": true,
   "skip_h1_title": false,
   "title_cell": "Table of Contents",
   "title_sidebar": "Contents",
   "toc_cell": false,
   "toc_position": {
    "height": "757px",
    "left": "33px",
    "top": "0px",
    "width": "324px"
   },
   "toc_section_display": true,
   "toc_window_display": false
  },
  "toc-autonumbering": true,
  "toc-showcode": false,
  "toc-showmarkdowntxt": false,
  "toc-showtags": true,
  "varInspector": {
   "cols": {
    "lenName": 16,
    "lenType": 16,
    "lenVar": 40
   },
   "kernels_config": {
    "python": {
     "delete_cmd_postfix": "",
     "delete_cmd_prefix": "del ",
     "library": "var_list.py",
     "varRefreshCmd": "print(var_dic_list())"
    },
    "r": {
     "delete_cmd_postfix": ") ",
     "delete_cmd_prefix": "rm(",
     "library": "var_list.r",
     "varRefreshCmd": "cat(var_dic_list()) "
    }
   },
   "position": {
    "height": "144.5px",
    "left": "1257px",
    "right": "20px",
    "top": "511px",
    "width": "350px"
   },
   "types_to_exclude": [
    "module",
    "function",
    "builtin_function_or_method",
    "instance",
    "_Feature"
   ],
   "window_display": true
  },
  "colab": {
   "provenance": [],
   "collapsed_sections": [
    "_7yJp7s3suan",
    "56f799cf",
    "FJO386kuM3vO",
    "LTT1K4p0O2RX",
    "RWsTyHsNbnuR",
    "2wfHPz9Tiqz0",
    "TILJVO6Fi14O",
    "7mV3N7N8i7zq",
    "HXkGDE4Ii7R9"
   ],
   "toc_visible": true
  }
 },
 "nbformat": 4,
 "nbformat_minor": 5
}