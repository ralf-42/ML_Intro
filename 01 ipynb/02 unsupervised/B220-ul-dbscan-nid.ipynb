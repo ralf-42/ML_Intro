{
 "cells": [
  {
   "cell_type": "markdown",
   "metadata": {
    "id": "fd913b05"
   },
   "source": [
    "<p><font size=\"6\" color='grey'> <b>\n",
    "Machine Learning\n",
    "</b></font> </br></p>\n",
    "<p><font size=\"5\" color='grey'> <b>\n",
    "Unsupervised Learning - DBSCAN - Network-Intrusion-Detektor\n",
    "</b></font> </br></p>\n",
    "\n",
    "---\n"
   ],
   "id": "fd913b05"
  },
  {
   "cell_type": "code",
   "source": [
    "#@title 🔧 Colab-Umgebung { display-mode: \"form\" }\n",
    "!uv pip install --system -q git+https://github.com/ralf-42/Python_Modules\n",
    "from ml_lib.utilities import get_ipinfo\n",
    "import sys\n",
    "print()\n",
    "print(f\"Python Version: {sys.version}\")\n",
    "print()\n",
    "get_ipinfo()"
   ],
   "metadata": {
    "id": "QSuhy0Agd1jA"
   },
   "id": "QSuhy0Agd1jA",
   "execution_count": null,
   "outputs": []
  },
  {
   "cell_type": "markdown",
   "source": "# 0  | Install & Import\n***",
   "metadata": {
    "id": "_7yJp7s3suan"
   },
   "id": "_7yJp7s3suan"
  },
  {
   "cell_type": "code",
   "source": [
    "# Install"
   ],
   "metadata": {
    "id": "u8MCvc99s6rp"
   },
   "execution_count": null,
   "outputs": [],
   "id": "u8MCvc99s6rp"
  },
  {
   "cell_type": "code",
   "source": [
    "# Import\n",
    "from pandas import read_csv, DataFrame, concat\n",
    "\n",
    "from sklearn.cluster import DBSCAN\n",
    "from sklearn.model_selection import train_test_split\n",
    "from sklearn.metrics import (\n",
    "    silhouette_score,\n",
    "    roc_auc_score,\n",
    "    confusion_matrix,\n",
    "    ConfusionMatrixDisplay,\n",
    "    classification_report,\n",
    ")\n",
    "from sklearn.decomposition import PCA\n",
    "\n",
    "import plotly.express as px\n",
    "import plotly.subplots as sp\n",
    "import matplotlib as plt"
   ],
   "metadata": {
    "id": "pBQua1zVs6i0"
   },
   "execution_count": null,
   "outputs": [],
   "id": "pBQua1zVs6i0"
  },
  {
   "cell_type": "code",
   "execution_count": null,
   "metadata": {
    "id": "zTlLLUOTMLLR"
   },
   "outputs": [],
   "source": [
    "# Warnung ausstellen\n",
    "import warnings\n",
    "warnings.filterwarnings(\"ignore\")"
   ],
   "id": "zTlLLUOTMLLR"
  },
  {
   "cell_type": "markdown",
   "metadata": {
    "id": "56f799cf"
   },
   "source": "# 1  | Understand\n***",
   "id": "56f799cf"
  },
  {
   "cell_type": "markdown",
   "source": [
    "<p><font color='black' size=\"5\">📋 Checkliste</font></p>\n",
    "\n",
    "✅ Aufgabe verstehen</br>\n",
    "✅ Daten sammeln</br>\n",
    "✅ Statistische Analyse (Min, Max, Mean, Korrelation, ...)</br>\n",
    "✅ Datenvisualisierung (Streudiagramm, Box-Plot, ...)</br>\n",
    "✅ Prepare Schritte festlegen</br>"
   ],
   "metadata": {
    "id": "g7Crk8M3nIv8"
   },
   "id": "g7Crk8M3nIv8"
  },
  {
   "cell_type": "markdown",
   "metadata": {
    "id": "dd8ea577"
   },
   "source": [
    "<p><font color='black' size=\"5\">\n",
    "Anwendungsfall\n",
    "</font></p>\n",
    "\n",
    "Dies ist der Datensatz, der für den Third International Knowledge Discovery and Data Mining Tools Competition verwendet wurde. Die Wettbewerbsaufgabe bestand darin, einen Netzwerk-Intrusion-Detektor zu bauen, ein Vorhersagemodell, das in der Lage ist, zwischen schlechten Verbindungen, sogenannten Intrusionen oder Angriffen, und guten normalen Verbindungen zu unterscheiden. Diese Datenbank enthält einen zu prüfenden Standarddatensatz, der eine Vielzahl von Eindringversuchen umfasst, die in einer militärischen Netzwerkumgebung simuliert wurden.\n",
    "\n",
    "Der ursprüngliche KDD Cup 1999-Datensatz aus dem  UCI-Repositorium für maschinelles Lernen  enthält 41 Attribute (34 kontinuierlich und 7 kategorial), sie werden jedoch auf 3 Attribute (Dauer, src_bytes, dst_bytes) reduziert.\n",
    "\n",
    "Da die kontinuierlichen Attributwerte um '0' herum konzentriert sind, haben wir jeden Wert durch y = log(x + 0,1) in einen Wert weit von '0' transformiert.\n",
    "\n",
    "Aus KDD Cup 1999-Datensatz werden ca. 500k „http“-Dienstdaten verwendet.\n",
    "\n",
    "Der KDD Cup ist der jährliche Data-Mining- und Knowledge-Discovery-Wettbewerb, der von der ACM Special Interest Group on Knowledge Discovery and Data Mining, der führenden Berufsorganisation von Data-Minern, organisiert wird.\n",
    "\n",
    "\n",
    "[DataSet](https://www.openml.org/search?type=data&status=active&id=1113)\n",
    "\n",
    "[Info](http://odds.cs.stonybrook.edu/http-kddcup99-dataset/)\n",
    "\n",
    "\n",
    "[UCI](https://archive.ics.uci.edu/ml/datasets/kdd+cup+1999+data)\n",
    "\n",
    "[KDD](https://kdd.org/kdd-cup)\n",
    "\n"
   ],
   "id": "dd8ea577"
  },
  {
   "cell_type": "markdown",
   "metadata": {
    "id": "TIqcAAWnxazN"
   },
   "source": [
    "**Datensatz:**\n",
    "\n",
    "| feature name  | description                                      | type        |\n",
    "|------------|--------------------------------------------------|-------------|\n",
    "| duration   | length (number of seconds) of the connection     | continuous  |\n",
    "| src_bytes  | number of data bytes from source to destination  | continuous  |\n",
    "| dst_bytes  | number of data bytes from destination to source  | continuous  |\n",
    "\n",
    "<br>\n",
    "<br>\n"
   ],
   "id": "TIqcAAWnxazN"
  },
  {
   "cell_type": "code",
   "source": [
    "df = read_csv(\n",
    "    \"https://raw.githubusercontent.com/ralf-42/ML_Intro/main/02%20data/kddcup1999_xs.csv\"\n",
    ")"
   ],
   "metadata": {
    "id": "4RXxDlK4wdgW"
   },
   "id": "4RXxDlK4wdgW",
   "execution_count": null,
   "outputs": []
  },
  {
   "cell_type": "code",
   "source": [
    "data = df.copy()\n",
    "target = data.pop(\"Intrusion\")"
   ],
   "metadata": {
    "id": "4ITa_R2xxE2z"
   },
   "id": "4ITa_R2xxE2z",
   "execution_count": null,
   "outputs": []
  },
  {
   "cell_type": "code",
   "source": [
    "target.value_counts()"
   ],
   "metadata": {
    "id": "oKttbsj6v6ud"
   },
   "id": "oKttbsj6v6ud",
   "execution_count": null,
   "outputs": []
  },
  {
   "cell_type": "markdown",
   "metadata": {
    "id": "FJO386kuM3vO"
   },
   "source": "# 2 | Prepare\n\n---",
   "id": "FJO386kuM3vO"
  },
  {
   "cell_type": "markdown",
   "source": [
    "<p><font color='black' size=\"5\">📋 Checkliste</font></p>\n",
    "\n",
    "✅ Nicht benötigte Features löschen</br>\n",
    "✅ Datentyp ermitteln/ändern</br>\n",
    "✅ Duplikate ermitteln/löschen</br>\n",
    "✅ Missing Values behandeln</br>\n",
    "✅ Ausreißer behandeln</br>\n",
    "✅ Kategorischer Features Kodieren</br>\n",
    "✅ Numerischer Features skalieren</br>\n",
    "✅ Feature-Engineering (neue Features schaffen)</br>\n",
    "✅ Dimensionalität reduzieren</br>\n",
    "✅ Resampling (Over-/Undersampling)</br>\n",
    "✅ Pipeline erstellen/konfigurieren</br>\n",
    "✅ Train-Test-Split durchführen</br>"
   ],
   "metadata": {
    "id": "RZMfhk1xbksx"
   },
   "id": "RZMfhk1xbksx"
  },
  {
   "cell_type": "markdown",
   "source": [
    " <p><font color='black' size=\"5\">\n",
    "Train-Test-Split (nur zur Reduktion des Datenvolumens)\n",
    "</font></p>"
   ],
   "metadata": {
    "id": "Z2bY22v9ZaUr"
   },
   "id": "Z2bY22v9ZaUr"
  },
  {
   "cell_type": "markdown",
   "source": [
    "Erfolgt nur, um das Datenvolumen zu reduzieren. Bei 100k Datensätze erfolgt Abbruch mit Hinweis auf Bezahlversion. 😉"
   ],
   "metadata": {
    "id": "OYI7AdQ8aAIP"
   },
   "id": "OYI7AdQ8aAIP"
  },
  {
   "cell_type": "code",
   "source": [
    "data, _, target, _ = train_test_split(\n",
    "    data, target, train_size=0.5, random_state=42, stratify=target\n",
    ")\n",
    "data.shape, target.shape"
   ],
   "metadata": {
    "id": "wWtB3XyQZa23"
   },
   "id": "wWtB3XyQZa23",
   "execution_count": null,
   "outputs": []
  },
  {
   "cell_type": "code",
   "source": [
    "target.value_counts()"
   ],
   "metadata": {
    "id": "h40HptFhbuoa"
   },
   "id": "h40HptFhbuoa",
   "execution_count": null,
   "outputs": []
  },
  {
   "cell_type": "markdown",
   "metadata": {
    "id": "LTT1K4p0O2RX"
   },
   "source": "# 3 | Modeling\n---",
   "id": "LTT1K4p0O2RX"
  },
  {
   "cell_type": "markdown",
   "source": [
    "<p><font color='black' size=\"5\">📋 Checkliste</font></p>\n",
    "\n",
    "✅ Modellauswahl treffen</br>\n",
    "✅ Pipeline erweitern/konfigurieren</br>\n",
    "✅ Training durchführen</br>\n",
    "✅ Hyperparameter Tuning</br>\n",
    "✅ Cross-Valdiation</br>\n",
    "✅ Bootstrapping</br>\n",
    "✅ Regularization</br>"
   ],
   "metadata": {
    "id": "oSvwlDnubpzR"
   },
   "id": "oSvwlDnubpzR"
  },
  {
   "cell_type": "markdown",
   "metadata": {
    "id": "BxwT7fY5vJFj"
   },
   "source": [
    " <p><font color='black' size=\"5\">\n",
    "Modellauswahl & Training\n",
    "</font></p>"
   ],
   "id": "BxwT7fY5vJFj"
  },
  {
   "cell_type": "code",
   "execution_count": null,
   "metadata": {
    "id": "1c20517e"
   },
   "outputs": [],
   "source": [
    "model = DBSCAN(eps=0.6, min_samples=30)"
   ],
   "id": "1c20517e"
  },
  {
   "cell_type": "code",
   "source": [
    "model.fit(data)"
   ],
   "metadata": {
    "id": "e2VQwOHc_Nfp"
   },
   "id": "e2VQwOHc_Nfp",
   "execution_count": null,
   "outputs": []
  },
  {
   "cell_type": "code",
   "source": [
    "DataFrame(model.labels_).value_counts()"
   ],
   "metadata": {
    "id": "wS8uB-U1arKi"
   },
   "id": "wS8uB-U1arKi",
   "execution_count": null,
   "outputs": []
  },
  {
   "cell_type": "markdown",
   "metadata": {
    "id": "v4liWba85_G8"
   },
   "source": "# 4 | Evaluate\n---",
   "id": "v4liWba85_G8"
  },
  {
   "cell_type": "markdown",
   "source": [
    "<p><font color='black' size=\"5\">📋 Checkliste</font></p>\n",
    "\n",
    "✅ Prognose (Train, Test) erstellen</br>\n",
    "✅ Modellgüte prüfen</br>\n",
    "✅ Residuenanalyse erstellen</br>\n",
    "✅ Feature Importance/Selektion prüfen</br>\n",
    "✅ Robustheitstest erstellen</br>\n",
    "✅ Modellinterpretation erstellen</br>\n",
    "✅ Sensitivitätsanalyse erstellen</br>\n",
    "✅ Kommunikation (Key Takeaways)</br>"
   ],
   "metadata": {
    "id": "59fd64l0na98"
   },
   "id": "59fd64l0na98"
  },
  {
   "cell_type": "markdown",
   "source": [
    "<p><font color='black' size=\"5\">\n",
    "Silhouette Koeffizient\n",
    "</font></p>"
   ],
   "metadata": {
    "id": "HIbJZ0th3-eX"
   },
   "id": "HIbJZ0th3-eX"
  },
  {
   "cell_type": "code",
   "source": [
    "silhouette_coef = silhouette_score(data, model.labels_)\n",
    "print(\"Silhouette-Koeffizient:\", silhouette_coef)"
   ],
   "metadata": {
    "id": "crCeCmtX2WPh"
   },
   "id": "crCeCmtX2WPh",
   "execution_count": null,
   "outputs": []
  },
  {
   "cell_type": "markdown",
   "metadata": {
    "id": "ZoGJ2KI0u2WS"
   },
   "source": [
    "<p><font color='black' size=\"5\">\n",
    "UmKodierung Ergebnisse DBSCAN\n",
    "</font></p>"
   ],
   "id": "ZoGJ2KI0u2WS"
  },
  {
   "cell_type": "code",
   "execution_count": null,
   "metadata": {
    "id": "AfZmG8Ejaw02"
   },
   "outputs": [],
   "source": [
    "target_pred = DataFrame(model.labels_).copy()\n",
    "target_pred.columns = [\"Intrusion\"]\n",
    "target_pred.replace([-1, 0, 1, 2], [0, 0, 0, 1], inplace=True)"
   ],
   "id": "AfZmG8Ejaw02"
  },
  {
   "cell_type": "code",
   "source": [
    "target_pred.value_counts()"
   ],
   "metadata": {
    "id": "tV8vFef0fvf1"
   },
   "id": "tV8vFef0fvf1",
   "execution_count": null,
   "outputs": []
  },
  {
   "cell_type": "markdown",
   "metadata": {
    "id": "uAxj9Y4UlFra"
   },
   "source": [
    "\n",
    "<p><font color='black' size=\"5\">\n",
    "Confusion Matrix\n",
    "</font></p>"
   ],
   "id": "uAxj9Y4UlFra"
  },
  {
   "cell_type": "code",
   "execution_count": null,
   "metadata": {
    "id": "dF7lqBzxksC6"
   },
   "outputs": [],
   "source": [
    "conf_matrix = confusion_matrix(target, target_pred)\n",
    "plt.rcParams[\"figure.figsize\"] = [5, 5]\n",
    "disp = ConfusionMatrixDisplay(conf_matrix, display_labels=[\"No\", \"Yes\"])\n",
    "disp.plot(cmap=\"Blues\")"
   ],
   "id": "dF7lqBzxksC6"
  },
  {
   "cell_type": "code",
   "execution_count": null,
   "metadata": {
    "id": "enOB5d-Tryd7"
   },
   "outputs": [],
   "source": [
    "print(classification_report(target, target_pred, target_names=[\"No\", \"Yes\"]))"
   ],
   "id": "enOB5d-Tryd7"
  },
  {
   "cell_type": "markdown",
   "source": [
    "<p><font color='black' size=\"5\">\n",
    "Aufbau Analysewürfel\n",
    "</font></p>"
   ],
   "metadata": {
    "id": "TKrsCiI7oDtw"
   },
   "id": "TKrsCiI7oDtw"
  },
  {
   "cell_type": "code",
   "source": [
    "# Übernahme der Testdaten\n",
    "cube = data.copy()\n",
    "cube.reset_index(inplace=True)\n",
    "\n",
    "# Übernahem Target real & predict\n",
    "cube[\"real\"] = DataFrame(target.values)\n",
    "cube[\"predict\"] = target_pred"
   ],
   "metadata": {
    "id": "px7ot86VoM2R"
   },
   "id": "px7ot86VoM2R",
   "execution_count": null,
   "outputs": []
  },
  {
   "cell_type": "code",
   "source": [
    "# Erstellung 2D Features über Dimensionsreduktion PCA - unsupervised\n",
    "pca = PCA(n_components=2)\n",
    "pca = pca.fit_transform(data)\n",
    "pca_df = DataFrame(pca)\n",
    "\n",
    "# Cube um pca erweitern\n",
    "cube[\"PCA1\"] = pca_df[0]\n",
    "cube[\"PCA2\"] = pca_df[1]"
   ],
   "metadata": {
    "id": "RYoUhRAncPWI"
   },
   "id": "RYoUhRAncPWI",
   "execution_count": null,
   "outputs": []
  },
  {
   "cell_type": "markdown",
   "source": [
    "<p><font color='black' size=\"5\">\n",
    "Visualisierung real vs predict\n",
    "</font></p>"
   ],
   "metadata": {
    "id": "J83_TDRPpUhO"
   },
   "id": "J83_TDRPpUhO"
  },
  {
   "cell_type": "code",
   "source": [
    "# Histogramm\n",
    "title_ = \"Histogramm real vs predict\"\n",
    "fig = px.histogram(cube, x=[\"real\", \"predict\"], nbins=2, text_auto=\".2s\", title=title_)\n",
    "fig.update_layout(barmode=\"group\", bargap=0.1, width=600, height=600)\n",
    "fig.show()"
   ],
   "metadata": {
    "id": "QNt84fq4oNSV"
   },
   "id": "QNt84fq4oNSV",
   "execution_count": null,
   "outputs": []
  },
  {
   "cell_type": "code",
   "source": [
    "# 2 x Scatterplots\n",
    "\n",
    "cube[\"real_cat\"] = cube[\"real\"].astype(str)\n",
    "cube[\"predict_cat\"] = cube[\"predict\"].astype(str)\n",
    "\n",
    "title_ = \"Streupunktdiagramm real\"\n",
    "img1 = px.scatter(cube, x=\"PCA1\", y=\"PCA2\", color=\"real_cat\", width=600, height=600)\n",
    "\n",
    "title_ = \"Streupunktdiagramm predict\"\n",
    "img2 = px.scatter(cube, x=\"PCA1\", y=\"PCA2\", color=\"predict_cat\", width=600, height=600)\n",
    "\n",
    "fig = sp.make_subplots(\n",
    "    rows=1, cols=2, subplot_titles=(\"Scatterplot real\", \"Scatterplot predict\")\n",
    ")\n",
    "\n",
    "for trace in img1.data:\n",
    "    fig.add_trace(trace, row=1, col=1)\n",
    "for trace in img2.data:\n",
    "    fig.add_trace(trace, row=1, col=2)\n",
    "\n",
    "# Layout anpassen\n",
    "fig.update_layout(width=1000, height=500, title_text=title_)\n",
    "\n",
    "# Plot anzeigen\n",
    "fig.show()"
   ],
   "metadata": {
    "id": "0JvS8x2KoNSV"
   },
   "id": "0JvS8x2KoNSV",
   "execution_count": null,
   "outputs": []
  },
  {
   "cell_type": "code",
   "source": [
    "# real <> predict\n",
    "cube[cube.real != cube.predict].describe().T"
   ],
   "metadata": {
    "id": "YaZ9qstRtSVI"
   },
   "id": "YaZ9qstRtSVI",
   "execution_count": null,
   "outputs": []
  },
  {
   "cell_type": "code",
   "source": [
    "cube[cube.real != cube.predict]"
   ],
   "metadata": {
    "id": "Fh0vlCLUoOCH"
   },
   "id": "Fh0vlCLUoOCH",
   "execution_count": null,
   "outputs": []
  },
  {
   "cell_type": "markdown",
   "metadata": {
    "id": "JpWdtihU6FM2"
   },
   "source": "# 5 | Deploy\n---",
   "id": "JpWdtihU6FM2"
  },
  {
   "cell_type": "markdown",
   "source": [
    "<p><font color='black' size=\"5\">📋 Checkliste</font></p>\n",
    "\n",
    "✅ Modellexport und -speicherung</br>\n",
    "✅ Abhängigkeiten und Umgebung</br>\n",
    "✅ Sicherheit und Datenschutz</br>\n",
    "✅ In die Produktion integrieren</br>\n",
    "✅ Tests und Validierung</br>\n",
    "✅ Dokumentation & Wartung</br>"
   ],
   "metadata": {
    "id": "bVVOswS6rHVF"
   },
   "id": "bVVOswS6rHVF"
  }
 ],
 "metadata": {
  "colab": {
   "collapsed_sections": [
    "_7yJp7s3suan",
    "56f799cf",
    "FJO386kuM3vO",
    "LTT1K4p0O2RX",
    "v4liWba85_G8",
    "JpWdtihU6FM2"
   ],
   "provenance": [],
   "toc_visible": true
  },
  "interpreter": {
   "hash": "5cea19e863d99f842bb8da0fbb59db822ac0a240937e83b89870ca5922c44ffe"
  },
  "kernelspec": {
   "display_name": "Python 3",
   "name": "python3"
  },
  "language_info": {
   "codemirror_mode": {
    "name": "ipython",
    "version": 3
   },
   "file_extension": ".py",
   "mimetype": "text/x-python",
   "name": "python",
   "nbconvert_exporter": "python",
   "pygments_lexer": "ipython3",
   "version": "3.9.6"
  },
  "toc": {
   "base_numbering": 1,
   "nav_menu": {},
   "number_sections": false,
   "sideBar": true,
   "skip_h1_title": false,
   "title_cell": "Table of Contents",
   "title_sidebar": "Contents",
   "toc_cell": false,
   "toc_position": {
    "height": "757px",
    "left": "33px",
    "top": "0px",
    "width": "324px"
   },
   "toc_section_display": true,
   "toc_window_display": false
  },
  "toc-autonumbering": true,
  "toc-showcode": false,
  "toc-showmarkdowntxt": false,
  "toc-showtags": true,
  "varInspector": {
   "cols": {
    "lenName": 16,
    "lenType": 16,
    "lenVar": 40
   },
   "kernels_config": {
    "python": {
     "delete_cmd_postfix": "",
     "delete_cmd_prefix": "del ",
     "library": "var_list.py",
     "varRefreshCmd": "print(var_dic_list())"
    },
    "r": {
     "delete_cmd_postfix": ") ",
     "delete_cmd_prefix": "rm(",
     "library": "var_list.r",
     "varRefreshCmd": "cat(var_dic_list()) "
    }
   },
   "position": {
    "height": "144.5px",
    "left": "1257px",
    "right": "20px",
    "top": "511px",
    "width": "350px"
   },
   "types_to_exclude": [
    "module",
    "function",
    "builtin_function_or_method",
    "instance",
    "_Feature"
   ],
   "window_display": true
  }
 },
 "nbformat": 4,
 "nbformat_minor": 5
}