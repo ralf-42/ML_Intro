{
 "cells": [
  {
   "cell_type": "markdown",
   "metadata": {
    "id": "fd913b05"
   },
   "source": [
    "<p><font size=\"6\" color='grey'> <b>\n",
    "Machine Learning\n",
    "</b></font> </br></p>\n",
    "<p><font size=\"5\" color='grey'> <b>\n",
    "Zeitreihenanalyse - Neuronale Netze RNN - LSTM - Sinus\n",
    "</b></font> </br></p>\n",
    "\n",
    "---\n"
   ]
  },
  {
   "cell_type": "code",
   "source": [
    "#@title 🔧 Colab-Umgebung { display-mode: \"form\" }\n",
    "!uv pip install --system -q git+https://github.com/ralf-42/Python_Modules\n",
    "from ml_lib.utilities import get_ipinfo\n",
    "import sys\n",
    "print()\n",
    "print(f\"Python Version: {sys.version}\")\n",
    "print()\n",
    "get_ipinfo()"
   ],
   "metadata": {
    "id": "e2Ad_gf7jGy8"
   },
   "execution_count": null,
   "outputs": []
  },
  {
   "cell_type": "markdown",
   "source": "# 0  | Install & Import\n***",
   "metadata": {
    "id": "_7yJp7s3suan"
   }
  },
  {
   "cell_type": "code",
   "source": [
    "# Install"
   ],
   "metadata": {
    "id": "u8MCvc99s6rp"
   },
   "execution_count": null,
   "outputs": []
  },
  {
   "cell_type": "code",
   "source": [
    "# Import\n",
    "from pandas import DataFrame, read_csv, concat\n",
    "\n",
    "from sklearn.model_selection import train_test_split\n",
    "\n",
    "import keras\n",
    "from tensorflow.keras.preprocessing.sequence import TimeseriesGenerator\n",
    "from keras.callbacks import EarlyStopping, ModelCheckpoint\n",
    "from keras.models import Sequential\n",
    "from keras.layers import Input, LSTM, Dense\n",
    "from keras.models import load_model\n",
    "from keras.utils import set_random_seed, plot_model\n",
    "\n",
    "from tensorflow import keras\n",
    "from tensorflow.config.experimental import enable_op_determinism\n",
    "import tensorflow as tf\n",
    "\n",
    "import plotly.express as px"
   ],
   "metadata": {
    "id": "pBQua1zVs6i0"
   },
   "execution_count": null,
   "outputs": []
  },
  {
   "cell_type": "code",
   "execution_count": null,
   "metadata": {
    "id": "zTlLLUOTMLLR"
   },
   "outputs": [],
   "source": [
    "# Warnung ausstellen\n",
    "import warnings\n",
    "warnings.filterwarnings(\"ignore\")"
   ]
  },
  {
   "cell_type": "markdown",
   "metadata": {
    "id": "Y83QyTGN7Xqa"
   },
   "source": "# 1 | Understand\n---"
  },
  {
   "cell_type": "markdown",
   "metadata": {
    "id": "238kOxGB7F1J"
   },
   "source": [
    "<p><font color='black' size=\"5\">\n",
    "Anwendungsfall\n",
    "</font></p>\n",
    "\n",
    "---   \n",
    "\n",
    "\n",
    "Ein synthetischer Datensatz, der 10 Merkmale enthält und den Verlauf einer Sinuskurve m/o Trend hat. Funktionen alternativ ausführen!"
   ]
  },
  {
   "cell_type": "code",
   "source": [
    "# @title\n",
    "# @markdown   <p><font size=\"4\" color='green'>  Synthetische Daten Sinus ohne Trend</font> </br></p>\n",
    "# def create_dataframe(n_samples, cycles=5):\n",
    "#     \"\"\"\n",
    "#     Erstellt einen DataFrame mit n_samples Datenpunkten, wobei die Zielgröße\n",
    "#     eine Sinuskurve repräsentiert und die Merkmale M1-M10 darauf basierende Transformationen sind.\n",
    "\n",
    "#     Parameters:\n",
    "#     - n_samples: int, die Anzahl der zu generierenden Datenpunkte.\n",
    "\n",
    "#     Returns:\n",
    "#     - df: pandas DataFrame, der die generierten Daten enthält.\n",
    "#     \"\"\"\n",
    "#     import numpy as np\n",
    "#     import pandas as pd\n",
    "#     # Basis für die Zielgröße\n",
    "#     time = np.linspace(0, cycles * 2 * np.pi, n_samples)\n",
    "#     target = np.sin(time)  # Zielgröße\n",
    "\n",
    "#     # Erzeugen von Merkmalen, die direkt oder indirekt von der Zielgröße abgeleitet sind\n",
    "#     features = {\n",
    "#         'M1': np.sin(time),\n",
    "#         'M2': np.cos(time),\n",
    "#         'M3': np.sin(time)**2,\n",
    "#         'M4': np.cos(time)**2,\n",
    "#         'M5': np.sin(time + np.pi/4),\n",
    "#         'M6': np.sin(time - np.pi/4),\n",
    "#         'M7': np.cos(time + np.pi/4),\n",
    "#         'M8': np.cos(time - np.pi/4),\n",
    "#         'M9': np.sin(2*time),\n",
    "#         'M10': np.cos(2*time)\n",
    "#     }\n",
    "\n",
    "#     # Erstellen des DataFrames\n",
    "#     data = DataFrame(features)\n",
    "#     data['target'] = target\n",
    "\n",
    "#     return data"
   ],
   "metadata": {
    "cellView": "form",
    "id": "gEpKKoIHlORu"
   },
   "execution_count": null,
   "outputs": []
  },
  {
   "cell_type": "code",
   "source": [
    "# @title\n",
    "# @markdown   <p><font size=\"4\" color='green'>  Synthetische Daten Sinus mit Trend</font> </br></p>\n",
    "def create_dataframe_trend(n_samples, cycles=5, trend_slope=0.01):\n",
    "    \"\"\"\n",
    "    Erstellt einen DataFrame mit n_samples Datenpunkten, wobei die Zielgröße\n",
    "    eine Sinuskurve repräsentiert und die Merkmale M1-M10 darauf basierende Transformationen sind.\n",
    "\n",
    "    Parameters:\n",
    "    - n_samples: int, die Anzahl der zu generierenden Datenpunkte.\n",
    "    - trend_slope: float, die Steigung des linearen Trends.\n",
    "\n",
    "    Returns:\n",
    "    - df: pandas DataFrame, der die generierten Daten enthält.\n",
    "    \"\"\"\n",
    "    import numpy as np\n",
    "    import pandas as pd\n",
    "\n",
    "    # Basis für die Zielgröße\n",
    "    time = np.linspace(0, cycles * 2 * np.pi, n_samples)\n",
    "    target = np.sin(time) + trend_slope * time  # Zielgröße mit linearem Trend\n",
    "\n",
    "    # Erzeugen von Merkmalen, die direkt oder indirekt von der Zielgröße abgeleitet sind\n",
    "    features = {\n",
    "        \"M1\": np.sin(time),\n",
    "        \"M2\": np.cos(time),\n",
    "        \"M3\": np.sin(time) ** 2,\n",
    "        \"M4\": np.cos(time) ** 2,\n",
    "        \"M5\": np.sin(time + np.pi / 4),\n",
    "        \"M6\": np.sin(time - np.pi / 4),\n",
    "        \"M7\": np.cos(time + np.pi / 4),\n",
    "        \"M8\": np.cos(time - np.pi / 4),\n",
    "        \"M9\": np.sin(2 * time),\n",
    "        \"M10\": np.cos(2 * time),\n",
    "    }\n",
    "\n",
    "    # Erstellen des DataFrames\n",
    "    data = DataFrame(features)\n",
    "    data[\"target\"] = target\n",
    "\n",
    "    return data"
   ],
   "metadata": {
    "cellView": "form",
    "id": "7doUsgaRQ9iS"
   },
   "execution_count": null,
   "outputs": []
  },
  {
   "cell_type": "code",
   "source": [
    "# Erzeugen von x Datenpunkten mit y Zyklen\n",
    "# Beispiel: 52 Woche x 5 Jahre → 260, 5\n",
    "#\n",
    "# data = create_dataframe(520, 10) # ohne Trend\n",
    "data = create_dataframe_trend(520, 10, 0.001)  # mit Trend"
   ],
   "metadata": {
    "id": "RbOSnhw0kJ8X"
   },
   "execution_count": null,
   "outputs": []
  },
  {
   "cell_type": "markdown",
   "metadata": {
    "id": "kYIhOLezvNJ5"
   },
   "source": [
    "<p><font color='black' size=\"5\">\n",
    "EDA (Exploratory Data Analysis)   \n",
    "</font></p>"
   ]
  },
  {
   "cell_type": "markdown",
   "metadata": {
    "id": "EvJ92fvmYI0P"
   },
   "source": [
    "<p><font color='black' size=\"4\">\n",
    "Visualisierung der Daten\n",
    "</font></p>"
   ]
  },
  {
   "cell_type": "code",
   "execution_count": null,
   "metadata": {
    "id": "R7hVZ_R9KDqT"
   },
   "outputs": [],
   "source": [
    "fig = px.line(data, y=\"target\", title=\"Grundprinzip\", width=1000, height=500)\n",
    "fig.show()"
   ]
  },
  {
   "cell_type": "code",
   "source": [
    "target = data.pop(\"target\")"
   ],
   "metadata": {
    "id": "6DCioc5gnf1y"
   },
   "execution_count": null,
   "outputs": []
  },
  {
   "cell_type": "markdown",
   "metadata": {
    "id": "Sl3dZGn37Xqf"
   },
   "source": "# 2 | Prepare\n---"
  },
  {
   "cell_type": "markdown",
   "source": [
    "<p><font color='black' size=\"5\">📋 Checkliste</font></p>\n",
    "\n",
    "✅ Nicht benötigte Features löschen</br>\n",
    "✅ Datentyp ermitteln/ändern</br>\n",
    "✅ Duplikate ermitteln/löschen</br>\n",
    "✅ Missing Values behandeln</br>\n",
    "✅ Ausreißer behandeln</br>\n",
    "✅ Kategorischer Features Kodieren</br>\n",
    "✅ Numerischer Features skalieren</br>\n",
    "✅ Feature-Engineering (neue Features schaffen)</br>\n",
    "✅ Dimensionalität reduzieren</br>\n",
    "✅ Resampling (Over-/Undersampling)</br>\n",
    "✅ Pipeline erstellen/konfigurieren</br>\n",
    "✅ Train-Test-Split durchführen</br>"
   ],
   "metadata": {
    "id": "6R1ApNTazWoK"
   }
  },
  {
   "cell_type": "markdown",
   "source": [
    "\n",
    "<p><font color='black' size=\"5\">\n",
    "Train-Test-Split\n",
    "</font></p>"
   ],
   "metadata": {
    "id": "AAvnIULrdq0U"
   }
  },
  {
   "cell_type": "code",
   "execution_count": null,
   "metadata": {
    "id": "G-maV7Ui6vS4"
   },
   "outputs": [],
   "source": [
    "data_train, data_test, target_train, target_test = train_test_split(\n",
    "    data, target, test_size=0.2, shuffle=False\n",
    ")\n",
    "data_train.shape, data_test.shape, target_train.shape, target_test.shape"
   ]
  },
  {
   "cell_type": "markdown",
   "metadata": {
    "id": "vyQqc6ziPq__"
   },
   "source": "# 3 | Modeling\n---"
  },
  {
   "cell_type": "markdown",
   "source": [
    "<p><font color='black' size=\"5\">📋 Checkliste</font></p>\n",
    "\n",
    "✅ Modellauswahl treffen</br>\n",
    "✅ Pipeline erweitern/konfigurieren</br>\n",
    "✅ Training durchführen</br>\n",
    "✅ Hyperparameter Tuning</br>\n",
    "✅ Cross-Valdiation</br>\n",
    "✅ Bootstrapping</br>\n",
    "✅ Regularization</br>"
   ],
   "metadata": {
    "id": "tnw4CY5fzZRc"
   }
  },
  {
   "cell_type": "markdown",
   "source": [
    "<p><font color='black' size=\"5\">\n",
    "Zufallszahl initialisieren\n",
    "</font></p>"
   ],
   "metadata": {
    "id": "pEEe7SsBXJ4s"
   }
  },
  {
   "cell_type": "code",
   "source": [
    "set_random_seed(42)\n",
    "enable_op_determinism()"
   ],
   "metadata": {
    "id": "MJKs17NhfdAr"
   },
   "execution_count": null,
   "outputs": []
  },
  {
   "cell_type": "markdown",
   "metadata": {
    "id": "DvQZENtoTIYT"
   },
   "source": [
    "<p><font color='black' size=\"5\">\n",
    "Übergreifende Parameter\n",
    "</font></p"
   ]
  },
  {
   "cell_type": "code",
   "execution_count": null,
   "metadata": {
    "id": "f6alS_7dTGS9"
   },
   "outputs": [],
   "source": [
    "past_steps = 52\n",
    "future_steps = 52\n",
    "num_features = 10"
   ]
  },
  {
   "cell_type": "markdown",
   "source": [
    "\n",
    "<p><font color='black' size=\"5\">\n",
    "Aufbau der Zeitscheiben\n",
    "</font></p>"
   ],
   "metadata": {
    "id": "m_4aRiPDd-LV"
   }
  },
  {
   "cell_type": "code",
   "source": [
    "generator = TimeseriesGenerator(\n",
    "    data_train, target_train, length=past_steps, batch_size=future_steps\n",
    ")\n",
    "\n",
    "# # Beispiel erste Zeitscheibe\n",
    "x, y = generator[0]\n",
    "print(x.shape, y.shape)"
   ],
   "metadata": {
    "id": "bfhCOPW7eAMW"
   },
   "execution_count": null,
   "outputs": []
  },
  {
   "cell_type": "markdown",
   "metadata": {
    "id": "DS8W0itpn2dS"
   },
   "source": [
    "<p><font color='black' size=\"5\">\n",
    "Modellaufbau\n",
    "</font></p>"
   ]
  },
  {
   "cell_type": "markdown",
   "metadata": {
    "id": "F7v3uCfkurz7"
   },
   "source": [
    "[Core layers](https://keras.io/api/layers/core_layers/)    \n",
    "[Recurrent layers](https://keras.io/api/layers/recurrent_layers/)   \n",
    "[Layer activation functions](https://keras.io/api/layers/activations/)   \n"
   ]
  },
  {
   "cell_type": "code",
   "execution_count": null,
   "metadata": {
    "id": "1yKMdjtRzy-o"
   },
   "outputs": [],
   "source": [
    "model = Sequential(name=\"Zeitreihenanalyse\")\n",
    "model.add(Input(shape=(past_steps, num_features)))\n",
    "model.add(LSTM(64, activation=\"relu\", return_sequences=True))\n",
    "model.add(LSTM(32, activation=\"relu\", return_sequences=False))\n",
    "model.add(Dense(1))"
   ]
  },
  {
   "cell_type": "code",
   "source": [
    "model.summary()"
   ],
   "metadata": {
    "id": "ZtKwm_J6elt2"
   },
   "execution_count": null,
   "outputs": []
  },
  {
   "cell_type": "code",
   "source": [
    "# Visualisierung neuronales Netz\n",
    "plot_model(\n",
    "    model,\n",
    "    to_file=\"nn_structure.png\",\n",
    "    show_shapes=True,\n",
    "    show_dtype=True,\n",
    "    show_layer_names=True,\n",
    "    dpi=100,\n",
    "    expand_nested=True,\n",
    "    show_layer_activations=True\n",
    ")"
   ],
   "metadata": {
    "id": "zKl42WFFPMHC"
   },
   "execution_count": null,
   "outputs": []
  },
  {
   "cell_type": "code",
   "source": [
    "# Anzahl Parameter je Layer\n",
    "for layer in model.layers:\n",
    "    print(f\"{layer.name}: {layer.count_params()} Parameter\")"
   ],
   "metadata": {
    "id": "ZsWC_6flPNuW"
   },
   "execution_count": null,
   "outputs": []
  },
  {
   "cell_type": "markdown",
   "source": [
    "\n",
    "<p><font color='black' size=\"5\">\n",
    "Compile\n",
    "</font></p>"
   ],
   "metadata": {
    "id": "YVA2wecWehNr"
   }
  },
  {
   "cell_type": "code",
   "execution_count": null,
   "metadata": {
    "id": "sxmXwfIv46YL"
   },
   "outputs": [],
   "source": [
    "model.compile(optimizer=\"rmsprop\", loss=\"mse\", metrics=[\"mae\"])"
   ]
  },
  {
   "cell_type": "markdown",
   "source": [
    "<p><font color='black' size=\"5\">\n",
    "Callbacks\n",
    "</font></p>"
   ],
   "metadata": {
    "id": "ZeUAuiK04kWW"
   }
  },
  {
   "cell_type": "code",
   "source": [
    "early = EarlyStopping(monitor=\"mae\", patience=2)\n",
    "check = ModelCheckpoint(filepath=\"model.keras\", monitor=\"mae\", save_best_only=True)"
   ],
   "metadata": {
    "id": "nUhi00KIoVDV"
   },
   "execution_count": null,
   "outputs": []
  },
  {
   "cell_type": "markdown",
   "metadata": {
    "id": "aQq9PFdJoOTz"
   },
   "source": [
    "<p><font color='black' size=\"5\">\n",
    "Training\n",
    "</font></p>"
   ]
  },
  {
   "cell_type": "code",
   "source": [
    "model.fit(generator, epochs=5, batch_size=256, callbacks=[early, check])"
   ],
   "metadata": {
    "id": "oILp-qjF4fWw"
   },
   "execution_count": null,
   "outputs": []
  },
  {
   "cell_type": "code",
   "execution_count": null,
   "metadata": {
    "id": "zZCWdjoWvck7"
   },
   "outputs": [],
   "source": [
    "save_history = model.history.history"
   ]
  },
  {
   "cell_type": "markdown",
   "metadata": {
    "id": "wXiWLtw3desg"
   },
   "source": [
    "<p><font color='black' size=\"5\">\n",
    "Loss-Entwickung\n",
    "</font></p>"
   ]
  },
  {
   "cell_type": "code",
   "execution_count": null,
   "metadata": {
    "id": "tmnyVFtWdiG3"
   },
   "outputs": [],
   "source": [
    "title_ = \"Loss-Entwicklung\"\n",
    "px.line(\n",
    "    y=save_history[\"loss\"],\n",
    "    title=title_,\n",
    "    labels={\"x\": \"Epochen\", \"y\": \"Loss-Wert\"},\n",
    "    width=800,\n",
    "    height=400,\n",
    ")"
   ]
  },
  {
   "cell_type": "markdown",
   "metadata": {
    "id": "OtfQPxYB7Xqj"
   },
   "source": "# 4 | Evaluate\n---"
  },
  {
   "cell_type": "markdown",
   "source": [
    "<p><font color='black' size=\"5\">📋 Checkliste</font></p>\n",
    "\n",
    "✅ Prognose (Train, Test) erstellen</br>\n",
    "✅ Modellgüte prüfen</br>\n",
    "✅ Residuenanalyse erstellen</br>\n",
    "✅ Feature Importance/Selektion prüfen</br>\n",
    "✅ Robustheitstest erstellen</br>\n",
    "✅ Modellinterpretation erstellen</br>\n",
    "✅ Sensitivitätsanalyse erstellen</br>\n",
    "✅ Kommunikation (Key Takeaways)</br>"
   ],
   "metadata": {
    "id": "g_y5xBmCju8S"
   }
  },
  {
   "cell_type": "markdown",
   "metadata": {
    "id": "SWKRBt_4JW90"
   },
   "source": [
    "<p><font color='black' size=\"5\">\n",
    "Prognose\n",
    "</font></p>"
   ]
  },
  {
   "cell_type": "code",
   "source": [
    "### Bestes Modell laden\n",
    "model = load_model(\"model.keras\")"
   ],
   "metadata": {
    "id": "gu_5oZhZrGQo"
   },
   "execution_count": null,
   "outputs": []
  },
  {
   "cell_type": "code",
   "source": [
    "# Einfache Vorhersage: Istdaten aus dem TestSet (Merkmale) werden werden zur Vorhersage eines Monats verwendet\n",
    "prediction_generator = TimeseriesGenerator(\n",
    "    data_test.values, target_test.values, length=past_steps, batch_size=future_steps\n",
    ")\n",
    "\n",
    "# Beispiel erste Zeitscheibe\n",
    "x, y = prediction_generator[0]\n",
    "print(x.shape, y.shape)"
   ],
   "metadata": {
    "id": "fZ4WPTjwYv_Y"
   },
   "execution_count": null,
   "outputs": []
  },
  {
   "cell_type": "code",
   "source": [
    "# Vorhersagen machen\n",
    "predictions = model.predict(prediction_generator)"
   ],
   "metadata": {
    "id": "JWDB0EBV3_VP"
   },
   "execution_count": null,
   "outputs": []
  },
  {
   "cell_type": "code",
   "source": [
    "predictions.shape"
   ],
   "metadata": {
    "id": "xsdIEqbD2Jwp"
   },
   "execution_count": null,
   "outputs": []
  },
  {
   "cell_type": "markdown",
   "metadata": {
    "id": "-fmkv7OmJnRp"
   },
   "source": [
    "<p><font color='black' size=\"5\">\n",
    "Vergleich Zeitreihen\n",
    "</font></p>"
   ]
  },
  {
   "cell_type": "code",
   "source": [
    "cube = DataFrame(target_test[future_steps:])  # Target ist x Perioden zu lang\n",
    "cube[\"Predict\"] = predictions"
   ],
   "metadata": {
    "id": "Jp6-da8xLvYw"
   },
   "execution_count": null,
   "outputs": []
  },
  {
   "cell_type": "code",
   "execution_count": null,
   "metadata": {
    "id": "NPoW3jAnJnRq"
   },
   "outputs": [],
   "source": [
    "fig = px.line(\n",
    "    cube,\n",
    "    y=[\"target\", \"Predict\"],\n",
    "    title=\"Zeitreihenanalyse - Target vs. Predict\",\n",
    "    width=1200,\n",
    "    height=500,\n",
    ")\n",
    "fig.show()"
   ]
  },
  {
   "cell_type": "markdown",
   "metadata": {
    "id": "0bT45ET2eYSY"
   },
   "source": "# 5 | Deploy\n---"
  },
  {
   "cell_type": "markdown",
   "metadata": {
    "id": "BjI9wW2wLQqE"
   },
   "source": [
    "<p><font color='black' size=\"5\">📋 Checkliste</font></p>\n",
    "\n",
    "✅ Modellexport und -speicherung</br>\n",
    "✅ Abhängigkeiten und Umgebung</br>\n",
    "✅ Sicherheit und Datenschutz</br>\n",
    "✅ In die Produktion integrieren</br>\n",
    "✅ Tests und Validierung</br>\n",
    "✅ Dokumentation & Wartung</br>"
   ]
  },
  {
   "cell_type": "markdown",
   "source": [
    "<p><font color='black' size=\"5\">\n",
    "Modell speichern\n",
    "</font></p>"
   ],
   "metadata": {
    "id": "_Y47NIF9e7bN"
   }
  },
  {
   "cell_type": "code",
   "source": [
    "model.save(\"model.keras\")"
   ],
   "metadata": {
    "id": "Yg235zw1ewbN"
   },
   "execution_count": null,
   "outputs": []
  },
  {
   "cell_type": "code",
   "source": [
    "del model"
   ],
   "metadata": {
    "id": "rQdJV_sJjS4u"
   },
   "execution_count": null,
   "outputs": []
  },
  {
   "cell_type": "markdown",
   "source": [
    "<p><font color='black' size=\"5\">\n",
    "Modell einlesen\n",
    "</font></p>"
   ],
   "metadata": {
    "id": "qBCoicJcfCLf"
   }
  },
  {
   "cell_type": "code",
   "source": [
    "new_model = load_model(\"model.keras\")"
   ],
   "metadata": {
    "id": "BqH1sw2ufFEj"
   },
   "execution_count": null,
   "outputs": []
  },
  {
   "cell_type": "code",
   "source": [
    "new_model.summary()"
   ],
   "metadata": {
    "id": "JiGy7pRfhYQY"
   },
   "execution_count": null,
   "outputs": []
  },
  {
   "cell_type": "code",
   "source": [
    "new_model.get_weights()"
   ],
   "metadata": {
    "id": "CofEz4Qpp9da"
   },
   "execution_count": null,
   "outputs": []
  }
 ],
 "metadata": {
  "colab": {
   "collapsed_sections": [
    "_7yJp7s3suan",
    "Y83QyTGN7Xqa",
    "Sl3dZGn37Xqf",
    "vyQqc6ziPq__",
    "OtfQPxYB7Xqj",
    "0bT45ET2eYSY"
   ],
   "provenance": [],
   "toc_visible": true
  },
  "gpuClass": "standard",
  "interpreter": {
   "hash": "5cea19e863d99f842bb8da0fbb59db822ac0a240937e83b89870ca5922c44ffe"
  },
  "kernelspec": {
   "display_name": "Python 3 (ipykernel)",
   "language": "python",
   "name": "python3"
  },
  "language_info": {
   "codemirror_mode": {
    "name": "ipython",
    "version": 3
   },
   "file_extension": ".py",
   "mimetype": "text/x-python",
   "name": "python",
   "nbconvert_exporter": "python",
   "pygments_lexer": "ipython3",
   "version": "3.8.17"
  }
 },
 "nbformat": 4,
 "nbformat_minor": 0
}