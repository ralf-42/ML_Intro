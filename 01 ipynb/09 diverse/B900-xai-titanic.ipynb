{
 "cells": [
  {
   "cell_type": "markdown",
   "id": "fd913b05",
   "metadata": {
    "id": "fd913b05"
   },
   "source": [
    "<p><font size=\"6\" color='grey'> <b>\n",
    "Machine Learning\n",
    "</b></font> </br></p>\n",
    "<p><font size=\"5\" color='grey'> <b>\n",
    "eXplainable Artificial Intelligence (XAI) - Titanic\n",
    "</b></font> </br></p>\n",
    "\n",
    "---\n"
   ]
  },
  {
   "cell_type": "markdown",
   "source": [
    "with DALEX (moDel Agnostic Language for Exploration and eXplanation)\n",
    "\n",
    "[DALEX](https://github.com/ModelOriented/DALEX)\n",
    "[DrWhy.AI](https://github.com/ModelOriented/DrWhy/blob/master/README.md)"
   ],
   "metadata": {
    "id": "q34pscL5XRgw"
   },
   "id": "q34pscL5XRgw"
  },
  {
   "cell_type": "code",
   "source": [
    "#@title 🔧 Colab-Umgebung { display-mode: \"form\" }\n",
    "!uv pip install --system -q git+https://github.com/ralf-42/Python_Modules\n",
    "from ml_lib.utilities import get_ipinfo\n",
    "import sys\n",
    "print()\n",
    "print(f\"Python Version: {sys.version}\")\n",
    "print()\n",
    "get_ipinfo()"
   ],
   "metadata": {
    "id": "bgzZjabUirGV"
   },
   "id": "bgzZjabUirGV",
   "execution_count": null,
   "outputs": []
  },
  {
   "cell_type": "markdown",
   "source": "# 0  | Install & Import\n***",
   "metadata": {
    "id": "_7yJp7s3suan"
   },
   "id": "_7yJp7s3suan"
  },
  {
   "cell_type": "code",
   "source": [
    "# Install\n",
    "!uv pip install --system -q dalex -U\n",
    "!uv pip install --system -q numpy scipy -U"
   ],
   "metadata": {
    "id": "u8MCvc99s6rp"
   },
   "execution_count": null,
   "outputs": [],
   "id": "u8MCvc99s6rp"
  },
  {
   "cell_type": "code",
   "source": [
    "# Import\n",
    "from pandas import read_csv, DataFrame\n",
    "\n",
    "from sklearn.preprocessing import StandardScaler, OneHotEncoder\n",
    "from sklearn.impute import SimpleImputer\n",
    "from sklearn.pipeline import Pipeline\n",
    "from sklearn.compose import ColumnTransformer\n",
    "from sklearn.model_selection import train_test_split\n",
    "from sklearn.neural_network import MLPClassifier\n",
    "from sklearn.metrics import (\n",
    "    accuracy_score,\n",
    "    cohen_kappa_score,\n",
    "    confusion_matrix,\n",
    "    ConfusionMatrixDisplay,\n",
    "    classification_report,\n",
    ")\n",
    "\n",
    "import dalex as dx"
   ],
   "metadata": {
    "id": "pBQua1zVs6i0"
   },
   "execution_count": null,
   "outputs": [],
   "id": "pBQua1zVs6i0"
  },
  {
   "cell_type": "code",
   "execution_count": null,
   "metadata": {
    "id": "zTlLLUOTMLLR"
   },
   "outputs": [],
   "source": [
    "# Warnung ausstellen\n",
    "import warnings\n",
    "warnings.filterwarnings(\"ignore\")"
   ],
   "id": "zTlLLUOTMLLR"
  },
  {
   "cell_type": "markdown",
   "id": "56f799cf",
   "metadata": {
    "id": "56f799cf"
   },
   "source": "# 1  | Understand\n***"
  },
  {
   "cell_type": "markdown",
   "id": "dd8ea577",
   "metadata": {
    "id": "dd8ea577"
   },
   "source": [
    "<p><font color='black' size=\"5\">\n",
    "Anwendungsfall\n",
    "</font></p>\n",
    "\n",
    "Dies ist der legendäre Titanic ML-Wettbewerb – die beste erste Herausforderung, um in ML-Modellierung einzutauchen.\n",
    "\n",
    "Die Aufgabe ist einfach: Verwenden Sie maschinelles Lernen, um ein Modell zu erstellen, das vorhersagt, welche Passagiere den Schiffbruch der Titanic überlebt haben.\n",
    "\n",
    "Wie lassen sich die Ergebnisse nachvollziehbar erklären.\n",
    "\n",
    "\n",
    "[Titanic Org](https://www.encyclopedia-titanica.org/)\n",
    "\n",
    "[DataSet](https://www.openml.org/search?type=data&status=active&id=40945)\n",
    "\n",
    "[Info](https://www.kaggle.com/competitions/titanic/data)\n",
    "\n"
   ]
  },
  {
   "cell_type": "code",
   "source": [
    "df = read_csv(\n",
    "    \"https://raw.githubusercontent.com/ralf-42/ML_Intro/main/02%20data/Titanic.csv\",\n",
    "    usecols=[\"pclass\", \"survived\", \"sex\", \"age\", \"sibsp\", \"parch\"],\n",
    ")"
   ],
   "metadata": {
    "id": "jt6SJ7gC-1jo"
   },
   "id": "jt6SJ7gC-1jo",
   "execution_count": null,
   "outputs": []
  },
  {
   "cell_type": "code",
   "source": [
    "data = df.copy()\n",
    "target = data.pop(\"survived\")"
   ],
   "metadata": {
    "id": "rx6fRqE4-6mY"
   },
   "id": "rx6fRqE4-6mY",
   "execution_count": null,
   "outputs": []
  },
  {
   "cell_type": "code",
   "source": [
    "data.groupby(\"pclass\").count()"
   ],
   "metadata": {
    "id": "wQ3Xe-5yOd7P"
   },
   "id": "wQ3Xe-5yOd7P",
   "execution_count": null,
   "outputs": []
  },
  {
   "cell_type": "code",
   "source": [
    "target.value_counts()"
   ],
   "metadata": {
    "id": "ebxk1gyNApD2"
   },
   "id": "ebxk1gyNApD2",
   "execution_count": null,
   "outputs": []
  },
  {
   "cell_type": "code",
   "source": [
    "data.head(-5)"
   ],
   "metadata": {
    "id": "phc9G-WP2ofH"
   },
   "id": "phc9G-WP2ofH",
   "execution_count": null,
   "outputs": []
  },
  {
   "cell_type": "markdown",
   "id": "FJO386kuM3vO",
   "metadata": {
    "id": "FJO386kuM3vO"
   },
   "source": "# 2 | Prepare\n\n---"
  },
  {
   "cell_type": "markdown",
   "source": [
    "\n",
    "<p><font color='black' size=\"5\">\n",
    "Datentyp ermitteln\n",
    "</font></p>"
   ],
   "metadata": {
    "id": "CV8AL1nJ2tko"
   },
   "id": "CV8AL1nJ2tko"
  },
  {
   "cell_type": "code",
   "source": [
    "all_col = data.columns\n",
    "num_col = data.select_dtypes(include=\"number\").columns\n",
    "cat_col = data.select_dtypes(exclude=\"number\").columns"
   ],
   "metadata": {
    "id": "moOpgC-Z253V"
   },
   "execution_count": null,
   "outputs": [],
   "id": "moOpgC-Z253V"
  },
  {
   "cell_type": "markdown",
   "source": [
    "\n",
    "<p><font color='black' size=\"5\">\n",
    "Kodierung\n",
    "</font></p>"
   ],
   "metadata": {
    "id": "AagqJFx83KG4"
   },
   "id": "AagqJFx83KG4"
  },
  {
   "cell_type": "code",
   "source": [
    "categorical_transformer = Pipeline(\n",
    "    steps=[\n",
    "        (\"imputer\", SimpleImputer(strategy=\"constant\", fill_value=\"missing\")),\n",
    "        (\"onehot\", OneHotEncoder(handle_unknown=\"ignore\")),\n",
    "    ]\n",
    ")"
   ],
   "metadata": {
    "id": "DaZKYQuw3FYB"
   },
   "execution_count": null,
   "outputs": [],
   "id": "DaZKYQuw3FYB"
  },
  {
   "cell_type": "markdown",
   "source": [
    "\n",
    "<p><font color='black' size=\"5\">\n",
    "Skalierung\n",
    "</font></p>"
   ],
   "metadata": {
    "id": "-WdWsJWN3WHo"
   },
   "id": "-WdWsJWN3WHo"
  },
  {
   "cell_type": "code",
   "source": [
    "numerical_transformer = Pipeline(\n",
    "    steps=[\n",
    "        (\"imputer\", SimpleImputer(strategy=\"mean\")),\n",
    "        (\"scaler\", StandardScaler())]\n",
    ")"
   ],
   "metadata": {
    "id": "MD3pD_-D208T"
   },
   "execution_count": null,
   "outputs": [],
   "id": "MD3pD_-D208T"
  },
  {
   "cell_type": "markdown",
   "source": [
    "\n",
    "<p><font color='black' size=\"5\">\n",
    "Pipeline\n",
    "</font></p>"
   ],
   "metadata": {
    "id": "A3assWML3fjy"
   },
   "id": "A3assWML3fjy"
  },
  {
   "cell_type": "code",
   "source": [
    "preprocessor = ColumnTransformer(\n",
    "    transformers=[\n",
    "        (\"num\", numerical_transformer, num_col),\n",
    "        (\"cat\", categorical_transformer, cat_col),\n",
    "    ]\n",
    ")"
   ],
   "metadata": {
    "id": "5jUIfBGB3GsI"
   },
   "execution_count": null,
   "outputs": [],
   "id": "5jUIfBGB3GsI"
  },
  {
   "cell_type": "markdown",
   "metadata": {
    "id": "3e8e0437"
   },
   "source": [
    "\n",
    "<p><font color='black' size=\"5\">\n",
    "Train-Test-Split\n",
    "</font></p>"
   ],
   "id": "3e8e0437"
  },
  {
   "cell_type": "code",
   "source": [
    "data_train, data_test, target_train, target_test = train_test_split(\n",
    "    data, target, test_size=0.20, random_state=42, stratify=target\n",
    ")\n",
    "data_train.shape, data_test.shape, target_train.shape, target_test.shape"
   ],
   "metadata": {
    "id": "1l0iLCdDVREQ"
   },
   "execution_count": null,
   "outputs": [],
   "id": "1l0iLCdDVREQ"
  },
  {
   "cell_type": "markdown",
   "id": "LTT1K4p0O2RX",
   "metadata": {
    "id": "LTT1K4p0O2RX"
   },
   "source": "# 3 | Modeling\n---"
  },
  {
   "cell_type": "markdown",
   "source": [
    "<p><font color='black' size=\"5\">\n",
    "Modellauswahl\n",
    "</font></p>"
   ],
   "metadata": {
    "id": "8v0YxzwP39Zw"
   },
   "id": "8v0YxzwP39Zw"
  },
  {
   "cell_type": "code",
   "execution_count": null,
   "id": "1c20517e",
   "metadata": {
    "id": "1c20517e"
   },
   "outputs": [],
   "source": [
    "classifier = MLPClassifier(\n",
    "    hidden_layer_sizes=(150, 100, 50), max_iter=500, random_state=42\n",
    ")"
   ]
  },
  {
   "cell_type": "code",
   "source": [
    "model = Pipeline(steps=[(\"preprocessor\", preprocessor), (\"classifier\", classifier)])"
   ],
   "metadata": {
    "id": "QCwf2rpuCet0"
   },
   "id": "QCwf2rpuCet0",
   "execution_count": null,
   "outputs": []
  },
  {
   "cell_type": "markdown",
   "source": [
    "<p><font color='black' size=\"5\">\n",
    "Training\n",
    "</font></p>"
   ],
   "metadata": {
    "id": "1hhy4u6CGm3B"
   },
   "id": "1hhy4u6CGm3B"
  },
  {
   "cell_type": "code",
   "source": [
    "model.fit(data_train, target_train)"
   ],
   "metadata": {
    "id": "4v9nxSARGbuP"
   },
   "id": "4v9nxSARGbuP",
   "execution_count": null,
   "outputs": []
  },
  {
   "cell_type": "markdown",
   "id": "v4liWba85_G8",
   "metadata": {
    "id": "v4liWba85_G8"
   },
   "source": "# 4 | Evaluate\n---"
  },
  {
   "cell_type": "markdown",
   "source": [
    "\n",
    "<p><font color='black' size=\"5\">\n",
    "Accuracy, Cohen's Kappa, Confusion Matrix\n",
    "</font></p>"
   ],
   "metadata": {
    "id": "MLAtgf2B5bI4"
   },
   "id": "MLAtgf2B5bI4"
  },
  {
   "cell_type": "code",
   "source": [
    "# @title\n",
    "# @markdown <p><font size=\"5\" color='grey'> <b> Code </b></font> </br></p>\n",
    "def evaluate(model, data_train, data_test, target_train, target_test):\n",
    "    # ---\n",
    "    target_train_pred = model.predict(data_train)\n",
    "    target_test_pred = model.predict(data_test)\n",
    "    target_pred = model.predict(data)\n",
    "    # ---\n",
    "    acc_train = accuracy_score(target_train, target_train_pred) * 100\n",
    "    cks_train = cohen_kappa_score(target_train, target_train_pred)\n",
    "    print(f\"Train -- Accuracy: {acc_train:5.2f}%, Cohen's Kappa: {cks_train:5.2f}\")\n",
    "    # ---\n",
    "    acc_test = accuracy_score(target_test, target_test_pred) * 100\n",
    "    cks_test = cohen_kappa_score(target_test, target_test_pred)\n",
    "    print(f\"Test -- Accuracy: {acc_test:5.2f}%, Cohen's Kappa: {cks_test:5.2f}\")\n",
    "    # ---\n",
    "    acc_all = accuracy_score(target, target_pred) * 100\n",
    "    cks_all = cohen_kappa_score(target, target_pred)\n",
    "    print(f\"All -- Accuracy: {acc_all:5.2f}, Cohen's Kappa: {cks_all:5.2f}\")\n",
    "    print(\"\\n\")\n",
    "    # ---\n",
    "    conf_matrix = confusion_matrix(target_test, target_test_pred)\n",
    "    display_labels_ = [\"Not Survived\", \"Survived\"]\n",
    "    disp = ConfusionMatrixDisplay(conf_matrix, display_labels=display_labels_)\n",
    "    disp.plot(cmap=\"Blues\")\n",
    "    print(\n",
    "        classification_report(\n",
    "            target_test, target_test_pred, target_names=display_labels_\n",
    "        )\n",
    "    )\n",
    "    # ---\n",
    "    result = data_test.copy()\n",
    "    result[\"target\"] = target_test\n",
    "    result[\"target_pred\"] = target_test_pred"
   ],
   "metadata": {
    "id": "P5PDxoiyxPWs",
    "cellView": "form"
   },
   "id": "P5PDxoiyxPWs",
   "execution_count": null,
   "outputs": []
  },
  {
   "cell_type": "code",
   "source": [
    "evaluate(model, data_train, data_test, target_train, target_test)"
   ],
   "metadata": {
    "id": "FT9dTKDIHSnl"
   },
   "id": "FT9dTKDIHSnl",
   "execution_count": null,
   "outputs": []
  },
  {
   "cell_type": "markdown",
   "id": "JpWdtihU6FM2",
   "metadata": {
    "id": "JpWdtihU6FM2"
   },
   "source": "# 5 | Deploy\n---"
  },
  {
   "cell_type": "markdown",
   "source": "# A | XAI - Local Explanations\n---",
   "metadata": {
    "id": "JN3Be79C5iEs"
   },
   "id": "JN3Be79C5iEs"
  },
  {
   "cell_type": "markdown",
   "source": [
    "<p><font color='black' size=\"5\">\n",
    "Explanation for Single Predictions\n",
    "</font></p>\n"
   ],
   "metadata": {
    "id": "vnHO6lRBCOjH"
   },
   "id": "vnHO6lRBCOjH"
  },
  {
   "cell_type": "code",
   "source": [
    "exp = dx.Explainer(model, data, target)"
   ],
   "metadata": {
    "id": "dIpofCO14dUX"
   },
   "id": "dIpofCO14dUX",
   "execution_count": null,
   "outputs": []
  },
  {
   "cell_type": "code",
   "source": [
    "data.columns"
   ],
   "metadata": {
    "id": "Af0UuvQUBftY"
   },
   "id": "Af0UuvQUBftY",
   "execution_count": null,
   "outputs": []
  },
  {
   "cell_type": "markdown",
   "source": [
    "<p><font color='black' size=\"5\">\n",
    "Prognose für Rose DeWitt Bukater und Jack Dawson\n",
    "</font></p>"
   ],
   "metadata": {
    "id": "l91YhpNN72H-"
   },
   "id": "l91YhpNN72H-"
  },
  {
   "cell_type": "code",
   "execution_count": null,
   "metadata": {
    "ExecuteTime": {
     "end_time": "2020-04-23T15:00:44.446636Z",
     "start_time": "2020-04-23T15:00:44.439628Z"
    },
    "id": "FxS4TLUsia9w"
   },
   "outputs": [],
   "source": [
    "rose = DataFrame(\n",
    "    {\"pclass\": [1], \"sex\": [\"female\"], \"age\": [22], \"sibsp\": [0], \"parch\": [1]},\n",
    "    index=[\"Rose\"],\n",
    ")\n",
    "\n",
    "rose_pred = float(exp.predict(rose)) * 100\n",
    "print(f\"Prognose: Rose wird gerettet: {rose_pred:.2f}%\")"
   ],
   "id": "FxS4TLUsia9w"
  },
  {
   "cell_type": "code",
   "execution_count": null,
   "metadata": {
    "ExecuteTime": {
     "end_time": "2020-04-23T15:00:44.438630Z",
     "start_time": "2020-04-23T15:00:44.434641Z"
    },
    "id": "s6SbvOQPia9w"
   },
   "outputs": [],
   "source": [
    "jack = DataFrame(\n",
    "    {\"pclass\": [3], \"sex\": [\"male\"], \"age\": [23], \"sibsp\": [0], \"parch\": [0]}\n",
    ")\n",
    "\n",
    "jack_pred = float(exp.predict(jack)) * 100\n",
    "print(f\"Prognose: Jack wird gerettet: {jack_pred:.2f}%\")"
   ],
   "id": "s6SbvOQPia9w"
  },
  {
   "cell_type": "markdown",
   "source": [
    "<p><font color='black' size=\"5\">\n",
    "Erläuterung der Prognose für Rose\n",
    "</font></p>\n"
   ],
   "metadata": {
    "id": "y7TYc-_Y_sgg"
   },
   "id": "y7TYc-_Y_sgg"
  },
  {
   "cell_type": "markdown",
   "source": [
    "[Break Down](https://pbiecek.github.io/ema/breakDown.html)\n",
    "\n",
    "Welche Variablen tragen am meisten zu diesem Ergebnis bei?  Zerlegung der Vorhersage des Modells in Beiträge, die verschiedenen erklärenden Merkmale zugeordnet werden können."
   ],
   "metadata": {
    "id": "tUA-qeX_BlUs"
   },
   "id": "tUA-qeX_BlUs"
  },
  {
   "cell_type": "code",
   "source": [
    "bd_rose = exp.predict_parts(rose, type=\"break_down\", label=rose.index[0])\n",
    "bd_plus_rose = exp.predict_parts(\n",
    "    rose, type=\"break_down_interactions\", label=\"Rose Plus\"\n",
    ")"
   ],
   "metadata": {
    "id": "BCDcU-D4Agq0"
   },
   "id": "BCDcU-D4Agq0",
   "execution_count": null,
   "outputs": []
  },
  {
   "cell_type": "code",
   "source": [
    "bd_rose.result"
   ],
   "metadata": {
    "id": "doUuB8XlBEq-"
   },
   "id": "doUuB8XlBEq-",
   "execution_count": null,
   "outputs": []
  },
  {
   "cell_type": "code",
   "source": [
    "bd_rose.plot()"
   ],
   "metadata": {
    "id": "ttX9TRx9Bqxr"
   },
   "id": "ttX9TRx9Bqxr",
   "execution_count": null,
   "outputs": []
  },
  {
   "cell_type": "markdown",
   "source": [
    "[Break Down plus](https://pbiecek.github.io/ema/iBreakDown.html)\n",
    "\n",
    "\n",
    "Berücksichtigung von Interaktionen zwischen den Merkmalen."
   ],
   "metadata": {
    "id": "krouuFHtRZmb"
   },
   "id": "krouuFHtRZmb"
  },
  {
   "cell_type": "code",
   "source": [
    "bd_plus_rose.plot()"
   ],
   "metadata": {
    "id": "w-tOphRFDdJJ"
   },
   "id": "w-tOphRFDdJJ",
   "execution_count": null,
   "outputs": []
  },
  {
   "cell_type": "markdown",
   "source": [
    "[Shapley Values](https://pbiecek.github.io/ema/shapley.html)\n",
    "\n",
    "\n",
    "Die Wert der Beiträge eines Merkmals wird über alle (oder eine große Anzahl) möglicher Ordnungen zu mitteln. Die Idee ist eng mit den „Shapley-Werten“ verknüpft, die ursprünglich für kooperative Spiele entwickelt wurden (Shapley 1953 )"
   ],
   "metadata": {
    "id": "DnJ4CPY2D1tu"
   },
   "id": "DnJ4CPY2D1tu"
  },
  {
   "cell_type": "code",
   "source": [
    "sh_rose = exp.predict_parts(rose, type=\"shap\", B=10, label=rose.index[0])\n",
    "sh_rose.result.loc[sh_rose.result.B == 0,]\n",
    "sh_rose.plot(bar_width=16)"
   ],
   "metadata": {
    "id": "ZzGGioZdBqu3"
   },
   "id": "ZzGGioZdBqu3",
   "execution_count": null,
   "outputs": []
  },
  {
   "cell_type": "markdown",
   "source": [
    "[Individual Profile / Ceteris Paribus Profiles](https://pbiecek.github.io/ema/ceterisParibus.html)"
   ],
   "metadata": {
    "id": "HhRQBFs5EDsX"
   },
   "id": "HhRQBFs5EDsX"
  },
  {
   "cell_type": "code",
   "source": [
    "cp_rose = exp.predict_profile(rose, label=rose.index[0])\n",
    "cp_jack = exp.predict_profile(jack, label=jack.index[0])\n",
    "cp_rose.result.head()"
   ],
   "metadata": {
    "id": "Rs4f-Q1QBqnI"
   },
   "id": "Rs4f-Q1QBqnI",
   "execution_count": null,
   "outputs": []
  },
  {
   "cell_type": "code",
   "source": [
    "cp_rose.plot(cp_jack)"
   ],
   "metadata": {
    "id": "gSUyoq0ZEcgi"
   },
   "id": "gSUyoq0ZEcgi",
   "execution_count": null,
   "outputs": []
  },
  {
   "cell_type": "code",
   "source": [
    "cp_rose.plot(cp_jack, variable_type=\"categorical\")"
   ],
   "metadata": {
    "id": "CJqj1HLtEcdG"
   },
   "id": "CJqj1HLtEcdG",
   "execution_count": null,
   "outputs": []
  },
  {
   "cell_type": "markdown",
   "source": "# B | XAI - Gobal Explanations\n---\nExplanation on Model Level",
   "metadata": {
    "id": "AGZt4-IXHGJH"
   },
   "id": "AGZt4-IXHGJH"
  },
  {
   "cell_type": "markdown",
   "source": [
    "<p><font color='black' size=\"5\">\n",
    "Modellperformance\n",
    "</font></p>"
   ],
   "metadata": {
    "id": "taxx_2DHIuw-"
   },
   "id": "taxx_2DHIuw-"
  },
  {
   "cell_type": "markdown",
   "source": [
    "[Model Performance](https://pbiecek.github.io/ema/modelPerformance.html)"
   ],
   "metadata": {
    "id": "158bzWm-QnJG"
   },
   "id": "158bzWm-QnJG"
  },
  {
   "cell_type": "code",
   "source": [
    "mp = exp.model_performance(model_type=\"classification\")\n",
    "mp.result"
   ],
   "metadata": {
    "id": "Aa0D4bKQBElb"
   },
   "id": "Aa0D4bKQBElb",
   "execution_count": null,
   "outputs": []
  },
  {
   "cell_type": "code",
   "source": [
    "mp.plot(geom=\"roc\")"
   ],
   "metadata": {
    "id": "zL3I1fBxBEjE"
   },
   "id": "zL3I1fBxBEjE",
   "execution_count": null,
   "outputs": []
  },
  {
   "cell_type": "markdown",
   "source": [
    "<p><font color='black' size=\"5\">\n",
    "Wichtigkeit der Merkmale für einzelne Merkmale & Merkmalsgruppen\n",
    "</font></p>\n"
   ],
   "metadata": {
    "id": "4cFtskYxJ4MN"
   },
   "id": "4cFtskYxJ4MN"
  },
  {
   "cell_type": "markdown",
   "source": [
    "Bild von <a href=\"https://pixabay.com/de/users/thedigitalartist-202249/?utm_source=link-attribution&amp;utm_medium=referral&amp;utm_campaign=image&amp;utm_content=1276873\">Pete Linforth</a> auf <a href=\"https://pixabay.com/de//?utm_source=link-attribution&amp;utm_medium=referral&amp;utm_campaign=image&amp;utm_content=1276873\">Pixabay</a>"
   ],
   "metadata": {
    "id": "EKCbLsBQQZvE"
   },
   "id": "EKCbLsBQQZvE"
  },
  {
   "cell_type": "code",
   "source": [
    "vi = exp.model_parts()\n",
    "vi.result"
   ],
   "metadata": {
    "id": "1nUDFlgaBEfx"
   },
   "id": "1nUDFlgaBEfx",
   "execution_count": null,
   "outputs": []
  },
  {
   "cell_type": "code",
   "source": [
    "vi.plot(max_vars=5)"
   ],
   "metadata": {
    "id": "Is9ih1IkBEdM"
   },
   "id": "Is9ih1IkBEdM",
   "execution_count": null,
   "outputs": []
  },
  {
   "cell_type": "code",
   "source": [
    "vi_grouped = exp.model_parts(\n",
    "    variable_groups={\"personal\": [\"sex\", \"age\", \"sibsp\", \"parch\"], \"status\": [\"pclass\"]}\n",
    ")\n",
    "vi_grouped.result"
   ],
   "metadata": {
    "id": "zw5ljiY5KJer"
   },
   "id": "zw5ljiY5KJer",
   "execution_count": null,
   "outputs": []
  },
  {
   "cell_type": "code",
   "source": [
    "vi_grouped.plot()"
   ],
   "metadata": {
    "id": "Y6_JVQM6KcVI"
   },
   "id": "Y6_JVQM6KcVI",
   "execution_count": null,
   "outputs": []
  },
  {
   "cell_type": "markdown",
   "source": [
    "\n",
    "<p><font color='black' size=\"5\">\n",
    "Modellprofil - Partial Dependence Profile & Accumulated Local Dependence Profile\n",
    "</font></p>"
   ],
   "metadata": {
    "id": "iC5P9x6pL1nf"
   },
   "id": "iC5P9x6pL1nf"
  },
  {
   "cell_type": "markdown",
   "source": [
    "[Partial Dependence Profile (PDP)](https://pbiecek.github.io/ema/partialDependenceProfiles.html)\n",
    "[Accumulated Local Dependence Profile (ALE)](https://pbiecek.github.io/ema/accumulatedLocalProfiles.html)"
   ],
   "metadata": {
    "id": "KH-f49L5QAvZ"
   },
   "id": "KH-f49L5QAvZ"
  },
  {
   "cell_type": "code",
   "source": [
    "pdp_num = exp.model_profile(type=\"partial\", label=\"pdp\")\n",
    "aldp_num = exp.model_profile(type=\"accumulated\", label=\"alpd\")"
   ],
   "metadata": {
    "id": "LZD4rDdsLtC0"
   },
   "id": "LZD4rDdsLtC0",
   "execution_count": null,
   "outputs": []
  },
  {
   "cell_type": "code",
   "source": [
    "pdp_num.plot(aldp_num)"
   ],
   "metadata": {
    "id": "04o93zRbLs9d"
   },
   "id": "04o93zRbLs9d",
   "execution_count": null,
   "outputs": []
  },
  {
   "cell_type": "code",
   "source": [
    "pdp_cat = exp.model_profile(\n",
    "    type=\"partial\",\n",
    "    variable_type=\"categorical\",\n",
    "    variables=[\"sex\", \"pclass\"],\n",
    "    label=\"pdp\",\n",
    ")\n",
    "\n",
    "aldp_cat = exp.model_profile(\n",
    "    type=\"accumulated\",\n",
    "    variable_type=\"categorical\",\n",
    "    variables=[\"sex\", \"pclass\"],\n",
    "    label=\"aldp\",\n",
    ")"
   ],
   "metadata": {
    "id": "wjGnc70cLs6t"
   },
   "id": "wjGnc70cLs6t",
   "execution_count": null,
   "outputs": []
  },
  {
   "cell_type": "code",
   "source": [
    "aldp_cat.plot(pdp_cat)"
   ],
   "metadata": {
    "id": "4gk7ZWiNMNgh"
   },
   "id": "4gk7ZWiNMNgh",
   "execution_count": null,
   "outputs": []
  },
  {
   "cell_type": "markdown",
   "source": "# C | Weitere Beispiele und Methoden\n---",
   "metadata": {
    "id": "71AhC1Aq7Mbu"
   },
   "id": "71AhC1Aq7Mbu"
  },
  {
   "cell_type": "markdown",
   "source": [
    "* Resources - https://dalex.drwhy.ai/python\n",
    "\n",
    "* Introduction to the `dalex` package: [Titanic: tutorial and examples](http://dalex.drwhy.ai/python-dalex-titanic.html)\n",
    "* Key features explained: [FIFA20: explain default vs tuned model with dalex](http://dalex.drwhy.ai/python-dalex-fifa.html)\n",
    "* How to use dalex with: [xgboost](http://dalex.drwhy.ai/python-dalex-xgboost.html), [tensorflow](http://dalex.drwhy.ai/python-dalex-tensorflow.html), [h2o (feat. autokeras, catboost, lightgbm)](http://dalex.drwhy.ai/python-dalex-h2o.html)\n",
    "* More explanations: [residuals, shap, lime](http://dalex.drwhy.ai/python-dalex-new.html)\n",
    "* Introduction to the [Fairness module in dalex](http://dalex.drwhy.ai/python-dalex-fairness.html)\n",
    "* Introduction to the [Aspect module in dalex](http://dalex.drwhy.ai/python-dalex-aspect.html)\n",
    "* Introduction to [Arena: interactive dashboard for model exploration](http://dalex.drwhy.ai/python-dalex-arena.html)\n",
    "\n",
    "\n",
    "* Code in the form of [jupyter notebook](https://github.com/ModelOriented/DALEX-docs/tree/master/jupyter-notebooks)\n",
    "* Changelog: [NEWS](https://github.com/ModelOriented/DALEX/blob/master/python/dalex/NEWS.md)\n",
    "* Theoretical introduction to the plots: [Explanatory Model Analysis: Explore, Explain, and Examine Predictive Models](https://pbiecek.github.io/ema)"
   ],
   "metadata": {
    "id": "8yxm1NgA7VGT"
   },
   "id": "8yxm1NgA7VGT"
  }
 ],
 "metadata": {
  "colab": {
   "collapsed_sections": [
    "_7yJp7s3suan",
    "56f799cf",
    "FJO386kuM3vO",
    "LTT1K4p0O2RX",
    "v4liWba85_G8",
    "JpWdtihU6FM2",
    "JN3Be79C5iEs",
    "AGZt4-IXHGJH",
    "71AhC1Aq7Mbu"
   ],
   "provenance": [],
   "toc_visible": true
  },
  "interpreter": {
   "hash": "5cea19e863d99f842bb8da0fbb59db822ac0a240937e83b89870ca5922c44ffe"
  },
  "kernelspec": {
   "display_name": "Python 3.9.6 64-bit",
   "name": "python3"
  },
  "language_info": {
   "codemirror_mode": {
    "name": "ipython",
    "version": 3
   },
   "file_extension": ".py",
   "mimetype": "text/x-python",
   "name": "python",
   "nbconvert_exporter": "python",
   "pygments_lexer": "ipython3",
   "version": "3.9.6"
  },
  "toc": {
   "base_numbering": 1,
   "nav_menu": {},
   "number_sections": false,
   "sideBar": true,
   "skip_h1_title": false,
   "title_cell": "Table of Contents",
   "title_sidebar": "Contents",
   "toc_cell": false,
   "toc_position": {
    "height": "757px",
    "left": "33px",
    "top": "0px",
    "width": "324px"
   },
   "toc_section_display": true,
   "toc_window_display": false
  },
  "toc-autonumbering": true,
  "toc-showcode": false,
  "toc-showmarkdowntxt": false,
  "toc-showtags": true,
  "varInspector": {
   "cols": {
    "lenName": 16,
    "lenType": 16,
    "lenVar": 40
   },
   "kernels_config": {
    "python": {
     "delete_cmd_postfix": "",
     "delete_cmd_prefix": "del ",
     "library": "var_list.py",
     "varRefreshCmd": "print(var_dic_list())"
    },
    "r": {
     "delete_cmd_postfix": ") ",
     "delete_cmd_prefix": "rm(",
     "library": "var_list.r",
     "varRefreshCmd": "cat(var_dic_list()) "
    }
   },
   "position": {
    "height": "144.5px",
    "left": "1257px",
    "right": "20px",
    "top": "511px",
    "width": "350px"
   },
   "types_to_exclude": [
    "module",
    "function",
    "builtin_function_or_method",
    "instance",
    "_Feature"
   ],
   "window_display": true
  }
 },
 "nbformat": 4,
 "nbformat_minor": 5
}