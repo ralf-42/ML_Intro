{
 "nbformat": 4,
 "nbformat_minor": 0,
 "metadata": {
  "colab": {
   "provenance": [],
   "collapsed_sections": [
    "_7yJp7s3suan",
    "56f799cf",
    "FJO386kuM3vO",
    "LTT1K4p0O2RX",
    "RWsTyHsNbnuR",
    "jNvS4SKm2fUm"
   ],
   "toc_visible": true
  },
  "kernelspec": {
   "name": "python3",
   "display_name": "Python 3"
  },
  "language_info": {
   "name": "python"
  }
 },
 "cells": [
  {
   "cell_type": "markdown",
   "metadata": {
    "id": "fd913b05"
   },
   "source": [
    "<p><font size=\"6\" color='grey'> <b>\n",
    "Machine Learning\n",
    "</b></font> </br></p>\n",
    "<p><font size=\"5\" color='grey'> <b>\n",
    "DecisionTreeRegressor - Diamonds\n",
    "</b></font> </br></p>\n",
    "\n",
    "---\n"
   ]
  },
  {
   "cell_type": "code",
   "source": [
    "#@title 🔧 Colab-Umgebung { display-mode: \"form\" }\n",
    "!uv pip install --system -q git+https://github.com/ralf-42/Python_Modules\n",
    "from ml_lib.utilities import get_ipinfo\n",
    "import sys\n",
    "print()\n",
    "print(f\"Python Version: {sys.version}\")\n",
    "print()\n",
    "get_ipinfo()"
   ],
   "metadata": {
    "id": "tuC4wK7JjVFc"
   },
   "execution_count": null,
   "outputs": []
  },
  {
   "cell_type": "markdown",
   "source": "# 0  | Install & Import\n***",
   "metadata": {
    "id": "_7yJp7s3suan"
   }
  },
  {
   "cell_type": "code",
   "source": [
    "# Install\n",
    "!uv pip install --system -q nyoka pypmml"
   ],
   "metadata": {
    "id": "u8MCvc99s6rp"
   },
   "execution_count": null,
   "outputs": []
  },
  {
   "cell_type": "code",
   "source": [
    "# Import\n",
    "from pandas import read_csv, DataFrame\n",
    "\n",
    "from sklearn.preprocessing import OrdinalEncoder\n",
    "from sklearn.model_selection import train_test_split\n",
    "from sklearn.tree import DecisionTreeRegressor\n",
    "from sklearn.metrics import r2_score, mean_absolute_error\n",
    "from sklearn.pipeline import Pipeline\n",
    "\n",
    "from nyoka import skl_to_pmml\n",
    "from pypmml import Model"
   ],
   "metadata": {
    "id": "pBQua1zVs6i0"
   },
   "execution_count": null,
   "outputs": []
  },
  {
   "cell_type": "code",
   "execution_count": null,
   "metadata": {
    "id": "zTlLLUOTMLLR"
   },
   "outputs": [],
   "source": [
    "# Warnung ausstellen\n",
    "import warnings\n",
    "warnings.filterwarnings(\"ignore\")"
   ]
  },
  {
   "cell_type": "markdown",
   "metadata": {
    "id": "56f799cf"
   },
   "source": "# 1 | Understand\n***"
  },
  {
   "cell_type": "markdown",
   "source": [
    "<p><font color='black' size=\"5\">📋 Checkliste</font></p>\n",
    "\n",
    "✅ Aufgabe verstehen</br>\n",
    "✅ Daten sammeln</br>\n",
    "✅ Statistische Analyse (Min, Max, Mean, Korrelation, ...)</br>\n",
    "✅ Datenvisualisierung (Streudiagramm, Box-Plot, ...)</br>\n",
    "✅ Prepare Schritte festlegen</br>"
   ],
   "metadata": {
    "id": "wuXBrsUx8MZE"
   }
  },
  {
   "cell_type": "markdown",
   "metadata": {
    "id": "238kOxGB7F1J"
   },
   "source": [
    "<p><font color='black' size=\"5\">\n",
    "Anwendungsfall\n",
    "</font></p>\n",
    "\n",
    "---\n",
    "\n",
    "Dieser klassische Datensatz enthält die Preise und andere Attribute von fast 54.000 Diamanten.\n",
    "\n",
    "\n",
    "\n",
    "[DataSet](https://www.openml.org/search?type=data&status=active&id=42225)\n",
    "\n",
    "[Info](https://www.kaggle.com/datasets/shivam2503/diamonds)\n"
   ]
  },
  {
   "cell_type": "code",
   "source": [
    "df = read_csv(\n",
    "    \"https://raw.githubusercontent.com/ralf-42/ML_Intro/main/02%20data/diamonds.csv\",\n",
    "    usecols=[\n",
    "        \"carat\",\n",
    "        \"cut\",\n",
    "        \"color\",\n",
    "        \"clarity\",\n",
    "        \"depth\",\n",
    "        \"table\",\n",
    "        \"price\",\n",
    "    ],\n",
    ")"
   ],
   "metadata": {
    "id": "iVtMKF3YaBCS"
   },
   "execution_count": null,
   "outputs": []
  },
  {
   "cell_type": "code",
   "source": [
    "data = df.copy()\n",
    "target = data.pop(\"price\")"
   ],
   "metadata": {
    "id": "TzV9bOwzaVfA"
   },
   "execution_count": null,
   "outputs": []
  },
  {
   "cell_type": "markdown",
   "source": "# 2 |  Prepare\n\n---",
   "metadata": {
    "id": "FJO386kuM3vO"
   }
  },
  {
   "cell_type": "markdown",
   "source": [
    "<p><font color='black' size=\"5\">📋 Checkliste</font></p>\n",
    "\n",
    "✅ Nicht benötigte Features löschen</br>\n",
    "✅ Datentyp ermitteln/ändern</br>\n",
    "✅ Duplikate ermitteln/löschen</br>\n",
    "✅ Missing Values behandeln</br>\n",
    "✅ Ausreißer behandeln</br>\n",
    "✅ Kategorischer Features Kodieren</br>\n",
    "✅ Numerischer Features skalieren</br>\n",
    "✅ Feature-Engineering (neue Features schaffen)</br>\n",
    "✅ Dimensionalität reduzieren</br>\n",
    "✅ Resampling (Over-/Undersampling)</br>\n",
    "✅ Pipeline erstellen/konfigurieren</br>\n",
    "✅ Train-Test-Split durchführen</br>"
   ],
   "metadata": {
    "id": "tp87_56wy3LW"
   }
  },
  {
   "cell_type": "markdown",
   "source": [
    "<p><font color='black' size=\"5\">\n",
    "Datentyp ermitteln\n",
    "</font></p>"
   ],
   "metadata": {
    "id": "posj4D1EFB1M"
   }
  },
  {
   "cell_type": "code",
   "source": [
    "all_col = data.columns\n",
    "num_col = data.select_dtypes(include=\"number\").columns\n",
    "cat_col = data.select_dtypes(exclude=\"number\").columns"
   ],
   "metadata": {
    "id": "M-55jh37FIae"
   },
   "execution_count": null,
   "outputs": []
  },
  {
   "cell_type": "markdown",
   "source": [
    "<p><font color='black' size=\"5\">\n",
    "Kodierung\n",
    "</font></p>"
   ],
   "metadata": {
    "id": "ekl_GM7Vp14V"
   }
  },
  {
   "cell_type": "code",
   "source": [
    "cat_seq = [\n",
    "    [\"Fair\", \"Good\", \"Very Good\", \"Premium\", \"Ideal\"],\n",
    "    [\"J\", \"I\", \"H\", \"G\", \"F\", \"E\", \"D\"],\n",
    "    [\"I1\", \"SI2\", \"SI1\", \"VS2\", \"VS1\", \"VVS2\", \"VVS1\", \"IF\"],\n",
    "]\n",
    "data[cat_col] = OrdinalEncoder(categories=cat_seq).fit_transform(data[cat_col])"
   ],
   "metadata": {
    "id": "8m_5iny_cTWA"
   },
   "execution_count": null,
   "outputs": []
  },
  {
   "cell_type": "markdown",
   "metadata": {
    "id": "5HZ5KQtWoJOq"
   },
   "source": [
    "<p><font color='black' size=\"5\">\n",
    "Train-Test-Set\n",
    "</font></p>\n"
   ]
  },
  {
   "cell_type": "code",
   "execution_count": null,
   "metadata": {
    "id": "PmDLLeh8oJOq"
   },
   "outputs": [],
   "source": [
    "data_train, data_test, target_train, target_test = train_test_split(\n",
    "    data, target, test_size=0.3, random_state=42\n",
    ")\n",
    "data_train.shape, data_test.shape, target_train.shape, target_test.shape"
   ]
  },
  {
   "cell_type": "markdown",
   "source": "# 3 | Modeling\n---",
   "metadata": {
    "id": "LTT1K4p0O2RX"
   }
  },
  {
   "cell_type": "markdown",
   "source": [
    "<p><font color='black' size=\"5\">📋 Checkliste</font></p>\n",
    "\n",
    "✅ Modellauswahl treffen</br>\n",
    "✅ Pipeline erweitern/konfigurieren</br>\n",
    "✅ Training durchführen</br>\n",
    "✅ Hyperparameter Tuning</br>\n",
    "✅ Cross-Valdiation</br>\n",
    "✅ Bootstrapping</br>\n",
    "✅ Regularization</br>"
   ],
   "metadata": {
    "id": "vFlxmgGbzEbB"
   }
  },
  {
   "cell_type": "markdown",
   "metadata": {
    "id": "2d3c90e3"
   },
   "source": [
    " <p><font color='black' size=\"5\">\n",
    "Modellauswahl & Training\n",
    "</font></p>"
   ]
  },
  {
   "cell_type": "code",
   "source": [
    "model = DecisionTreeRegressor(max_depth=5)"
   ],
   "metadata": {
    "id": "27KZVURSEzNA"
   },
   "execution_count": null,
   "outputs": []
  },
  {
   "cell_type": "code",
   "source": [
    "model.fit(data_train, target_train)"
   ],
   "metadata": {
    "id": "L3xYzie765zG"
   },
   "execution_count": null,
   "outputs": []
  },
  {
   "cell_type": "markdown",
   "source": "# 4 | Evaluate\n---",
   "metadata": {
    "id": "RWsTyHsNbnuR"
   }
  },
  {
   "cell_type": "markdown",
   "source": [
    "<p><font color='black' size=\"5\">📋 Checkliste</font></p>\n",
    "\n",
    "✅ Prognose (Train, Test) erstellen</br>\n",
    "✅ Modellgüte prüfen</br>\n",
    "✅ Residuenanalyse erstellen</br>\n",
    "✅ Feature Importance/Selektion prüfen</br>\n",
    "✅ Robustheitstest erstellen</br>\n",
    "✅ Modellinterpretation erstellen</br>\n",
    "✅ Sensitivitätsanalyse erstellen</br>\n",
    "✅ Kommunikation (Key Takeaways)</br>"
   ],
   "metadata": {
    "id": "tryTlGkL_Jhl"
   }
  },
  {
   "cell_type": "markdown",
   "source": [
    "\n",
    "<p><font color='black' size=\"5\">\n",
    "Prediction\n",
    "</font></p>\n"
   ],
   "metadata": {
    "id": "b-BH4JP1DhYZ"
   }
  },
  {
   "cell_type": "code",
   "source": [
    "target_train_pred = model.predict(data_train)\n",
    "target_test_pred = model.predict(data_test)"
   ],
   "metadata": {
    "id": "kz4jorjJ9mBx"
   },
   "execution_count": null,
   "outputs": []
  },
  {
   "cell_type": "markdown",
   "source": [
    "<p><font color='black' size=\"5\">\n",
    "Bestimmtheitsmass\n",
    "</font></p>"
   ],
   "metadata": {
    "id": "ZPmsH7sjDmwT"
   }
  },
  {
   "cell_type": "code",
   "source": [
    "r2 = r2_score(target_train, target_train_pred)\n",
    "print(f\"Modell: {model} -- Train --- Bestimmtheitsmass: {r2:5.2f}\")"
   ],
   "metadata": {
    "id": "peH7u_T9bnXl"
   },
   "execution_count": null,
   "outputs": []
  },
  {
   "cell_type": "code",
   "source": [
    "r2 = r2_score(target_test, target_test_pred)\n",
    "print(f\"Modell: {model} -- Test --- Bestimmtheitsmass: {r2:5.2f}\")"
   ],
   "metadata": {
    "id": "dzMZqBKYvQrZ"
   },
   "execution_count": null,
   "outputs": []
  },
  {
   "cell_type": "markdown",
   "source": [
    "<p><font color='black' size=\"5\">\n",
    "Mean Absolut Error\n",
    "</font></p>"
   ],
   "metadata": {
    "id": "tKtJ1BdN57tT"
   }
  },
  {
   "cell_type": "code",
   "source": [
    "mae = mean_absolute_error(target_test, target_test_pred)\n",
    "print(f\"Modell: {model} -- Test -- Mean Absolute Error: {mae:5.2f}\")"
   ],
   "metadata": {
    "id": "oHk0Dhqg6Dr1"
   },
   "execution_count": null,
   "outputs": []
  },
  {
   "cell_type": "markdown",
   "source": "# 5 | Deploy\n---",
   "metadata": {
    "id": "jNvS4SKm2fUm"
   }
  },
  {
   "cell_type": "markdown",
   "source": [
    "<p><font color='black' size=\"5\">📋 Checkliste</font></p>\n",
    "\n",
    "✅ Modellexport und -speicherung</br>\n",
    "✅ Abhängigkeiten und Umgebung</br>\n",
    "✅ Sicherheit und Datenschutz</br>\n",
    "✅ In die Produktion integrieren</br>\n",
    "✅ Tests und Validierung</br>\n",
    "✅ Dokumentation & Wartung</br>"
   ],
   "metadata": {
    "id": "bVVOswS6rHVF"
   }
  },
  {
   "cell_type": "markdown",
   "source": [
    "<p><font size=\"5\">\n",
    "Save - 2 Versionen\n",
    "</p>"
   ],
   "metadata": {
    "id": "69VvRy1uxf2A"
   }
  },
  {
   "cell_type": "code",
   "source": [
    "# import joblib\n",
    "# joblib.dump(model, '/content/diamonds-model.pkl')"
   ],
   "metadata": {
    "id": "2xAjcaa8gYt5"
   },
   "execution_count": null,
   "outputs": []
  },
  {
   "cell_type": "code",
   "source": [
    "# save the model to PMML\n",
    "pipeline_ = Pipeline([(\"estimator\", model)])\n",
    "skl_to_pmml(\n",
    "    pipeline=pipeline_,\n",
    "    col_names=data_test.columns,\n",
    "    pmml_f_name=\"/content/diamonds-model.pmml\",\n",
    ")"
   ],
   "metadata": {
    "id": "sZJRb6snEC5x"
   },
   "execution_count": null,
   "outputs": []
  },
  {
   "cell_type": "markdown",
   "source": [
    "<p><font color='black' size=\"5\">\n",
    "Load - 2 Versionen\n",
    "</font></p>"
   ],
   "metadata": {
    "id": "1X4Lnqxk3mej"
   }
  },
  {
   "cell_type": "code",
   "source": [
    "# import joblib\n",
    "# model_geladen = joblib.load('/content/diamonds-model.pkl')"
   ],
   "metadata": {
    "id": "cLoAdw5e3hLT"
   },
   "execution_count": null,
   "outputs": []
  },
  {
   "cell_type": "code",
   "source": [
    "model_geladen = Model.fromFile(\"/content/diamonds-model.pmml\")"
   ],
   "metadata": {
    "id": "pGzaMwLfFEL5"
   },
   "execution_count": null,
   "outputs": []
  },
  {
   "cell_type": "markdown",
   "source": [
    "<p><font size=\"5\">\n",
    "Prognose\n",
    "</p>"
   ],
   "metadata": {
    "id": "quih13zBo_y7"
   }
  },
  {
   "cell_type": "code",
   "source": [
    "one = data_test.iloc[[3333]]\n",
    "one"
   ],
   "metadata": {
    "id": "kMcVC6Vw7q_4"
   },
   "execution_count": null,
   "outputs": []
  },
  {
   "cell_type": "code",
   "source": [
    "target_test.iloc[3333]"
   ],
   "metadata": {
    "id": "WZE24jo89AVI"
   },
   "execution_count": null,
   "outputs": []
  },
  {
   "cell_type": "code",
   "source": [
    "prediction = model_geladen.predict(one)\n",
    "print(f\"Prognose: {prediction.predicted_target[0]:,.2f}\")"
   ],
   "metadata": {
    "id": "ivWFaqJhoUOp"
   },
   "execution_count": null,
   "outputs": []
  }
 ]
}