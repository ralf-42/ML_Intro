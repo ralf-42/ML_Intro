{
 "cells": [
  {
   "cell_type": "markdown",
   "id": "fd913b05",
   "metadata": {
    "id": "fd913b05"
   },
   "source": [
    "<p><font size=\"6\" color='grey'> <b>\n",
    "Machine Learning\n",
    "</b></font> </br></p>\n",
    "<p><font size=\"5\" color='grey'> <b>\n",
    "Supervised Learning - Random Forest - Diamonds\n",
    "</b></font> </br></p>\n",
    "\n",
    "---\n"
   ]
  },
  {
   "cell_type": "code",
   "source": [
    "#@title 🔧 Colab-Umgebung { display-mode: \"form\" }\n",
    "!uv pip install --system -q git+https://github.com/ralf-42/Python_Modules\n",
    "from ml_lib.utilities import get_ipinfo\n",
    "import sys\n",
    "print()\n",
    "print(f\"Python Version: {sys.version}\")\n",
    "print()\n",
    "get_ipinfo()"
   ],
   "metadata": {
    "id": "SDRhTahRjhiF"
   },
   "id": "SDRhTahRjhiF",
   "execution_count": null,
   "outputs": []
  },
  {
   "cell_type": "markdown",
   "source": "# 0  | Install & Import\n***",
   "metadata": {
    "id": "_7yJp7s3suan"
   },
   "id": "_7yJp7s3suan"
  },
  {
   "cell_type": "code",
   "source": [
    "# Install"
   ],
   "metadata": {
    "id": "u8MCvc99s6rp"
   },
   "execution_count": null,
   "outputs": [],
   "id": "u8MCvc99s6rp"
  },
  {
   "cell_type": "code",
   "source": [
    "# Import\n",
    "from pandas import read_csv, DataFrame\n",
    "\n",
    "from sklearn.preprocessing import OrdinalEncoder\n",
    "from sklearn.model_selection import train_test_split\n",
    "from sklearn.ensemble import RandomForestRegressor\n",
    "from sklearn.metrics import r2_score, mean_absolute_error\n",
    "from sklearn.decomposition import PCA\n",
    "\n",
    "import plotly.express as px\n",
    "import plotly.subplots as sp\n",
    "\n",
    "from yellowbrick.regressor import residuals_plot\n",
    "from yellowbrick.regressor import prediction_error\n",
    "from yellowbrick.model_selection import feature_importances\n",
    "\n",
    "import joblib"
   ],
   "metadata": {
    "id": "pBQua1zVs6i0"
   },
   "execution_count": null,
   "outputs": [],
   "id": "pBQua1zVs6i0"
  },
  {
   "cell_type": "code",
   "execution_count": null,
   "metadata": {
    "id": "zTlLLUOTMLLR"
   },
   "outputs": [],
   "source": [
    "# Warnung ausstellen\n",
    "import warnings\n",
    "warnings.filterwarnings(\"ignore\")"
   ],
   "id": "zTlLLUOTMLLR"
  },
  {
   "cell_type": "markdown",
   "metadata": {
    "id": "56f799cf"
   },
   "source": "# 1  | Understand\n***",
   "id": "56f799cf"
  },
  {
   "cell_type": "markdown",
   "source": [
    "<p><font color='black' size=\"5\">📋 Checkliste</font></p>\n",
    "\n",
    "✅ Aufgabe verstehen</br>\n",
    "✅ Daten sammeln</br>\n",
    "✅ Statistische Analyse (Min, Max, Mean, Korrelation, ...)</br>\n",
    "✅ Datenvisualisierung (Streudiagramm, Box-Plot, ...)</br>\n",
    "✅ Prepare Schritte festlegen</br>"
   ],
   "metadata": {
    "id": "wuXBrsUx8MZE"
   },
   "id": "wuXBrsUx8MZE"
  },
  {
   "cell_type": "markdown",
   "metadata": {
    "id": "238kOxGB7F1J"
   },
   "source": [
    "<p><font color='black' size=\"5\">\n",
    "Anwendungsfall\n",
    "</font></p>\n",
    "\n",
    "---\n",
    "\n",
    "Dieser klassische Datensatz enthält die Preise und andere Attribute von fast 54.000 Diamanten.\n",
    "\n",
    "\n",
    "\n",
    "[DataSet](https://www.openml.org/search?type=data&status=active&id=42225)\n",
    "\n",
    "[Info](https://www.kaggle.com/datasets/shivam2503/diamonds)\n"
   ],
   "id": "238kOxGB7F1J"
  },
  {
   "cell_type": "code",
   "source": [
    "df = read_csv(\n",
    "    \"https://raw.githubusercontent.com/ralf-42/ML_Intro/main/02%20data/diamonds.csv\",\n",
    "    usecols=[\n",
    "        \"carat\",\n",
    "        \"cut\",\n",
    "        \"color\",\n",
    "        \"clarity\",\n",
    "        \"depth\",\n",
    "        \"table\",\n",
    "        \"price\",\n",
    "    ],\n",
    ")"
   ],
   "metadata": {
    "id": "iVtMKF3YaBCS"
   },
   "execution_count": null,
   "outputs": [],
   "id": "iVtMKF3YaBCS"
  },
  {
   "cell_type": "code",
   "source": [
    "data = df.copy()\n",
    "target = data.pop(\"price\")"
   ],
   "metadata": {
    "id": "TzV9bOwzaVfA"
   },
   "execution_count": null,
   "outputs": [],
   "id": "TzV9bOwzaVfA"
  },
  {
   "cell_type": "markdown",
   "source": "# 2 |  Prepare\n\n---",
   "metadata": {
    "id": "FJO386kuM3vO"
   },
   "id": "FJO386kuM3vO"
  },
  {
   "cell_type": "markdown",
   "source": [
    "<p><font color='black' size=\"5\">📋 Checkliste</font></p>\n",
    "\n",
    "✅ Nicht benötigte Features löschen</br>\n",
    "✅ Datentyp ermitteln/ändern</br>\n",
    "✅ Duplikate ermitteln/löschen</br>\n",
    "✅ Missing Values behandeln</br>\n",
    "✅ Ausreißer behandeln</br>\n",
    "✅ Kategorischer Features Kodieren</br>\n",
    "✅ Numerischer Features skalieren</br>\n",
    "✅ Feature-Engineering (neue Features schaffen)</br>\n",
    "✅ Dimensionalität reduzieren</br>\n",
    "✅ Resampling (Over-/Undersampling)</br>\n",
    "✅ Pipeline erstellen/konfigurieren</br>\n",
    "✅ Train-Test-Split durchführen</br>"
   ],
   "metadata": {
    "id": "bUEwUdSwMn99"
   },
   "id": "bUEwUdSwMn99"
  },
  {
   "cell_type": "markdown",
   "source": [
    "<p><font color='black' size=\"5\">\n",
    "Datentyp ermitteln\n",
    "</font></p>"
   ],
   "metadata": {
    "id": "posj4D1EFB1M"
   },
   "id": "posj4D1EFB1M"
  },
  {
   "cell_type": "code",
   "source": [
    "all_col = data.columns\n",
    "num_col = data.select_dtypes(include=\"number\").columns\n",
    "cat_col = data.select_dtypes(exclude=\"number\").columns"
   ],
   "metadata": {
    "id": "M-55jh37FIae"
   },
   "id": "M-55jh37FIae",
   "execution_count": null,
   "outputs": []
  },
  {
   "cell_type": "markdown",
   "source": [
    "<p><font color='black' size=\"5\">\n",
    "Kodierung\n",
    "</font></p>"
   ],
   "metadata": {
    "id": "ekl_GM7Vp14V"
   },
   "id": "ekl_GM7Vp14V"
  },
  {
   "cell_type": "code",
   "source": [
    "cat_seq = [\n",
    "    [\"Fair\", \"Good\", \"Very Good\", \"Premium\", \"Ideal\"],\n",
    "    [\"J\", \"I\", \"H\", \"G\", \"F\", \"E\", \"D\"],\n",
    "    [\"I1\", \"SI2\", \"SI1\", \"VS2\", \"VS1\", \"VVS2\", \"VVS1\", \"IF\"],\n",
    "]\n",
    "data[cat_col] = OrdinalEncoder(categories=cat_seq).fit_transform(data[cat_col])"
   ],
   "metadata": {
    "id": "8m_5iny_cTWA"
   },
   "id": "8m_5iny_cTWA",
   "execution_count": null,
   "outputs": []
  },
  {
   "cell_type": "markdown",
   "metadata": {
    "id": "5HZ5KQtWoJOq"
   },
   "source": [
    "<p><font color='black' size=\"5\">\n",
    "Train-Test-Set\n",
    "</font></p>\n"
   ],
   "id": "5HZ5KQtWoJOq"
  },
  {
   "cell_type": "code",
   "execution_count": null,
   "metadata": {
    "id": "PmDLLeh8oJOq"
   },
   "outputs": [],
   "source": [
    "data_train, data_test, target_train, target_test = train_test_split(\n",
    "    data, target, test_size=0.3, random_state=42\n",
    ")\n",
    "data_train.shape, data_test.shape, target_train.shape, target_test.shape"
   ],
   "id": "PmDLLeh8oJOq"
  },
  {
   "cell_type": "markdown",
   "source": "# 3 |  Modeling\n---",
   "metadata": {
    "id": "LTT1K4p0O2RX"
   },
   "id": "LTT1K4p0O2RX"
  },
  {
   "cell_type": "markdown",
   "source": [
    "<p><font color='black' size=\"5\">📋 Checkliste</font></p>\n",
    "\n",
    "✅ Modellauswahl treffen</br>\n",
    "✅ Pipeline erweitern/konfigurieren</br>\n",
    "✅ Training durchführen</br>\n",
    "✅ Hyperparameter Tuning</br>\n",
    "✅ Cross-Valdiation</br>\n",
    "✅ Bootstrapping</br>\n",
    "✅ Regularization</br>"
   ],
   "metadata": {
    "id": "hcCH6peaMkC0"
   },
   "id": "hcCH6peaMkC0"
  },
  {
   "cell_type": "markdown",
   "source": [
    " <p><font color='black' size=\"5\">\n",
    "Modellauswahl & Training\n",
    "</font></p>"
   ],
   "metadata": {
    "id": "Xd_3afpcyGM0"
   },
   "id": "Xd_3afpcyGM0"
  },
  {
   "cell_type": "code",
   "source": [
    "model = RandomForestRegressor()"
   ],
   "metadata": {
    "id": "v3FMPGZbyO-9"
   },
   "id": "v3FMPGZbyO-9",
   "execution_count": null,
   "outputs": []
  },
  {
   "cell_type": "code",
   "source": [
    "model.fit(data_train, target_train)"
   ],
   "metadata": {
    "id": "Aeh_stqQ4sat"
   },
   "id": "Aeh_stqQ4sat",
   "execution_count": null,
   "outputs": []
  },
  {
   "cell_type": "markdown",
   "source": "# 4 | Evaluate\n---",
   "metadata": {
    "id": "RWsTyHsNbnuR"
   },
   "id": "RWsTyHsNbnuR"
  },
  {
   "cell_type": "markdown",
   "source": [
    "<p><font color='black' size=\"5\">📋 Checkliste</font></p>\n",
    "\n",
    "✅ Prognose (Train, Test) erstellen</br>\n",
    "✅ Modellgüte prüfen</br>\n",
    "✅ Residuenanalyse erstellen</br>\n",
    "✅ Feature Importance/Selektion prüfen</br>\n",
    "✅ Robustheitstest erstellen</br>\n",
    "✅ Modellinterpretation erstellen</br>\n",
    "✅ Sensitivitätsanalyse erstellen</br>\n",
    "✅ Kommunikation (Key Takeaways)</br>"
   ],
   "metadata": {
    "id": "tryTlGkL_Jhl"
   },
   "id": "tryTlGkL_Jhl"
  },
  {
   "cell_type": "markdown",
   "source": [
    "\n",
    "<p><font color='black' size=\"5\">\n",
    "Prediction\n",
    "</font></p>\n"
   ],
   "metadata": {
    "id": "b-BH4JP1DhYZ"
   },
   "id": "b-BH4JP1DhYZ"
  },
  {
   "cell_type": "code",
   "source": [
    "target_train_pred = model.predict(data_train)\n",
    "target_test_pred = model.predict(data_test)"
   ],
   "metadata": {
    "id": "kz4jorjJ9mBx"
   },
   "id": "kz4jorjJ9mBx",
   "execution_count": null,
   "outputs": []
  },
  {
   "cell_type": "markdown",
   "source": [
    "<p><font color='black' size=\"5\">\n",
    "Bestimmtheitsmass\n",
    "</font></p>"
   ],
   "metadata": {
    "id": "ZPmsH7sjDmwT"
   },
   "id": "ZPmsH7sjDmwT"
  },
  {
   "cell_type": "code",
   "source": [
    "r2 = r2_score(target_train, target_train_pred)\n",
    "print(f\"Modell: {model} -- Train --- Bestimmtheitsmass: {r2:5.2f}\")"
   ],
   "metadata": {
    "id": "peH7u_T9bnXl"
   },
   "id": "peH7u_T9bnXl",
   "execution_count": null,
   "outputs": []
  },
  {
   "cell_type": "code",
   "source": [
    "r2 = r2_score(target_test, target_test_pred)\n",
    "print(f\"Modell: {model} -- Test --- Bestimmtheitsmass: {r2:5.2f}\")"
   ],
   "metadata": {
    "id": "dzMZqBKYvQrZ"
   },
   "id": "dzMZqBKYvQrZ",
   "execution_count": null,
   "outputs": []
  },
  {
   "cell_type": "markdown",
   "source": [
    "<p><font color='black' size=\"5\">\n",
    "Mean Absolut Error\n",
    "</font></p>"
   ],
   "metadata": {
    "id": "tKtJ1BdN57tT"
   },
   "id": "tKtJ1BdN57tT"
  },
  {
   "cell_type": "code",
   "source": [
    "mae = mean_absolute_error(target_test, target_test_pred)\n",
    "print(f\"Modell: {model} -- Test -- Mean Absolute Error: {mae:5.2f}\")"
   ],
   "metadata": {
    "id": "oHk0Dhqg6Dr1"
   },
   "execution_count": null,
   "outputs": [],
   "id": "oHk0Dhqg6Dr1"
  },
  {
   "cell_type": "markdown",
   "source": [
    "<p><font color='black' size=\"5\">\n",
    "Aufbau Analysewürfel\n",
    "</font></p>"
   ],
   "metadata": {
    "id": "ih-OujKLfT9j"
   },
   "id": "ih-OujKLfT9j"
  },
  {
   "cell_type": "code",
   "source": [
    "# Übernahme der Testdaten\n",
    "cube = data_test.copy()\n",
    "cube.reset_index(inplace=True)\n",
    "\n",
    "# Übernahme Target real & predict\n",
    "cube[\"real\"] = DataFrame(target_test.values, columns=[\"real\"])\n",
    "cube[\"predict\"] = DataFrame(target_test_pred, columns=[\"predict\"])"
   ],
   "metadata": {
    "id": "nfeuubs-fNgh"
   },
   "id": "nfeuubs-fNgh",
   "execution_count": null,
   "outputs": []
  },
  {
   "cell_type": "code",
   "source": [
    "# Erstellung 2D Features über Dimensionsreduktion PCA - unsupervised\n",
    "pca = PCA(n_components=2)\n",
    "pca = pca.fit_transform(data_test)\n",
    "pca_df = DataFrame(pca)\n",
    "\n",
    "# Cube um pca erweitern\n",
    "cube[\"PCA1\"] = pca_df[0]\n",
    "cube[\"PCA2\"] = pca_df[1]"
   ],
   "metadata": {
    "id": "pkdvzVvnMw-O"
   },
   "id": "pkdvzVvnMw-O",
   "execution_count": null,
   "outputs": []
  },
  {
   "cell_type": "markdown",
   "source": [
    "<p><font color='black' size=\"5\">\n",
    "Visualisierung real vs predict\n",
    "</font></p>"
   ],
   "metadata": {
    "id": "jYMSNLZIfcqf"
   },
   "id": "jYMSNLZIfcqf"
  },
  {
   "cell_type": "code",
   "source": [
    "# Boxplot\n",
    "title_ = \"Boxplot real vs predict\"\n",
    "px.box(cube[[\"real\", \"predict\"]], title=title_, width=600, height=600)"
   ],
   "metadata": {
    "id": "u2kNPGjnfbRV"
   },
   "id": "u2kNPGjnfbRV",
   "execution_count": null,
   "outputs": []
  },
  {
   "cell_type": "code",
   "source": [
    "# Histogramm\n",
    "title_ = \"Histogramm Prices real vs predict\"\n",
    "fig = px.histogram(cube, x=[\"real\", \"predict\"], nbins=10, title=title_)\n",
    "fig.update_layout(barmode=\"group\", bargap=0.2, width=800, height=600)\n",
    "fig.show()"
   ],
   "metadata": {
    "id": "BXdPfS1UfbRW"
   },
   "id": "BXdPfS1UfbRW",
   "execution_count": null,
   "outputs": []
  },
  {
   "cell_type": "code",
   "source": [
    "# 2 x Scatterplots\n",
    "title_ = \"Streupunktdiagramm real\"\n",
    "img1 = px.scatter(\n",
    "    cube, x=\"PCA1\", y=\"PCA2\", color=\"real\", title=title_, width=600, height=600\n",
    ")\n",
    "\n",
    "title_ = \"Streupunktdiagramm predict\"\n",
    "img2 = px.scatter(\n",
    "    cube, x=\"PCA1\", y=\"PCA2\", color=\"predict\", title=title_, width=600, height=600\n",
    ")\n",
    "\n",
    "fig = sp.make_subplots(\n",
    "    rows=1, cols=2, subplot_titles=(\"Scatterplot real\", \"Scatterplot predict\")\n",
    ")\n",
    "\n",
    "for trace in img1.data:\n",
    "    fig.add_trace(trace, row=1, col=1)\n",
    "\n",
    "for trace in img2.data:\n",
    "    fig.add_trace(trace, row=1, col=2)\n",
    "\n",
    "# Layout anpassen\n",
    "fig.update_layout(width=1000, height=500, title_text=\"Vergleich real vs predict\")\n",
    "\n",
    "# Plot anzeigen\n",
    "fig.show()"
   ],
   "metadata": {
    "id": "x1Ngypp0fbRW"
   },
   "id": "x1Ngypp0fbRW",
   "execution_count": null,
   "outputs": []
  },
  {
   "cell_type": "markdown",
   "source": [
    "<p><font color='black' size=\"5\">\n",
    "Fehlerhafte Vorhersagen\n",
    "</font></p>"
   ],
   "metadata": {
    "id": "qW1ye_E3f6RV"
   },
   "id": "qW1ye_E3f6RV"
  },
  {
   "cell_type": "code",
   "source": [
    "cube[\"abs_Abw%\"] = abs((cube[\"real\"] - cube[\"predict\"]) / cube[\"real\"] * 100)\n",
    "%precision 3\n",
    "cube.head(10).style.format(\"{:,.1f}\", subset=num_col)"
   ],
   "metadata": {
    "id": "yYw093FPqk_d"
   },
   "execution_count": null,
   "outputs": [],
   "id": "yYw093FPqk_d"
  },
  {
   "cell_type": "code",
   "source": [
    "cube.describe().T"
   ],
   "metadata": {
    "id": "yECF_Mhq--lJ"
   },
   "id": "yECF_Mhq--lJ",
   "execution_count": null,
   "outputs": []
  },
  {
   "cell_type": "code",
   "source": [
    "# Histogramm\n",
    "title_ = \"Histogramm absolute Abweichung\"\n",
    "fig = px.histogram(cube, x=[\"abs_Abw%\"], nbins=20, title=title_)\n",
    "fig.update_layout(barmode=\"group\", bargap=0.2, width=800, height=600)\n",
    "fig.show()"
   ],
   "metadata": {
    "id": "j7sr998Kqyng"
   },
   "id": "j7sr998Kqyng",
   "execution_count": null,
   "outputs": []
  },
  {
   "cell_type": "code",
   "execution_count": null,
   "metadata": {
    "id": "q7T9_BoOftbb"
   },
   "outputs": [],
   "source": [
    "_ = residuals_plot(\n",
    "    model,\n",
    "    data_train,\n",
    "    target_train,\n",
    "    data_test,\n",
    "    target_test,\n",
    "    train_color=\"b\",\n",
    "    test_color=\"g\",\n",
    ")"
   ],
   "id": "q7T9_BoOftbb"
  },
  {
   "cell_type": "code",
   "execution_count": null,
   "metadata": {
    "id": "5V1ec_qPghYE"
   },
   "outputs": [],
   "source": [
    "_ = prediction_error(model, data_train, target_train, data_test, target_test)"
   ],
   "id": "5V1ec_qPghYE"
  },
  {
   "cell_type": "markdown",
   "source": [
    "\n",
    "<p><font color='black' size=\"5\">\n",
    "Feature Importance\n",
    "</font></p>"
   ],
   "metadata": {
    "id": "OQL8PxN8l-Od"
   },
   "id": "OQL8PxN8l-Od"
  },
  {
   "cell_type": "code",
   "source": [
    "px.bar(\n",
    "    x=model.feature_importances_, y=data.columns, width=1000, height=600\n",
    ").update_yaxes(categoryorder=\"total ascending\")"
   ],
   "metadata": {
    "id": "X-0UcfttlYdB"
   },
   "execution_count": null,
   "outputs": [],
   "id": "X-0UcfttlYdB"
  },
  {
   "cell_type": "code",
   "source": [
    "_ = feature_importances(model, data, target)"
   ],
   "metadata": {
    "id": "Hw4TEg9oOOaf"
   },
   "id": "Hw4TEg9oOOaf",
   "execution_count": null,
   "outputs": []
  },
  {
   "cell_type": "markdown",
   "source": "# 5 | Deploy\n---",
   "metadata": {
    "id": "GBZupCVgGybW"
   },
   "id": "GBZupCVgGybW"
  },
  {
   "cell_type": "markdown",
   "source": [
    "<p><font color='black' size=\"5\">📋 Checkliste</font></p>\n",
    "\n",
    "✅ Modellexport und -speicherung</br>\n",
    "✅ Abhängigkeiten und Umgebung</br>\n",
    "✅ Sicherheit und Datenschutz</br>\n",
    "✅ In die Produktion integrieren</br>\n",
    "✅ Tests und Validierung</br>\n",
    "✅ Dokumentation & Wartung</br>"
   ],
   "metadata": {
    "id": "XtEhwmLypO8I"
   },
   "id": "XtEhwmLypO8I"
  },
  {
   "cell_type": "markdown",
   "source": [
    "<p><font size=\"5\">\n",
    "Save\n",
    "</p>"
   ],
   "metadata": {
    "id": "69VvRy1uxf2A"
   },
   "id": "69VvRy1uxf2A"
  },
  {
   "cell_type": "code",
   "source": [
    "# schnellste Variante\n",
    "joblib.dump(model, \"/content/diamonds-model.pkl\")"
   ],
   "metadata": {
    "id": "2xAjcaa8gYt5"
   },
   "execution_count": null,
   "outputs": [],
   "id": "2xAjcaa8gYt5"
  },
  {
   "cell_type": "markdown",
   "source": [
    "<p><font color='black' size=\"5\">\n",
    "Load\n",
    "</font></p>"
   ],
   "metadata": {
    "id": "1X4Lnqxk3mej"
   },
   "id": "1X4Lnqxk3mej"
  },
  {
   "cell_type": "code",
   "source": [
    "model_geladen = joblib.load(\"/content/diamonds-model.pkl\")"
   ],
   "metadata": {
    "id": "cLoAdw5e3hLT"
   },
   "execution_count": null,
   "outputs": [],
   "id": "cLoAdw5e3hLT"
  },
  {
   "cell_type": "markdown",
   "source": [
    "<p><font size=\"5\">\n",
    "Prognose\n",
    "</p>"
   ],
   "metadata": {
    "id": "quih13zBo_y7"
   },
   "id": "quih13zBo_y7"
  },
  {
   "cell_type": "code",
   "source": [
    "target_pred = model_geladen.predict(data_test)\n",
    "r2 = r2_score(target_test, target_pred)\n",
    "print(f\"Bestimmheitsmaß Testdaten: {r2:.2f}\")"
   ],
   "metadata": {
    "id": "ivWFaqJhoUOp"
   },
   "execution_count": null,
   "outputs": [],
   "id": "ivWFaqJhoUOp"
  },
  {
   "cell_type": "code",
   "source": [
    "result = DataFrame()\n",
    "result[\"real\"] = target_test.values\n",
    "result[\"pred\"] = target_pred\n",
    "result[\"%delta\"] = (result[\"real\"] - result[\"pred\"]) / result[\"real\"] * 100"
   ],
   "metadata": {
    "id": "LIK3CJ3Xvglv"
   },
   "execution_count": null,
   "outputs": [],
   "id": "LIK3CJ3Xvglv"
  }
 ],
 "metadata": {
  "interpreter": {
   "hash": "5cea19e863d99f842bb8da0fbb59db822ac0a240937e83b89870ca5922c44ffe"
  },
  "kernelspec": {
   "display_name": "Python 3.9.6 64-bit",
   "name": "python3"
  },
  "language_info": {
   "codemirror_mode": {
    "name": "ipython",
    "version": 3
   },
   "file_extension": ".py",
   "mimetype": "text/x-python",
   "name": "python",
   "nbconvert_exporter": "python",
   "pygments_lexer": "ipython3",
   "version": "3.9.6"
  },
  "toc": {
   "base_numbering": 1,
   "nav_menu": {},
   "number_sections": false,
   "sideBar": true,
   "skip_h1_title": false,
   "title_cell": "Table of Contents",
   "title_sidebar": "Contents",
   "toc_cell": false,
   "toc_position": {
    "height": "757px",
    "left": "33px",
    "top": "0px",
    "width": "324px"
   },
   "toc_section_display": true,
   "toc_window_display": false
  },
  "toc-autonumbering": true,
  "toc-showcode": false,
  "toc-showmarkdowntxt": false,
  "toc-showtags": true,
  "varInspector": {
   "cols": {
    "lenName": 16,
    "lenType": 16,
    "lenVar": 40
   },
   "kernels_config": {
    "python": {
     "delete_cmd_postfix": "",
     "delete_cmd_prefix": "del ",
     "library": "var_list.py",
     "varRefreshCmd": "print(var_dic_list())"
    },
    "r": {
     "delete_cmd_postfix": ") ",
     "delete_cmd_prefix": "rm(",
     "library": "var_list.r",
     "varRefreshCmd": "cat(var_dic_list()) "
    }
   },
   "position": {
    "height": "144.5px",
    "left": "1257px",
    "right": "20px",
    "top": "511px",
    "width": "350px"
   },
   "types_to_exclude": [
    "module",
    "function",
    "builtin_function_or_method",
    "instance",
    "_Feature"
   ],
   "window_display": true
  },
  "colab": {
   "provenance": [],
   "collapsed_sections": [
    "_7yJp7s3suan",
    "56f799cf",
    "FJO386kuM3vO",
    "LTT1K4p0O2RX",
    "RWsTyHsNbnuR",
    "GBZupCVgGybW"
   ],
   "toc_visible": true
  }
 },
 "nbformat": 4,
 "nbformat_minor": 5
}