{
 "cells": [
  {
   "cell_type": "markdown",
   "metadata": {
    "id": "OcZzc8KJifHD"
   },
   "source": [
    "<font size=\"6\" color='grey'> <b>\n",
    "Machine Learning\n",
    "</b></font> </br>\n",
    "\n",
    "<font size=\"5\" color='grey'> <b>\n",
    "Pipeline - Decision Tree Regression - Diamonds\n",
    "</b></font> </br>\n",
    "\n",
    "---"
   ]
  },
  {
   "cell_type": "code",
   "source": [
    "#@title 🔧 Colab-Umgebung { display-mode: \"form\" }\n",
    "!uv pip install --system -q git+https://github.com/ralf-42/Python_Modules\n",
    "from ml_lib.utilities import get_ipinfo\n",
    "import sys\n",
    "print()\n",
    "print(f\"Python Version: {sys.version}\")\n",
    "print()\n",
    "get_ipinfo()"
   ],
   "metadata": {
    "id": "ypIt4LZSe2u5"
   },
   "execution_count": null,
   "outputs": []
  },
  {
   "cell_type": "markdown",
   "metadata": {
    "id": "H3yEj5YYifHF"
   },
   "source": "# 0  | Install & Import\n***"
  },
  {
   "cell_type": "code",
   "execution_count": null,
   "metadata": {
    "id": "g6349e6WifHG"
   },
   "outputs": [],
   "source": [
    "# Install"
   ]
  },
  {
   "cell_type": "code",
   "execution_count": null,
   "metadata": {
    "id": "x-5kgbN3ifHI"
   },
   "outputs": [],
   "source": [
    "# Import\n",
    "from pandas import read_csv, DataFrame\n",
    "import numpy as np\n",
    "\n",
    "from sklearn.impute import SimpleImputer\n",
    "from sklearn.preprocessing import OrdinalEncoder, StandardScaler\n",
    "from sklearn.pipeline import Pipeline\n",
    "from sklearn.compose import ColumnTransformer\n",
    "from sklearn.model_selection import train_test_split\n",
    "from sklearn.tree import DecisionTreeRegressor\n",
    "from sklearn.metrics import r2_score, mean_absolute_error\n",
    "\n",
    "import plotly.express as px\n",
    "import plotly.subplots as sp\n",
    "import matplotlib.pyplot as plt"
   ]
  },
  {
   "cell_type": "code",
   "execution_count": null,
   "metadata": {
    "id": "ph6OYnKyifHJ"
   },
   "outputs": [],
   "source": [
    "# Warnung ausstellen\n",
    "import warnings\n",
    "warnings.filterwarnings(\"ignore\")"
   ]
  },
  {
   "cell_type": "markdown",
   "metadata": {
    "id": "j363OvBSifHJ"
   },
   "source": "# 1 | Understand\n***"
  },
  {
   "cell_type": "markdown",
   "metadata": {
    "id": "cOr1x-thifHK"
   },
   "source": [
    "<font color='black' size=\"5\">📋 Checkliste</font>\n",
    "\n",
    "✅ Aufgabe verstehen</br>\n",
    "✅ Daten sammeln</br>\n",
    "✅ Statistische Analyse (Min, Max, Mean, Korrelation, ...)</br>\n",
    "✅ Datenvisualisierung (Streudiagramm, Box-Plot, ...)</br>\n",
    "✅ Prepare Schritte festlegen</br>"
   ]
  },
  {
   "cell_type": "markdown",
   "metadata": {
    "id": "vPQkEpdhifHL"
   },
   "source": [
    "<font color='black' size=\"5\">\n",
    "Anwendungsfall\n",
    "</font>\n",
    "\n",
    "---\n",
    "\n",
    "Dieser klassische Datensatz enthält die Preise und andere Attribute von fast 54.000 Diamanten.\n",
    "\n",
    "\n",
    "\n",
    "[DataSet](https://www.openml.org/search?type=data&status=active&id=42225)\n",
    "\n",
    "[Info](https://www.kaggle.com/datasets/shivam2503/diamonds)"
   ]
  },
  {
   "cell_type": "code",
   "execution_count": null,
   "metadata": {
    "id": "d2quTLBsifHM"
   },
   "outputs": [],
   "source": [
    "df = read_csv(\n",
    "    \"https://raw.githubusercontent.com/ralf-42/ML_Intro/main/02%20data/diamonds.csv\",\n",
    "    usecols=[ \"carat\", \"cut\", \"color\", \"clarity\", \"depth\", \"table\", \"price\", ])"
   ]
  },
  {
   "cell_type": "code",
   "execution_count": null,
   "metadata": {
    "id": "h66DibiEifHN"
   },
   "outputs": [],
   "source": [
    "data = df.copy()\n",
    "target = data.pop(\"price\")"
   ]
  },
  {
   "cell_type": "markdown",
   "metadata": {
    "id": "WKHIBcZJifHP"
   },
   "source": "# 2 |  Prepare\n\n---"
  },
  {
   "cell_type": "markdown",
   "metadata": {
    "id": "pgzATqjPifHP"
   },
   "source": [
    "<font color='black' size=\"5\">📋 Checkliste</font>\n",
    "\n",
    "✅ Nicht benötigte Features löschen</br>\n",
    "✅ Datentyp ermitteln/ändern</br>\n",
    "✅ Duplikate ermitteln/löschen</br>\n",
    "✅ Missing Values behandeln</br>\n",
    "✅ Ausreißer behandeln</br>\n",
    "✅ Kategorischer Features Kodieren</br>\n",
    "✅ Numerischer Features skalieren</br>\n",
    "✅ Feature-Engineering (neue Features schaffen)</br>\n",
    "✅ Dimensionalität reduzieren</br>\n",
    "✅ Resampling (Over-/Undersampling)</br>\n",
    "✅ Pipeline erstellen/konfigurieren</br>\n",
    "✅ Train-Test-Split durchführen</br>"
   ]
  },
  {
   "cell_type": "markdown",
   "metadata": {
    "id": "LUGf9W_zifHP"
   },
   "source": [
    "<font color='black' size=\"5\">\n",
    "Datentyp ermitteln\n",
    "</font>"
   ]
  },
  {
   "cell_type": "code",
   "execution_count": null,
   "metadata": {
    "id": "XtS7InVtifHQ"
   },
   "outputs": [],
   "source": [
    "all_col = data.columns\n",
    "num_col = data.select_dtypes(include=\"number\").columns\n",
    "cat_col = data.select_dtypes(exclude=\"number\").columns"
   ]
  },
  {
   "cell_type": "markdown",
   "metadata": {
    "id": "9EOgBPvwifHQ"
   },
   "source": [
    "<font color='black' size=\"5\">\n",
    "Missing Values & Kodierung - Pipeline für kategoriale Features\n",
    "</font>"
   ]
  },
  {
   "cell_type": "code",
   "execution_count": null,
   "metadata": {
    "id": "YTpswT9BifHQ"
   },
   "outputs": [],
   "source": [
    "pipe_cat = Pipeline(\n",
    "    [\n",
    "        (\"imputer_c\", SimpleImputer(strategy=\"most_frequent\")),\n",
    "        (\"encoder\",OrdinalEncoder(unknown_value=999, handle_unknown=\"use_encoded_value\")),\n",
    "    ]\n",
    ")"
   ]
  },
  {
   "cell_type": "markdown",
   "metadata": {
    "id": "IgPwhFMwifHQ"
   },
   "source": [
    "<font color='black' size=\"5\">\n",
    "Missing Values & Skalierung - Pieline für numerische Features\n",
    "</font>"
   ]
  },
  {
   "cell_type": "code",
   "execution_count": null,
   "metadata": {
    "id": "fIW3IP-zifHQ"
   },
   "outputs": [],
   "source": [
    "pipe_num = Pipeline(\n",
    "    [(\"imputer_n\", SimpleImputer(strategy=\"mean\")), (\"scaler\", StandardScaler())]\n",
    ")"
   ]
  },
  {
   "cell_type": "markdown",
   "metadata": {
    "id": "EW--WmM6ifHQ"
   },
   "source": [
    "<font color='black' size=\"5\">\n",
    "Verbinden der beiden Pipelines zu einer Prepare-Pipeline\n",
    "</font>"
   ]
  },
  {
   "cell_type": "code",
   "execution_count": null,
   "metadata": {
    "id": "y6KQg1S-ifHQ"
   },
   "outputs": [],
   "source": [
    "pipe_prepare = ColumnTransformer(\n",
    "    transformers=[(\"categorical\", pipe_cat, cat_col), (\"numerical\", pipe_num, num_col)]\n",
    ")"
   ]
  },
  {
   "cell_type": "markdown",
   "metadata": {
    "id": "YJLNwQ3NifHR"
   },
   "source": [
    "<font color='black' size=\"5\">\n",
    "Train-Test-Set\n",
    "</font>"
   ]
  },
  {
   "cell_type": "code",
   "execution_count": null,
   "metadata": {
    "id": "FXuXQN0KifHR"
   },
   "outputs": [],
   "source": [
    "data_train, data_test, target_train, target_test = train_test_split(\n",
    "    data, target, test_size=0.30, shuffle=True, random_state=42\n",
    ")\n",
    "data_train.shape, data_test.shape, target_train.shape, target_test.shape"
   ]
  },
  {
   "cell_type": "markdown",
   "metadata": {
    "id": "ZNaCP3fsifHR"
   },
   "source": "# 3 |  Modeling\n---"
  },
  {
   "cell_type": "markdown",
   "metadata": {
    "id": "q7jfQi0OifHR"
   },
   "source": [
    " <font color='black' size=\"5\">\n",
    "Modellauswahl, Verbinden Prepare- & Model-Pipeline, Training\n",
    "</font>"
   ]
  },
  {
   "cell_type": "markdown",
   "metadata": {
    "id": "9UR3VHMsifHR"
   },
   "source": [
    "<font color='black' size=\"5\">📋 Checkliste</font>\n",
    "\n",
    "✅ Modellauswahl treffen</br>\n",
    "✅ Pipeline erweitern/konfigurieren</br>\n",
    "✅ Training durchführen</br>\n",
    "✅ Hyperparameter Tuning</br>\n",
    "✅ Cross-Valdiation</br>\n",
    "✅ Bootstrapping</br>\n",
    "✅ Regularization</br>"
   ]
  },
  {
   "cell_type": "code",
   "source": [
    "# Create a separate pipeline for the model\n",
    "pipe_model = Pipeline([(\"tree\", DecisionTreeRegressor(max_depth=4, min_samples_split=50))])"
   ],
   "metadata": {
    "id": "i8YHNvY0e74E"
   },
   "execution_count": null,
   "outputs": []
  },
  {
   "cell_type": "code",
   "source": [
    "# Combine the prepare and model pipelines\n",
    "model = Pipeline([(\"prepare\", pipe_prepare), (\"model\", pipe_model)])"
   ],
   "metadata": {
    "id": "1iQlDiDbfTLk"
   },
   "execution_count": null,
   "outputs": []
  },
  {
   "cell_type": "code",
   "execution_count": null,
   "metadata": {
    "id": "jEiyBkeyifHR"
   },
   "outputs": [],
   "source": [
    "model.fit(data_train, target_train)"
   ]
  },
  {
   "cell_type": "markdown",
   "metadata": {
    "id": "RCqpn-GUifHS"
   },
   "source": "# 4 | Evaluate\n---"
  },
  {
   "cell_type": "markdown",
   "metadata": {
    "id": "193IGriVifHS"
   },
   "source": [
    "<font color='black' size=\"5\">📋 Checkliste</font>\n",
    "\n",
    "✅ Prognose (Train, Test) erstellen</br>\n",
    "✅ Modellgüte prüfen</br>\n",
    "✅ Residuenanalyse erstellen</br>\n",
    "✅ Feature Importance/Selektion prüfen</br>\n",
    "✅ Robustheitstest erstellen</br>\n",
    "✅ Modellinterpretation erstellen</br>\n",
    "✅ Sensitivitätsanalyse erstellen</br>\n",
    "✅ Kommunikation (Key Takeaways)</br>"
   ]
  },
  {
   "cell_type": "markdown",
   "metadata": {
    "id": "qtrWoHXxifHS"
   },
   "source": [
    "<font color='black' size=\"5\">\n",
    "Prediction\n",
    "</font>"
   ]
  },
  {
   "cell_type": "code",
   "execution_count": null,
   "metadata": {
    "id": "u8kqKSW0ifHS"
   },
   "outputs": [],
   "source": [
    "target_train_pred = model.predict(data_train)\n",
    "target_test_pred = model.predict(data_test)"
   ]
  },
  {
   "cell_type": "markdown",
   "metadata": {
    "id": "YJj7JquyifHS"
   },
   "source": [
    "<font color='black' size=\"5\">\n",
    "Bestimmtheitsmass\n",
    "</font>"
   ]
  },
  {
   "cell_type": "code",
   "execution_count": null,
   "metadata": {
    "id": "6tSiwKlJifHS"
   },
   "outputs": [],
   "source": [
    "r2 = r2_score(target_train, target_train_pred)\n",
    "print(f\"-- Train --- Bestimmtheitsmass: {r2:5.2f}\")"
   ]
  },
  {
   "cell_type": "code",
   "execution_count": null,
   "metadata": {
    "id": "jGBkorVgifHS"
   },
   "outputs": [],
   "source": [
    "r2 = r2_score(target_test, target_test_pred)\n",
    "print(f\"-- Test --- Bestimmtheitsmass: {r2:5.2f}\")"
   ]
  },
  {
   "cell_type": "markdown",
   "metadata": {
    "id": "EZKIUSvcifHS"
   },
   "source": [
    "<font color='black' size=\"5\">\n",
    "Mean Absolut Error\n",
    "</font>"
   ]
  },
  {
   "cell_type": "code",
   "execution_count": null,
   "metadata": {
    "id": "UGCho9CXifHa"
   },
   "outputs": [],
   "source": [
    "mae = mean_absolute_error(target_test, target_test_pred)\n",
    "print(f\"-- Test -- Mean Absolute Error: {mae:5.2f}\")"
   ]
  },
  {
   "cell_type": "markdown",
   "metadata": {
    "id": "K49kikTRifHb"
   },
   "source": [
    "<font color='black' size=\"5\">\n",
    "Analyse von Zwischenschritten einer Pipeline\n",
    "</font>"
   ]
  },
  {
   "cell_type": "code",
   "execution_count": null,
   "metadata": {
    "id": "w-UfbUtMifHb"
   },
   "outputs": [],
   "source": [
    "# Konfiguration Pipeline 'prepare'\n",
    "model.named_steps.prepare"
   ]
  },
  {
   "cell_type": "code",
   "execution_count": null,
   "metadata": {
    "id": "qa9wLKMdifHb"
   },
   "outputs": [],
   "source": [
    "# Mittelwerte der skalierten Features\n",
    "pipe_prepare.named_transformers_[\"numerical\"].named_steps[\"scaler\"].mean_"
   ]
  },
  {
   "cell_type": "code",
   "execution_count": null,
   "metadata": {
    "id": "MlV-xOtpifHb"
   },
   "outputs": [],
   "source": [
    "# Anzahl der in DecisionTreeRegression verwendeten Features\n",
    "model.named_steps[\"model\"].named_steps[\"tree\"].n_features_in_"
   ]
  },
  {
   "cell_type": "markdown",
   "source": [
    "<font color='black' size=\"5\">\n",
    "Feature Importance\n",
    "</font>"
   ],
   "metadata": {
    "id": "Cjt2_m1zjf8y"
   }
  },
  {
   "cell_type": "code",
   "source": [
    "# Feature Importance vom DecisionTree\n",
    "importance = model.named_steps[\"model\"].named_steps[\"tree\"].feature_importances_\n",
    "print(\"Feature Importance Values:\")\n",
    "for i, imp in enumerate(importance):\n",
    "    print(f\"Feature {i}: {imp:.4f}\")"
   ],
   "metadata": {
    "id": "Lw4Pf_HOjf8y"
   },
   "execution_count": null,
   "outputs": []
  },
  {
   "cell_type": "code",
   "source": [
    "# Feature Namen zuordnen\n",
    "# Nach ColumnTransformer: [categorical features] + [numerical features]\n",
    "feature_names = list(cat_col) + list(num_col)\n",
    "print(\"Feature Names nach Transformation:\")\n",
    "print(feature_names)\n",
    "\n",
    "# Feature Importance mit Namen\n",
    "feature_importance_df = DataFrame({\n",
    "    'Feature': feature_names,\n",
    "    'Importance': importance\n",
    "}).sort_values('Importance', ascending=False)\n",
    "\n",
    "print(\"\\nFeature Importance (sortiert):\")\n",
    "print(feature_importance_df)"
   ],
   "metadata": {
    "id": "OTeY4Ld3jf8z"
   },
   "execution_count": null,
   "outputs": []
  },
  {
   "cell_type": "code",
   "source": [
    "# Alternative Visualisierung mit Plotly\n",
    "fig = px.bar(feature_importance_df,\n",
    "             x='Importance',\n",
    "             y='Feature',\n",
    "             orientation='h',\n",
    "             title='Decision Tree - Feature Importance',\n",
    "             labels={'Importance': 'Feature Importance', 'Feature': 'Features'})\n",
    "fig.update_layout(yaxis={'categoryorder':'total ascending'})\n",
    "fig.show()"
   ],
   "metadata": {
    "id": "d285Yykjjf8z"
   },
   "execution_count": null,
   "outputs": []
  },
  {
   "cell_type": "markdown",
   "metadata": {
    "id": "IFHz3urwifHb"
   },
   "source": "# 5 | Deploy\n---"
  },
  {
   "cell_type": "markdown",
   "metadata": {
    "id": "5MSd3W0sifHb"
   },
   "source": [
    "<font color='black' size=\"5\">📋 Checkliste</font>\n",
    "\n",
    "✅ Modellexport und -speicherung</br>\n",
    "✅ Abhängigkeiten und Umgebung</br>\n",
    "✅ Sicherheit und Datenschutz</br>\n",
    "✅ In die Produktion integrieren</br>\n",
    "✅ Tests und Validierung</br>\n",
    "✅ Dokumentation & Wartung</br>"
   ]
  }
 ],
 "metadata": {
  "kernelspec": {
   "display_name": "Python 3",
   "language": "python",
   "name": "python3"
  },
  "language_info": {
   "codemirror_mode": {
    "name": "ipython",
    "version": 3
   },
   "file_extension": ".py",
   "mimetype": "text/x-python",
   "name": "python",
   "nbconvert_exporter": "python",
   "pygments_lexer": "ipython3",
   "version": "3.8.5"
  },
  "colab": {
   "provenance": [],
   "toc_visible": true,
   "collapsed_sections": [
    "H3yEj5YYifHF",
    "j363OvBSifHJ",
    "WKHIBcZJifHP",
    "ZNaCP3fsifHR",
    "RCqpn-GUifHS",
    "IFHz3urwifHb"
   ]
  }
 },
 "nbformat": 4,
 "nbformat_minor": 0
}